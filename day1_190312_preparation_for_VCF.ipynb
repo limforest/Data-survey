{
  "nbformat": 4,
  "nbformat_minor": 0,
  "metadata": {
    "colab": {
      "name": "day1_190312_preparation_for_VCF.ipynb",
      "version": "0.3.2",
      "provenance": [],
      "collapsed_sections": []
    },
    "kernelspec": {
      "name": "python3",
      "display_name": "Python 3"
    }
  },
  "cells": [
    {
      "metadata": {
        "id": "bjcEkn99ApwU",
        "colab_type": "code",
        "colab": {}
      },
      "cell_type": "code",
      "source": [
        "from google.colab import drive"
      ],
      "execution_count": 0,
      "outputs": []
    },
    {
      "metadata": {
        "id": "SH3nVAEpBjJJ",
        "colab_type": "code",
        "outputId": "fcea5c12-d88a-4b95-bf88-be3403910973",
        "colab": {
          "base_uri": "https://localhost:8080/",
          "height": 127
        }
      },
      "cell_type": "code",
      "source": [
        "drive.mount('/content/gdrive')\n",
        "\n",
        "# 아래의 주소에 들어가서 로그인, 권한허용 후 뜨는 코드 복사해서 authorization code 부분에 붙여넣어주기 \n",
        "# Mounted at /content/gdrive 라고 뜨면 가상환경과 gdrive가 연결되었음을 알 수 있다"
      ],
      "execution_count": 0,
      "outputs": [
        {
          "output_type": "stream",
          "text": [
            "Go to this URL in a browser: https://accounts.google.com/o/oauth2/auth?client_id=947318989803-6bn6qk8qdgf4n4g3pfee6491hc0brc4i.apps.googleusercontent.com&redirect_uri=urn%3Aietf%3Awg%3Aoauth%3A2.0%3Aoob&scope=email%20https%3A%2F%2Fwww.googleapis.com%2Fauth%2Fdocs.test%20https%3A%2F%2Fwww.googleapis.com%2Fauth%2Fdrive%20https%3A%2F%2Fwww.googleapis.com%2Fauth%2Fdrive.photos.readonly%20https%3A%2F%2Fwww.googleapis.com%2Fauth%2Fpeopleapi.readonly&response_type=code\n",
            "\n",
            "Enter your authorization code:\n",
            "··········\n",
            "Mounted at /content/gdrive\n"
          ],
          "name": "stdout"
        }
      ]
    },
    {
      "metadata": {
        "id": "PIBj2PFiB5cv",
        "colab_type": "code",
        "colab": {}
      },
      "cell_type": "code",
      "source": [
        "# for linux environment, 'ls' is listing files or directories of current directory"
      ],
      "execution_count": 0,
      "outputs": []
    },
    {
      "metadata": {
        "id": "kSJRUyu8CQbc",
        "colab_type": "code",
        "colab": {}
      },
      "cell_type": "code",
      "source": [
        "# 원래 ! 를 맨 앞에 붙여야 linux command가 실행되지만, 기본적인 command는 !를 빼도 된다."
      ],
      "execution_count": 0,
      "outputs": []
    },
    {
      "metadata": {
        "id": "AO6-T0nOCxAY",
        "colab_type": "code",
        "outputId": "d987ad6e-f0d3-48a7-9dde-ff7c6a92aaff",
        "colab": {
          "base_uri": "https://localhost:8080/",
          "height": 35
        }
      },
      "cell_type": "code",
      "source": [
        "ls"
      ],
      "execution_count": 0,
      "outputs": [
        {
          "output_type": "stream",
          "text": [
            "\u001b[0m\u001b[01;34mgdrive\u001b[0m/  \u001b[01;34msample_data\u001b[0m/\n"
          ],
          "name": "stdout"
        }
      ]
    },
    {
      "metadata": {
        "id": "x89L490TC2iI",
        "colab_type": "code",
        "outputId": "2f8dbe8d-a37e-482d-f02d-b6c9119c2243",
        "colab": {
          "base_uri": "https://localhost:8080/",
          "height": 35
        }
      },
      "cell_type": "code",
      "source": [
        "! ls\n",
        "\n",
        "# gdrive는 내 gdrive"
      ],
      "execution_count": 0,
      "outputs": [
        {
          "output_type": "stream",
          "text": [
            "gdrive\tsample_data\n"
          ],
          "name": "stdout"
        }
      ]
    },
    {
      "metadata": {
        "id": "gJNKdPwnC33s",
        "colab_type": "code",
        "colab": {}
      },
      "cell_type": "code",
      "source": [
        "# when you want to change working directory from here to there use 'cd'"
      ],
      "execution_count": 0,
      "outputs": []
    },
    {
      "metadata": {
        "id": "d-Lt09IbDDdA",
        "colab_type": "code",
        "outputId": "1fb08019-c372-45d8-bfdc-f3ec82e04e02",
        "colab": {
          "base_uri": "https://localhost:8080/",
          "height": 35
        }
      },
      "cell_type": "code",
      "source": [
        "cd gdrive"
      ],
      "execution_count": 0,
      "outputs": [
        {
          "output_type": "stream",
          "text": [
            "/content/gdrive\n"
          ],
          "name": "stdout"
        }
      ]
    },
    {
      "metadata": {
        "id": "y17IZjBcDEtB",
        "colab_type": "code",
        "outputId": "47681634-7f6b-4fe6-ed68-f5821b029cf6",
        "colab": {
          "base_uri": "https://localhost:8080/",
          "height": 35
        }
      },
      "cell_type": "code",
      "source": [
        "ls"
      ],
      "execution_count": 0,
      "outputs": [
        {
          "output_type": "stream",
          "text": [
            "\u001b[0m\u001b[01;34m'My Drive'\u001b[0m/\n"
          ],
          "name": "stdout"
        }
      ]
    },
    {
      "metadata": {
        "id": "tWxOEAeeDF20",
        "colab_type": "code",
        "colab": {}
      },
      "cell_type": "code",
      "source": [
        "# My Drive(내 드라이브)가 기본 directory이다.\n",
        "# blank엔 \\(역슬래쉬)를 넣어주어야 한다."
      ],
      "execution_count": 0,
      "outputs": []
    },
    {
      "metadata": {
        "id": "Cgo3ubFkDS-s",
        "colab_type": "code",
        "outputId": "d5ae5147-5901-4123-8fd3-b4563c107320",
        "colab": {
          "base_uri": "https://localhost:8080/",
          "height": 35
        }
      },
      "cell_type": "code",
      "source": [
        "cd My\\ Drive"
      ],
      "execution_count": 0,
      "outputs": [
        {
          "output_type": "stream",
          "text": [
            "/content/gdrive/My Drive\n"
          ],
          "name": "stdout"
        }
      ]
    },
    {
      "metadata": {
        "id": "HCdYRrHBDUUR",
        "colab_type": "code",
        "colab": {}
      },
      "cell_type": "code",
      "source": [
        "# mkdir is command for making new directory"
      ],
      "execution_count": 0,
      "outputs": []
    },
    {
      "metadata": {
        "id": "_zCc3ffsDbsI",
        "colab_type": "code",
        "outputId": "5b122e9f-91ed-4188-b7fd-c9b85207768e",
        "colab": {
          "base_uri": "https://localhost:8080/",
          "height": 34
        }
      },
      "cell_type": "code",
      "source": [
        "ls"
      ],
      "execution_count": 0,
      "outputs": [
        {
          "output_type": "stream",
          "text": [
            "\u001b[0m\u001b[01;34m2019_1_Horticultural_Biology_Information\u001b[0m/\n"
          ],
          "name": "stdout"
        }
      ]
    },
    {
      "metadata": {
        "id": "uIKmwt4bEOyH",
        "colab_type": "code",
        "colab": {}
      },
      "cell_type": "code",
      "source": [
        "mkdir hbi2019"
      ],
      "execution_count": 0,
      "outputs": []
    },
    {
      "metadata": {
        "id": "hrf5ju2LESAc",
        "colab_type": "code",
        "outputId": "e4b18d94-9446-4359-9906-1f90443b1661",
        "colab": {
          "base_uri": "https://localhost:8080/",
          "height": 35
        }
      },
      "cell_type": "code",
      "source": [
        "cd hbi2019/"
      ],
      "execution_count": 0,
      "outputs": [
        {
          "output_type": "stream",
          "text": [
            "/content/gdrive/My Drive/hbi2019\n"
          ],
          "name": "stdout"
        }
      ]
    },
    {
      "metadata": {
        "id": "k2GO6GaOEUL6",
        "colab_type": "code",
        "colab": {}
      },
      "cell_type": "code",
      "source": [
        "ls\n",
        "\n",
        "# 방금 만든 폴더라 아무것도 없음"
      ],
      "execution_count": 0,
      "outputs": []
    },
    {
      "metadata": {
        "id": "dBEK655hEY01",
        "colab_type": "code",
        "outputId": "bb453283-2803-42c1-d620-9e61f6c68605",
        "colab": {
          "base_uri": "https://localhost:8080/",
          "height": 34
        }
      },
      "cell_type": "code",
      "source": [
        "pwd\n",
        "\n",
        "# pwd will tell you where you are at"
      ],
      "execution_count": 0,
      "outputs": [
        {
          "output_type": "execute_result",
          "data": {
            "text/plain": [
              "'/content/gdrive/My Drive/hbi2019'"
            ]
          },
          "metadata": {
            "tags": []
          },
          "execution_count": 19
        }
      ]
    },
    {
      "metadata": {
        "id": "qil0KMpiEdGt",
        "colab_type": "code",
        "colab": {}
      },
      "cell_type": "code",
      "source": [
        "name = 'ParkHaLim'"
      ],
      "execution_count": 0,
      "outputs": []
    },
    {
      "metadata": {
        "id": "dxKcUYdpEhf_",
        "colab_type": "code",
        "outputId": "0f23729d-eafc-4751-cadc-4c1b2eb15ff3",
        "colab": {
          "base_uri": "https://localhost:8080/",
          "height": 34
        }
      },
      "cell_type": "code",
      "source": [
        "name"
      ],
      "execution_count": 0,
      "outputs": [
        {
          "output_type": "execute_result",
          "data": {
            "text/plain": [
              "'ParkHaLim'"
            ]
          },
          "metadata": {
            "tags": []
          },
          "execution_count": 21
        }
      ]
    },
    {
      "metadata": {
        "id": "C-zwWP0PEiR8",
        "colab_type": "code",
        "colab": {}
      },
      "cell_type": "code",
      "source": [
        "current_directory = !pwd"
      ],
      "execution_count": 0,
      "outputs": []
    },
    {
      "metadata": {
        "id": "tGrEPZMaElqZ",
        "colab_type": "code",
        "outputId": "6b8578e6-0792-4538-f567-a9237b2c8fe1",
        "colab": {
          "base_uri": "https://localhost:8080/",
          "height": 34
        }
      },
      "cell_type": "code",
      "source": [
        "current_directory"
      ],
      "execution_count": 0,
      "outputs": [
        {
          "output_type": "execute_result",
          "data": {
            "text/plain": [
              "['/content/gdrive/My Drive/hbi2019']"
            ]
          },
          "metadata": {
            "tags": []
          },
          "execution_count": 23
        }
      ]
    },
    {
      "metadata": {
        "id": "fiDzZ4sxEm1h",
        "colab_type": "code",
        "colab": {}
      },
      "cell_type": "code",
      "source": [
        "# python 명령과 linux 명령을 섞어쓸 수 있음"
      ],
      "execution_count": 0,
      "outputs": []
    },
    {
      "metadata": {
        "id": "VjmS5sv9Erjq",
        "colab_type": "code",
        "colab": {}
      },
      "cell_type": "code",
      "source": [
        "# E.coli에 대한 정보를 ncbi에서 불러와 snp 이용할 것"
      ],
      "execution_count": 0,
      "outputs": []
    },
    {
      "metadata": {
        "id": "U5jL17kVEw_7",
        "colab_type": "code",
        "colab": {}
      },
      "cell_type": "code",
      "source": [
        "# bwa aligner = Burrows-Wheeler Aligner 주로 이용됨 (http://bio-bwa.sourceforge.net/)\n",
        "\n",
        "# bwa, samtools, bcftools를 설치해줌"
      ],
      "execution_count": 0,
      "outputs": []
    },
    {
      "metadata": {
        "id": "TV3mS7EoEzEP",
        "colab_type": "code",
        "outputId": "d91ce074-7d10-441c-c0e5-dee01af09f07",
        "colab": {
          "base_uri": "https://localhost:8080/",
          "height": 386
        }
      },
      "cell_type": "code",
      "source": [
        "! apt install bwa "
      ],
      "execution_count": 0,
      "outputs": [
        {
          "output_type": "stream",
          "text": [
            "Reading package lists... Done\n",
            "Building dependency tree       \n",
            "Reading state information... Done\n",
            "The following package was automatically installed and is no longer required:\n",
            "  libnvidia-common-410\n",
            "Use 'apt autoremove' to remove it.\n",
            "Suggested packages:\n",
            "  samtools\n",
            "The following NEW packages will be installed:\n",
            "  bwa\n",
            "0 upgraded, 1 newly installed, 0 to remove and 10 not upgraded.\n",
            "Need to get 176 kB of archives.\n",
            "After this operation, 404 kB of additional disk space will be used.\n",
            "Get:1 http://archive.ubuntu.com/ubuntu bionic/universe amd64 bwa amd64 0.7.17-1 [176 kB]\n",
            "Fetched 176 kB in 1s (216 kB/s)\n",
            "Selecting previously unselected package bwa.\n",
            "(Reading database ... 131323 files and directories currently installed.)\n",
            "Preparing to unpack .../bwa_0.7.17-1_amd64.deb ...\n",
            "Unpacking bwa (0.7.17-1) ...\n",
            "Setting up bwa (0.7.17-1) ...\n",
            "Processing triggers for man-db (2.8.3-2ubuntu0.1) ...\n"
          ],
          "name": "stdout"
        }
      ]
    },
    {
      "metadata": {
        "id": "7LPYkqlOE3LV",
        "colab_type": "code",
        "outputId": "2464023b-570b-4e38-d769-c8c652fd3525",
        "colab": {
          "base_uri": "https://localhost:8080/",
          "height": 3891
        }
      },
      "cell_type": "code",
      "source": [
        "! apt install samtools"
      ],
      "execution_count": 0,
      "outputs": [
        {
          "output_type": "stream",
          "text": [
            "Reading package lists... Done\n",
            "Building dependency tree       \n",
            "Reading state information... Done\n",
            "The following package was automatically installed and is no longer required:\n",
            "  libnvidia-common-410\n",
            "Use 'apt autoremove' to remove it.\n",
            "The following additional packages will be installed:\n",
            "  cwltool libc-ares2 libhts2 libhttp-parser2.7.1 libjs-bootstrap nodejs\n",
            "  nodejs-doc python-asn1crypto python-avro python-cachecontrol python-certifi\n",
            "  python-cffi-backend python-chardet python-cryptography python-enum34\n",
            "  python-html5lib python-idna python-ipaddress python-isodate python-lockfile\n",
            "  python-mistune python-openssl python-pkg-resources python-pyparsing\n",
            "  python-rdflib python-rdflib-jsonld python-requests python-ruamel.yaml\n",
            "  python-schema-salad python-shellescape python-six python-sparqlwrapper\n",
            "  python-typing python-urllib3 python-webencodings\n",
            "Suggested packages:\n",
            "  python-cryptography-doc python-cryptography-vectors python-enum34-doc\n",
            "  python-genshi python-lockfile-doc python-openssl-doc python-openssl-dbg\n",
            "  python-setuptools python-pyparsing-doc python-rdflib-doc python-rdflib-tools\n",
            "  python-socks python-ntlm\n",
            "The following NEW packages will be installed:\n",
            "  cwltool libc-ares2 libhts2 libhttp-parser2.7.1 libjs-bootstrap nodejs\n",
            "  nodejs-doc python-asn1crypto python-avro python-cachecontrol python-certifi\n",
            "  python-cffi-backend python-chardet python-cryptography python-enum34\n",
            "  python-html5lib python-idna python-ipaddress python-isodate python-lockfile\n",
            "  python-mistune python-openssl python-pkg-resources python-pyparsing\n",
            "  python-rdflib python-rdflib-jsonld python-requests python-ruamel.yaml\n",
            "  python-schema-salad python-shellescape python-six python-sparqlwrapper\n",
            "  python-typing python-urllib3 python-webencodings samtools\n",
            "0 upgraded, 36 newly installed, 0 to remove and 10 not upgraded.\n",
            "Need to get 8,533 kB of archives.\n",
            "After this operation, 40.8 MB of additional disk space will be used.\n",
            "Get:1 http://archive.ubuntu.com/ubuntu bionic/main amd64 python-pkg-resources all 39.0.1-2 [128 kB]\n",
            "Get:2 http://archive.ubuntu.com/ubuntu bionic/main amd64 python-six all 1.11.0-2 [11.3 kB]\n",
            "Get:3 http://archive.ubuntu.com/ubuntu bionic/universe amd64 python-isodate all 0.6.0-1 [23.8 kB]\n",
            "Get:4 http://archive.ubuntu.com/ubuntu bionic/main amd64 python-pyparsing all 2.2.0+dfsg1-2 [52.1 kB]\n",
            "Get:5 http://archive.ubuntu.com/ubuntu bionic/universe amd64 python-rdflib all 4.2.1-2 [237 kB]\n",
            "Get:6 http://archive.ubuntu.com/ubuntu bionic/main amd64 python-certifi all 2018.1.18-2 [144 kB]\n",
            "Get:7 http://archive.ubuntu.com/ubuntu bionic/main amd64 python-chardet all 3.0.4-1 [80.3 kB]\n",
            "Get:8 http://archive.ubuntu.com/ubuntu bionic/main amd64 python-idna all 2.6-1 [32.4 kB]\n",
            "Get:9 http://archive.ubuntu.com/ubuntu bionic/main amd64 python-urllib3 all 1.22-1 [85.1 kB]\n",
            "Get:10 http://archive.ubuntu.com/ubuntu bionic-updates/main amd64 python-requests all 2.18.4-2ubuntu0.1 [58.5 kB]\n",
            "Get:11 http://archive.ubuntu.com/ubuntu bionic/universe amd64 python-ruamel.yaml amd64 0.15.34-1 [183 kB]\n",
            "Get:12 http://archive.ubuntu.com/ubuntu bionic/universe amd64 python-cachecontrol all 0.11.7-1 [15.2 kB]\n",
            "Get:13 http://archive.ubuntu.com/ubuntu bionic/main amd64 python-lockfile all 1:0.12.2-2 [14.6 kB]\n",
            "Get:14 http://archive.ubuntu.com/ubuntu bionic/universe amd64 python-mistune all 0.8.3-2 [13.8 kB]\n",
            "Get:15 http://archive.ubuntu.com/ubuntu bionic/universe amd64 python-rdflib-jsonld all 0.4.0-3 [12.2 kB]\n",
            "Get:16 http://archive.ubuntu.com/ubuntu bionic/universe amd64 python-typing all 3.6.2-1 [22.2 kB]\n",
            "Get:17 http://archive.ubuntu.com/ubuntu bionic/universe amd64 python-avro all 1.8.2+dfsg-1 [23.2 kB]\n",
            "Get:18 http://archive.ubuntu.com/ubuntu bionic/universe amd64 libjs-bootstrap all 3.3.7+dfsg-2 [228 kB]\n",
            "Get:19 http://archive.ubuntu.com/ubuntu bionic/universe amd64 python-schema-salad all 2.6.20171201034858-3 [260 kB]\n",
            "Get:20 http://archive.ubuntu.com/ubuntu bionic/universe amd64 python-shellescape all 3.4.1-2 [4,432 B]\n",
            "Get:21 http://archive.ubuntu.com/ubuntu bionic/universe amd64 cwltool all 1.0.20180302231433-1 [143 kB]\n",
            "Get:22 http://archive.ubuntu.com/ubuntu bionic/universe amd64 libhts2 amd64 1.7-2 [300 kB]\n",
            "Get:23 http://archive.ubuntu.com/ubuntu bionic-updates/universe amd64 nodejs-doc all 8.10.0~dfsg-2ubuntu0.4 [752 kB]\n",
            "Get:24 http://archive.ubuntu.com/ubuntu bionic/main amd64 python-asn1crypto all 0.24.0-1 [72.7 kB]\n",
            "Get:25 http://archive.ubuntu.com/ubuntu bionic/main amd64 python-cffi-backend amd64 1.11.5-1 [63.4 kB]\n",
            "Get:26 http://archive.ubuntu.com/ubuntu bionic/main amd64 python-enum34 all 1.1.6-2 [34.8 kB]\n",
            "Get:27 http://archive.ubuntu.com/ubuntu bionic/main amd64 python-ipaddress all 1.0.17-1 [18.2 kB]\n",
            "Get:28 http://archive.ubuntu.com/ubuntu bionic-updates/main amd64 python-cryptography amd64 2.1.4-1ubuntu1.2 [221 kB]\n",
            "Get:29 http://archive.ubuntu.com/ubuntu bionic/main amd64 python-webencodings all 0.5-2 [10.3 kB]\n",
            "Get:30 http://archive.ubuntu.com/ubuntu bionic/main amd64 python-html5lib all 0.999999999-1 [83.6 kB]\n",
            "Get:31 http://archive.ubuntu.com/ubuntu bionic/main amd64 python-openssl all 17.5.0-1ubuntu1 [41.3 kB]\n",
            "Get:32 http://archive.ubuntu.com/ubuntu bionic/universe amd64 python-sparqlwrapper all 1.7.6-2 [21.8 kB]\n",
            "Get:33 http://archive.ubuntu.com/ubuntu bionic/universe amd64 samtools amd64 1.7-1 [288 kB]\n",
            "Get:34 http://archive.ubuntu.com/ubuntu bionic/main amd64 libc-ares2 amd64 1.14.0-1 [37.1 kB]\n",
            "Get:35 http://archive.ubuntu.com/ubuntu bionic/main amd64 libhttp-parser2.7.1 amd64 2.7.1-2 [20.6 kB]\n",
            "Get:36 http://archive.ubuntu.com/ubuntu bionic-updates/universe amd64 nodejs amd64 8.10.0~dfsg-2ubuntu0.4 [4,796 kB]\n",
            "Fetched 8,533 kB in 2s (3,682 kB/s)\n",
            "Extracting templates from packages: 100%\n",
            "Selecting previously unselected package python-pkg-resources.\n",
            "(Reading database ... 131340 files and directories currently installed.)\n",
            "Preparing to unpack .../00-python-pkg-resources_39.0.1-2_all.deb ...\n",
            "Unpacking python-pkg-resources (39.0.1-2) ...\n",
            "Selecting previously unselected package python-six.\n",
            "Preparing to unpack .../01-python-six_1.11.0-2_all.deb ...\n",
            "Unpacking python-six (1.11.0-2) ...\n",
            "Selecting previously unselected package python-isodate.\n",
            "Preparing to unpack .../02-python-isodate_0.6.0-1_all.deb ...\n",
            "Unpacking python-isodate (0.6.0-1) ...\n",
            "Selecting previously unselected package python-pyparsing.\n",
            "Preparing to unpack .../03-python-pyparsing_2.2.0+dfsg1-2_all.deb ...\n",
            "Unpacking python-pyparsing (2.2.0+dfsg1-2) ...\n",
            "Selecting previously unselected package python-rdflib.\n",
            "Preparing to unpack .../04-python-rdflib_4.2.1-2_all.deb ...\n",
            "Unpacking python-rdflib (4.2.1-2) ...\n",
            "Selecting previously unselected package python-certifi.\n",
            "Preparing to unpack .../05-python-certifi_2018.1.18-2_all.deb ...\n",
            "Unpacking python-certifi (2018.1.18-2) ...\n",
            "Selecting previously unselected package python-chardet.\n",
            "Preparing to unpack .../06-python-chardet_3.0.4-1_all.deb ...\n",
            "Unpacking python-chardet (3.0.4-1) ...\n",
            "Selecting previously unselected package python-idna.\n",
            "Preparing to unpack .../07-python-idna_2.6-1_all.deb ...\n",
            "Unpacking python-idna (2.6-1) ...\n",
            "Selecting previously unselected package python-urllib3.\n",
            "Preparing to unpack .../08-python-urllib3_1.22-1_all.deb ...\n",
            "Unpacking python-urllib3 (1.22-1) ...\n",
            "Selecting previously unselected package python-requests.\n",
            "Preparing to unpack .../09-python-requests_2.18.4-2ubuntu0.1_all.deb ...\n",
            "Unpacking python-requests (2.18.4-2ubuntu0.1) ...\n",
            "Selecting previously unselected package python-ruamel.yaml.\n",
            "Preparing to unpack .../10-python-ruamel.yaml_0.15.34-1_amd64.deb ...\n",
            "Unpacking python-ruamel.yaml (0.15.34-1) ...\n",
            "Selecting previously unselected package python-cachecontrol.\n",
            "Preparing to unpack .../11-python-cachecontrol_0.11.7-1_all.deb ...\n",
            "Unpacking python-cachecontrol (0.11.7-1) ...\n",
            "Selecting previously unselected package python-lockfile.\n",
            "Preparing to unpack .../12-python-lockfile_1%3a0.12.2-2_all.deb ...\n",
            "Unpacking python-lockfile (1:0.12.2-2) ...\n",
            "Selecting previously unselected package python-mistune.\n",
            "Preparing to unpack .../13-python-mistune_0.8.3-2_all.deb ...\n",
            "Unpacking python-mistune (0.8.3-2) ...\n",
            "Selecting previously unselected package python-rdflib-jsonld.\n",
            "Preparing to unpack .../14-python-rdflib-jsonld_0.4.0-3_all.deb ...\n",
            "Unpacking python-rdflib-jsonld (0.4.0-3) ...\n",
            "Selecting previously unselected package python-typing.\n",
            "Preparing to unpack .../15-python-typing_3.6.2-1_all.deb ...\n",
            "Unpacking python-typing (3.6.2-1) ...\n",
            "Selecting previously unselected package python-avro.\n",
            "Preparing to unpack .../16-python-avro_1.8.2+dfsg-1_all.deb ...\n",
            "Unpacking python-avro (1.8.2+dfsg-1) ...\n",
            "Selecting previously unselected package libjs-bootstrap.\n",
            "Preparing to unpack .../17-libjs-bootstrap_3.3.7+dfsg-2_all.deb ...\n",
            "Unpacking libjs-bootstrap (3.3.7+dfsg-2) ...\n",
            "Selecting previously unselected package python-schema-salad.\n",
            "Preparing to unpack .../18-python-schema-salad_2.6.20171201034858-3_all.deb ...\n",
            "Unpacking python-schema-salad (2.6.20171201034858-3) ...\n",
            "Selecting previously unselected package python-shellescape.\n",
            "Preparing to unpack .../19-python-shellescape_3.4.1-2_all.deb ...\n",
            "Unpacking python-shellescape (3.4.1-2) ...\n",
            "Selecting previously unselected package cwltool.\n",
            "Preparing to unpack .../20-cwltool_1.0.20180302231433-1_all.deb ...\n",
            "Unpacking cwltool (1.0.20180302231433-1) ...\n",
            "Selecting previously unselected package libhts2:amd64.\n",
            "Preparing to unpack .../21-libhts2_1.7-2_amd64.deb ...\n",
            "Unpacking libhts2:amd64 (1.7-2) ...\n",
            "Selecting previously unselected package nodejs-doc.\n",
            "Preparing to unpack .../22-nodejs-doc_8.10.0~dfsg-2ubuntu0.4_all.deb ...\n",
            "Unpacking nodejs-doc (8.10.0~dfsg-2ubuntu0.4) ...\n",
            "Selecting previously unselected package python-asn1crypto.\n",
            "Preparing to unpack .../23-python-asn1crypto_0.24.0-1_all.deb ...\n",
            "Unpacking python-asn1crypto (0.24.0-1) ...\n",
            "Selecting previously unselected package python-cffi-backend.\n",
            "Preparing to unpack .../24-python-cffi-backend_1.11.5-1_amd64.deb ...\n",
            "Unpacking python-cffi-backend (1.11.5-1) ...\n",
            "Selecting previously unselected package python-enum34.\n",
            "Preparing to unpack .../25-python-enum34_1.1.6-2_all.deb ...\n",
            "Unpacking python-enum34 (1.1.6-2) ...\n",
            "Selecting previously unselected package python-ipaddress.\n",
            "Preparing to unpack .../26-python-ipaddress_1.0.17-1_all.deb ...\n",
            "Unpacking python-ipaddress (1.0.17-1) ...\n",
            "Selecting previously unselected package python-cryptography.\n",
            "Preparing to unpack .../27-python-cryptography_2.1.4-1ubuntu1.2_amd64.deb ...\n",
            "Unpacking python-cryptography (2.1.4-1ubuntu1.2) ...\n",
            "Selecting previously unselected package python-webencodings.\n",
            "Preparing to unpack .../28-python-webencodings_0.5-2_all.deb ...\n",
            "Unpacking python-webencodings (0.5-2) ...\n",
            "Selecting previously unselected package python-html5lib.\n",
            "Preparing to unpack .../29-python-html5lib_0.999999999-1_all.deb ...\n",
            "Unpacking python-html5lib (0.999999999-1) ...\n",
            "Selecting previously unselected package python-openssl.\n",
            "Preparing to unpack .../30-python-openssl_17.5.0-1ubuntu1_all.deb ...\n",
            "Unpacking python-openssl (17.5.0-1ubuntu1) ...\n",
            "Selecting previously unselected package python-sparqlwrapper.\n",
            "Preparing to unpack .../31-python-sparqlwrapper_1.7.6-2_all.deb ...\n",
            "Unpacking python-sparqlwrapper (1.7.6-2) ...\n",
            "Selecting previously unselected package samtools.\n",
            "Preparing to unpack .../32-samtools_1.7-1_amd64.deb ...\n",
            "Unpacking samtools (1.7-1) ...\n",
            "Selecting previously unselected package libc-ares2:amd64.\n",
            "Preparing to unpack .../33-libc-ares2_1.14.0-1_amd64.deb ...\n",
            "Unpacking libc-ares2:amd64 (1.14.0-1) ...\n",
            "Selecting previously unselected package libhttp-parser2.7.1:amd64.\n",
            "Preparing to unpack .../34-libhttp-parser2.7.1_2.7.1-2_amd64.deb ...\n",
            "Unpacking libhttp-parser2.7.1:amd64 (2.7.1-2) ...\n",
            "Selecting previously unselected package nodejs.\n",
            "Preparing to unpack .../35-nodejs_8.10.0~dfsg-2ubuntu0.4_amd64.deb ...\n",
            "Unpacking nodejs (8.10.0~dfsg-2ubuntu0.4) ...\n",
            "Setting up python-idna (2.6-1) ...\n",
            "Setting up nodejs-doc (8.10.0~dfsg-2ubuntu0.4) ...\n",
            "Setting up libhttp-parser2.7.1:amd64 (2.7.1-2) ...\n",
            "Setting up python-asn1crypto (0.24.0-1) ...\n",
            "Setting up python-mistune (0.8.3-2) ...\n",
            "Setting up python-certifi (2018.1.18-2) ...\n",
            "Setting up python-avro (1.8.2+dfsg-1) ...\n",
            "Setting up python-pkg-resources (39.0.1-2) ...\n",
            "Setting up python-ruamel.yaml (0.15.34-1) ...\n",
            "Setting up python-cffi-backend (1.11.5-1) ...\n",
            "Setting up python-six (1.11.0-2) ...\n",
            "Processing triggers for libc-bin (2.27-3ubuntu1) ...\n",
            "Setting up python-isodate (0.6.0-1) ...\n",
            "Setting up python-shellescape (3.4.1-2) ...\n",
            "Setting up python-enum34 (1.1.6-2) ...\n",
            "Processing triggers for man-db (2.8.3-2ubuntu0.1) ...\n",
            "Setting up libjs-bootstrap (3.3.7+dfsg-2) ...\n",
            "Setting up python-lockfile (1:0.12.2-2) ...\n",
            "Setting up python-ipaddress (1.0.17-1) ...\n",
            "Setting up libc-ares2:amd64 (1.14.0-1) ...\n",
            "Setting up libhts2:amd64 (1.7-2) ...\n",
            "Setting up python-webencodings (0.5-2) ...\n",
            "Setting up python-typing (3.6.2-1) ...\n",
            "Setting up python-pyparsing (2.2.0+dfsg1-2) ...\n",
            "Setting up python-urllib3 (1.22-1) ...\n",
            "Setting up python-chardet (3.0.4-1) ...\n",
            "Setting up nodejs (8.10.0~dfsg-2ubuntu0.4) ...\n",
            "update-alternatives: using /usr/bin/nodejs to provide /usr/bin/js (js) in auto mode\n",
            "Setting up python-rdflib (4.2.1-2) ...\n",
            "Setting up python-sparqlwrapper (1.7.6-2) ...\n",
            "Setting up python-rdflib-jsonld (0.4.0-3) ...\n",
            "Setting up python-cryptography (2.1.4-1ubuntu1.2) ...\n",
            "Setting up python-requests (2.18.4-2ubuntu0.1) ...\n",
            "Setting up python-cachecontrol (0.11.7-1) ...\n",
            "Setting up python-schema-salad (2.6.20171201034858-3) ...\n",
            "Setting up python-html5lib (0.999999999-1) ...\n",
            "Setting up samtools (1.7-1) ...\n",
            "Setting up python-openssl (17.5.0-1ubuntu1) ...\n",
            "Setting up cwltool (1.0.20180302231433-1) ...\n",
            "Processing triggers for libc-bin (2.27-3ubuntu1) ...\n"
          ],
          "name": "stdout"
        }
      ]
    },
    {
      "metadata": {
        "id": "YPHksdQzFTI1",
        "colab_type": "code",
        "outputId": "715b8f6d-6146-44b9-b9e2-af2f698dfa4a",
        "colab": {
          "base_uri": "https://localhost:8080/",
          "height": 406
        }
      },
      "cell_type": "code",
      "source": [
        "! apt install bcftools"
      ],
      "execution_count": 0,
      "outputs": [
        {
          "output_type": "stream",
          "text": [
            "Reading package lists... Done\n",
            "Building dependency tree       \n",
            "Reading state information... Done\n",
            "The following package was automatically installed and is no longer required:\n",
            "  libnvidia-common-410\n",
            "Use 'apt autoremove' to remove it.\n",
            "Suggested packages:\n",
            "  python-matplotlib texlive-latex-recommended\n",
            "The following NEW packages will be installed:\n",
            "  bcftools\n",
            "0 upgraded, 1 newly installed, 0 to remove and 10 not upgraded.\n",
            "Need to get 503 kB of archives.\n",
            "After this operation, 1,671 kB of additional disk space will be used.\n",
            "Get:1 http://archive.ubuntu.com/ubuntu bionic/universe amd64 bcftools amd64 1.7-2 [503 kB]\n",
            "Fetched 503 kB in 1s (492 kB/s)\n",
            "Selecting previously unselected package bcftools.\n",
            "(Reading database ... 132784 files and directories currently installed.)\n",
            "Preparing to unpack .../bcftools_1.7-2_amd64.deb ...\n",
            "Unpacking bcftools (1.7-2) ...\n",
            "Processing triggers for man-db (2.8.3-2ubuntu0.1) ...\n",
            "Setting up bcftools (1.7-2) ...\n"
          ],
          "name": "stdout"
        }
      ]
    },
    {
      "metadata": {
        "id": "fe4YM7ZBFYCM",
        "colab_type": "code",
        "colab": {}
      },
      "cell_type": "code",
      "source": [
        "# Google에 ncbi genome e.coli라고 검색\n",
        "# Genomes - Genome - NCBI 에 접속 (https://www.ncbi.nlm.nih.gov/genome/genomes/167)\n",
        "# 표의 column 부분 중 Release Date를 두 번 눌러 최신순으로 정렬한 후, 맨 위 자료 FTP 부분의 파란색버튼을 클릭\n",
        "# '/genomes/all/GCA/004/328/685/GCA_004328685.1_ASM432868v1의 색인'이라는 페이지에서 .genomic.fna.gz 파일부분을 우클릭 후 링크주소복사 \n",
        "## (ftp://ftp.ncbi.nlm.nih.gov/genomes/all/GCA/004/328/685/GCA_004328685.1_ASM432868v1/GCA_004328685.1_ASM432868v1_genomic.fna.gz)"
      ],
      "execution_count": 0,
      "outputs": []
    },
    {
      "metadata": {
        "id": "IUaPywPVGl3C",
        "colab_type": "code",
        "outputId": "2d1f4697-a60c-4a5c-8925-0cdcc8cec266",
        "colab": {
          "base_uri": "https://localhost:8080/",
          "height": 301
        }
      },
      "cell_type": "code",
      "source": [
        "! wget ftp://ftp.ncbi.nlm.nih.gov/genomes/all/GCA/004/328/685/GCA_004328685.1_ASM432868v1/GCA_004328685.1_ASM432868v1_genomic.fna.gz"
      ],
      "execution_count": 0,
      "outputs": [
        {
          "output_type": "stream",
          "text": [
            "--2019-03-12 08:53:25--  ftp://ftp.ncbi.nlm.nih.gov/genomes/all/GCA/004/328/685/GCA_004328685.1_ASM432868v1/GCA_004328685.1_ASM432868v1_genomic.fna.gz\n",
            "           => ‘GCA_004328685.1_ASM432868v1_genomic.fna.gz’\n",
            "Resolving ftp.ncbi.nlm.nih.gov (ftp.ncbi.nlm.nih.gov)... 130.14.250.12, 2607:f220:41e:250::11\n",
            "Connecting to ftp.ncbi.nlm.nih.gov (ftp.ncbi.nlm.nih.gov)|130.14.250.12|:21... connected.\n",
            "Logging in as anonymous ... Logged in!\n",
            "==> SYST ... done.    ==> PWD ... done.\n",
            "==> TYPE I ... done.  ==> CWD (1) /genomes/all/GCA/004/328/685/GCA_004328685.1_ASM432868v1 ... done.\n",
            "==> SIZE GCA_004328685.1_ASM432868v1_genomic.fna.gz ... 1441172\n",
            "==> PASV ... done.    ==> RETR GCA_004328685.1_ASM432868v1_genomic.fna.gz ... done.\n",
            "Length: 1441172 (1.4M) (unauthoritative)\n",
            "\n",
            "GCA_004328685.1_ASM 100%[===================>]   1.37M  2.59MB/s    in 0.5s    \n",
            "\n",
            "2019-03-12 08:53:27 (2.59 MB/s) - ‘GCA_004328685.1_ASM432868v1_genomic.fna.gz’ saved [1441172]\n",
            "\n"
          ],
          "name": "stdout"
        }
      ]
    },
    {
      "metadata": {
        "id": "Bhewj2RtGzDB",
        "colab_type": "code",
        "outputId": "b2345714-5c21-4c1f-e227-19737a3bea36",
        "colab": {
          "base_uri": "https://localhost:8080/",
          "height": 34
        }
      },
      "cell_type": "code",
      "source": [
        "ls"
      ],
      "execution_count": 0,
      "outputs": [
        {
          "output_type": "stream",
          "text": [
            "GCA_004328685.1_ASM432868v1_genomic.fna.gz\n"
          ],
          "name": "stdout"
        }
      ]
    },
    {
      "metadata": {
        "id": "Ft9bEicoG1AD",
        "colab_type": "code",
        "colab": {}
      },
      "cell_type": "code",
      "source": [
        "mkdir references"
      ],
      "execution_count": 0,
      "outputs": []
    },
    {
      "metadata": {
        "id": "cNn4uqabG3q-",
        "colab_type": "code",
        "colab": {}
      },
      "cell_type": "code",
      "source": [
        "# 'mv' is for move your file from here to there"
      ],
      "execution_count": 0,
      "outputs": []
    },
    {
      "metadata": {
        "id": "_zZbCMyGG8ZT",
        "colab_type": "code",
        "colab": {}
      },
      "cell_type": "code",
      "source": [
        "mv GCA_004328685.1_ASM432868v1_genomic.fna.gz references/"
      ],
      "execution_count": 0,
      "outputs": []
    },
    {
      "metadata": {
        "id": "ytGxwnMZG-4b",
        "colab_type": "code",
        "outputId": "307220a1-7d00-41bc-dc8a-5f1229bc6eca",
        "colab": {
          "base_uri": "https://localhost:8080/",
          "height": 34
        }
      },
      "cell_type": "code",
      "source": [
        "ls\n",
        "\n",
        "# references dir로 옮겨가 이 dir에선 볼 수 없음"
      ],
      "execution_count": 0,
      "outputs": [
        {
          "output_type": "stream",
          "text": [
            "\u001b[0m\u001b[01;34mreferences\u001b[0m/\n"
          ],
          "name": "stdout"
        }
      ]
    },
    {
      "metadata": {
        "id": "OGwNrAvoHBTB",
        "colab_type": "code",
        "outputId": "bce68663-aad7-4c43-9ba3-6fc98bb38c10",
        "colab": {
          "base_uri": "https://localhost:8080/",
          "height": 35
        }
      },
      "cell_type": "code",
      "source": [
        "cd references/"
      ],
      "execution_count": 0,
      "outputs": [
        {
          "output_type": "stream",
          "text": [
            "/content/gdrive/My Drive/hbi2019/references\n"
          ],
          "name": "stdout"
        }
      ]
    },
    {
      "metadata": {
        "id": "nsTZUF_oHITR",
        "colab_type": "code",
        "outputId": "3cd10087-404b-4876-9be0-fedd16678a83",
        "colab": {
          "base_uri": "https://localhost:8080/",
          "height": 34
        }
      },
      "cell_type": "code",
      "source": [
        "ls\n",
        "\n",
        "# references dir에서 확인 가능"
      ],
      "execution_count": 0,
      "outputs": [
        {
          "output_type": "stream",
          "text": [
            "GCA_004328685.1_ASM432868v1_genomic.fna.gz\n"
          ],
          "name": "stdout"
        }
      ]
    },
    {
      "metadata": {
        "id": "Cj1rFGidHKwk",
        "colab_type": "code",
        "colab": {}
      },
      "cell_type": "code",
      "source": [
        "! gzip -d GCA_004328685.1_ASM432868v1_genomic.fna.gz\n",
        "\n",
        "# 압축을 풀어준다"
      ],
      "execution_count": 0,
      "outputs": []
    },
    {
      "metadata": {
        "id": "mgJtoujAHSQ7",
        "colab_type": "code",
        "outputId": "eeb3a0cf-3632-425b-da3e-e7e3e1c10ab9",
        "colab": {
          "base_uri": "https://localhost:8080/",
          "height": 34
        }
      },
      "cell_type": "code",
      "source": [
        "ls\n",
        "\n",
        "# 압축이 풀어진 모습"
      ],
      "execution_count": 0,
      "outputs": [
        {
          "output_type": "stream",
          "text": [
            "GCA_004328685.1_ASM432868v1_genomic.fna\n"
          ],
          "name": "stdout"
        }
      ]
    },
    {
      "metadata": {
        "id": "y2R5bJEQHURz",
        "colab_type": "code",
        "outputId": "98cb6382-2d56-4409-e6fb-06d7ccdb99eb",
        "colab": {
          "base_uri": "https://localhost:8080/",
          "height": 193
        }
      },
      "cell_type": "code",
      "source": [
        "! head GCA_004328685.1_ASM432868v1_genomic.fna"
      ],
      "execution_count": 0,
      "outputs": [
        {
          "output_type": "stream",
          "text": [
            ">CP035312.1 Escherichia coli strain D72 chromosome, complete genome\n",
            "GTGTCACTTTCGCTTTGGCAGCAGTGTCTTGCCCGATTGCAGGATGAGTTACCAGCCACAGAATTCAGTATGTGGATACG\n",
            "CCCATTGCAGGCGGAACTGAGCGATAACACGCTGGCCCTGTACGCGCCAAACCGTTTTGTCCTCGATTGGGTACGGGACA\n",
            "AGTACCTTAATAATATCAATGGACTGCTAACCAGTTTCTGCGGAGCGGATGCCCCACAGCTGCGTTTTGAAGTCGGCACC\n",
            "AAACCGGTGACGCAAACGCCACAAGCGGCAGTGACGAGCAACGTCGCGGCCCCTGCACAGGTGGCGCAAACGCAGCCGCA\n",
            "ACGTGCTGCGCCTTCTACGCGCTCAGGTTGGGATAACGTCCCGGCCCCGGCAGAACCGACCTATCGTTCTAACGTAAACG\n",
            "TCAAACACACGTTTGATAACTTCGTTGAAGGTAAATCTAACCAACTGGCGCGCGCGGCGGCTCGCCAGGTGGCGGATAAC\n",
            "CCTGGCGGTGCCTATAACCCGTTGTTCCTTTATGGCGGCACGGGTCTGGGTAAAACTCACCTGCTGCATGCGGTGGGTAA\n",
            "CGGCATTATGGCGCGCAAGCCGAATGCCAAAGTGGTTTATATGCACTCCGAGCGCTTTGTTCAGGACATGGTTAAAGCCC\n",
            "TGCAAAACAACGCGATCGAAGAGTTTAAACGCTACTACCGTTCCGTAGATGCACTGCTGATCGACGATATTCAGTTTTTT\n"
          ],
          "name": "stdout"
        }
      ]
    },
    {
      "metadata": {
        "id": "PHAsrZz9HY5A",
        "colab_type": "code",
        "outputId": "ee21504e-41b1-494c-a296-21d3438ee7b2",
        "colab": {
          "base_uri": "https://localhost:8080/",
          "height": 175
        }
      },
      "cell_type": "code",
      "source": [
        "! bwa index GCA_004328685.1_ASM432868v1_genomic.fna\n",
        "\n",
        "# 나중에 read를 reference에 붙일 수 있도록 하기 위해 indexing"
      ],
      "execution_count": 0,
      "outputs": [
        {
          "output_type": "stream",
          "text": [
            "[bwa_index] Pack FASTA... 0.06 sec\n",
            "[bwa_index] Construct BWT for the packed sequence...\n",
            "[bwa_index] 3.30 seconds elapse.\n",
            "[bwa_index] Update BWT... 0.04 sec\n",
            "[bwa_index] Pack forward-only FASTA... 0.04 sec\n",
            "[bwa_index] Construct SA from BWT and Occ... 0.68 sec\n",
            "[main] Version: 0.7.17-r1188\n",
            "[main] CMD: bwa index GCA_004328685.1_ASM432868v1_genomic.fna\n",
            "[main] Real time: 4.216 sec; CPU: 4.134 sec\n"
          ],
          "name": "stdout"
        }
      ]
    },
    {
      "metadata": {
        "id": "AfR0LprzHf1g",
        "colab_type": "code",
        "outputId": "0f8c94e9-69f3-4593-c676-26abd9f7a3ed",
        "colab": {
          "base_uri": "https://localhost:8080/",
          "height": 122
        }
      },
      "cell_type": "code",
      "source": [
        "ls\n",
        "\n",
        "# index 되어진 모습"
      ],
      "execution_count": 0,
      "outputs": [
        {
          "output_type": "stream",
          "text": [
            "GCA_004328685.1_ASM432868v1_genomic.fna\n",
            "GCA_004328685.1_ASM432868v1_genomic.fna.amb\n",
            "GCA_004328685.1_ASM432868v1_genomic.fna.ann\n",
            "GCA_004328685.1_ASM432868v1_genomic.fna.bwt\n",
            "GCA_004328685.1_ASM432868v1_genomic.fna.pac\n",
            "GCA_004328685.1_ASM432868v1_genomic.fna.sa\n"
          ],
          "name": "stdout"
        }
      ]
    },
    {
      "metadata": {
        "id": "X2tm7C92Hi6V",
        "colab_type": "code",
        "outputId": "e1344334-d1a0-4b42-8293-658df5083248",
        "colab": {
          "base_uri": "https://localhost:8080/",
          "height": 35
        }
      },
      "cell_type": "code",
      "source": [
        "cd .."
      ],
      "execution_count": 0,
      "outputs": [
        {
          "output_type": "stream",
          "text": [
            "/content/gdrive/My Drive/hbi2019\n"
          ],
          "name": "stdout"
        }
      ]
    },
    {
      "metadata": {
        "id": "C6ubF-XmH7Ak",
        "colab_type": "code",
        "outputId": "fd2bfe53-53ad-415f-fffe-338038edad80",
        "colab": {
          "base_uri": "https://localhost:8080/",
          "height": 34
        }
      },
      "cell_type": "code",
      "source": [
        "ls"
      ],
      "execution_count": 0,
      "outputs": [
        {
          "output_type": "stream",
          "text": [
            "\u001b[0m\u001b[01;34mreferences\u001b[0m/\n"
          ],
          "name": "stdout"
        }
      ]
    },
    {
      "metadata": {
        "id": "ghh_SVBgH7uD",
        "colab_type": "code",
        "colab": {}
      },
      "cell_type": "code",
      "source": [
        "# Google에 ncbi sra라고 검색\n",
        "# Home - SRA - NCBI 에 접속 (https://www.ncbi.nlm.nih.gov/sra)\n",
        "# 검색창에 e.coli라고 검색\n",
        "# 왼쪽 편에 Source 부분 중 DNA 클릭\n",
        "# 오른쪽 편에 Results by taxon의 Top Organisms 부분 중 Escherichia coli 클릭\n",
        "# 맨 위에 있는 Other Sequencing of E.coli 클릭 (https://www.ncbi.nlm.nih.gov/sra/SRX5500109[accn])\n",
        "# Study ID인 SRP071789 클릭 (https://trace.ncbi.nlm.nih.gov/Traces/sra/?study=SRP071789)\n",
        "# 오른쪽 편의 Runs 부분에 있는 숫자 클릭 (https://trace.ncbi.nlm.nih.gov/Traces/study/?acc=SRP071789)\n",
        "# 아래의 표 중 organism이 Escherichia coli인 것 중 하나의 run id를 따온다"
      ],
      "execution_count": 0,
      "outputs": []
    },
    {
      "metadata": {
        "id": "tdlUS8KeJrex",
        "colab_type": "code",
        "colab": {}
      },
      "cell_type": "code",
      "source": [
        "sra_id = 'SRR8704599'"
      ],
      "execution_count": 0,
      "outputs": []
    },
    {
      "metadata": {
        "id": "VduFT43iJ28R",
        "colab_type": "code",
        "colab": {}
      },
      "cell_type": "code",
      "source": [
        "# Google에 sra toolkit이라고 검색\n",
        "# SRA Toolkit download - NCBI - NIH 에 접속 (https://www.ncbi.nlm.nih.gov/sra/docs/toolkitsoft/)\n",
        "# NCBI SRA Toolkit latest release compiled binaries and md5 checksums 항목의 Ubuntu Linux 64 bit architecture 부분을 우클릭 후 링크주소복사\n",
        "## (https://ftp-trace.ncbi.nlm.nih.gov/sra/sdk/current/sratoolkit.current-ubuntu64.tar.gz)"
      ],
      "execution_count": 0,
      "outputs": []
    },
    {
      "metadata": {
        "id": "HU7U-101Kxzw",
        "colab_type": "code",
        "outputId": "d3606dec-32c5-4092-943e-817044315dae",
        "colab": {
          "base_uri": "https://localhost:8080/",
          "height": 230
        }
      },
      "cell_type": "code",
      "source": [
        "! wget https://ftp-trace.ncbi.nlm.nih.gov/sra/sdk/current/sratoolkit.current-ubuntu64.tar.gz"
      ],
      "execution_count": 0,
      "outputs": [
        {
          "output_type": "stream",
          "text": [
            "--2019-03-12 09:11:24--  https://ftp-trace.ncbi.nlm.nih.gov/sra/sdk/current/sratoolkit.current-ubuntu64.tar.gz\n",
            "Resolving ftp-trace.ncbi.nlm.nih.gov (ftp-trace.ncbi.nlm.nih.gov)... 130.14.250.12, 2607:f220:41e:250::13\n",
            "Connecting to ftp-trace.ncbi.nlm.nih.gov (ftp-trace.ncbi.nlm.nih.gov)|130.14.250.12|:443... connected.\n",
            "HTTP request sent, awaiting response... 200 OK\n",
            "Length: 84529133 (81M) [application/x-gzip]\n",
            "Saving to: ‘sratoolkit.current-ubuntu64.tar.gz’\n",
            "\n",
            "sratoolkit.current- 100%[===================>]  80.61M  26.7MB/s    in 3.0s    \n",
            "\n",
            "2019-03-12 09:11:27 (26.7 MB/s) - ‘sratoolkit.current-ubuntu64.tar.gz’ saved [84529133/84529133]\n",
            "\n"
          ],
          "name": "stdout"
        }
      ]
    },
    {
      "metadata": {
        "id": "He8vx-9HK13A",
        "colab_type": "code",
        "outputId": "02a9985c-c50a-4aec-9ad1-5fd102bb6f4b",
        "colab": {
          "base_uri": "https://localhost:8080/",
          "height": 34
        }
      },
      "cell_type": "code",
      "source": [
        "ls"
      ],
      "execution_count": 0,
      "outputs": [
        {
          "output_type": "stream",
          "text": [
            "\u001b[0m\u001b[01;34mreferences\u001b[0m/  sratoolkit.current-ubuntu64.tar.gz\n"
          ],
          "name": "stdout"
        }
      ]
    },
    {
      "metadata": {
        "id": "MGctNa2iK92f",
        "colab_type": "code",
        "outputId": "c87a887a-5a59-45ee-daa4-7e9214198a1f",
        "colab": {
          "base_uri": "https://localhost:8080/",
          "height": 4877
        }
      },
      "cell_type": "code",
      "source": [
        "! tar -xvzf sratoolkit.current-ubuntu64.tar.gz"
      ],
      "execution_count": 0,
      "outputs": [
        {
          "output_type": "stream",
          "text": [
            "sratoolkit.2.9.4-1-ubuntu64/\n",
            "sratoolkit.2.9.4-1-ubuntu64/bin/\n",
            "sratoolkit.2.9.4-1-ubuntu64/bin/abi-dump\n",
            "tar: sratoolkit.2.9.4-1-ubuntu64/bin/abi-dump: Cannot create symlink to ‘abi-dump.2’: Function not implemented\n",
            "sratoolkit.2.9.4-1-ubuntu64/bin/abi-dump.2\n",
            "tar: sratoolkit.2.9.4-1-ubuntu64/bin/abi-dump.2: Cannot create symlink to ‘abi-dump.2.9.4’: Function not implemented\n",
            "sratoolkit.2.9.4-1-ubuntu64/bin/abi-dump.2.9.4\n",
            "sratoolkit.2.9.4-1-ubuntu64/bin/abi-load\n",
            "tar: sratoolkit.2.9.4-1-ubuntu64/bin/abi-load: Cannot create symlink to ‘abi-load.2’: Function not implemented\n",
            "sratoolkit.2.9.4-1-ubuntu64/bin/abi-load.2\n",
            "tar: sratoolkit.2.9.4-1-ubuntu64/bin/abi-load.2: Cannot create symlink to ‘abi-load.2.9.4’: Function not implemented\n",
            "sratoolkit.2.9.4-1-ubuntu64/bin/abi-load.2.9.4\n",
            "sratoolkit.2.9.4-1-ubuntu64/bin/align-info\n",
            "tar: sratoolkit.2.9.4-1-ubuntu64/bin/align-info: Cannot create symlink to ‘align-info.2’: Function not implemented\n",
            "sratoolkit.2.9.4-1-ubuntu64/bin/align-info.2\n",
            "tar: sratoolkit.2.9.4-1-ubuntu64/bin/align-info.2: Cannot create symlink to ‘align-info.2.9.4’: Function not implemented\n",
            "sratoolkit.2.9.4-1-ubuntu64/bin/align-info.2.9.4\n",
            "sratoolkit.2.9.4-1-ubuntu64/bin/bam-load\n",
            "tar: sratoolkit.2.9.4-1-ubuntu64/bin/bam-load: Cannot create symlink to ‘bam-load.2’: Function not implemented\n",
            "sratoolkit.2.9.4-1-ubuntu64/bin/bam-load.2\n",
            "tar: sratoolkit.2.9.4-1-ubuntu64/bin/bam-load.2: Cannot create symlink to ‘bam-load.2.9.4’: Function not implemented\n",
            "sratoolkit.2.9.4-1-ubuntu64/bin/bam-load.2.9.4\n",
            "sratoolkit.2.9.4-1-ubuntu64/bin/cache-mgr\n",
            "tar: sratoolkit.2.9.4-1-ubuntu64/bin/cache-mgr: Cannot create symlink to ‘cache-mgr.2’: Function not implemented\n",
            "sratoolkit.2.9.4-1-ubuntu64/bin/cache-mgr.2\n",
            "tar: sratoolkit.2.9.4-1-ubuntu64/bin/cache-mgr.2: Cannot create symlink to ‘cache-mgr.2.9.4’: Function not implemented\n",
            "sratoolkit.2.9.4-1-ubuntu64/bin/cache-mgr.2.9.4\n",
            "sratoolkit.2.9.4-1-ubuntu64/bin/cg-load\n",
            "tar: sratoolkit.2.9.4-1-ubuntu64/bin/cg-load: Cannot create symlink to ‘cg-load.2’: Function not implemented\n",
            "sratoolkit.2.9.4-1-ubuntu64/bin/cg-load.2\n",
            "tar: sratoolkit.2.9.4-1-ubuntu64/bin/cg-load.2: Cannot create symlink to ‘cg-load.2.9.4’: Function not implemented\n",
            "sratoolkit.2.9.4-1-ubuntu64/bin/cg-load.2.9.4\n",
            "sratoolkit.2.9.4-1-ubuntu64/bin/fastq-dump\n",
            "tar: sratoolkit.2.9.4-1-ubuntu64/bin/fastq-dump: Cannot create symlink to ‘fastq-dump.2’: Function not implemented\n",
            "sratoolkit.2.9.4-1-ubuntu64/bin/fastq-dump.2\n",
            "tar: sratoolkit.2.9.4-1-ubuntu64/bin/fastq-dump.2: Cannot create symlink to ‘fastq-dump.2.9.4’: Function not implemented\n",
            "sratoolkit.2.9.4-1-ubuntu64/bin/fastq-dump.2.9.4\n",
            "sratoolkit.2.9.4-1-ubuntu64/bin/fasterq-dump\n",
            "tar: sratoolkit.2.9.4-1-ubuntu64/bin/fasterq-dump: Cannot create symlink to ‘fasterq-dump.2’: Function not implemented\n",
            "sratoolkit.2.9.4-1-ubuntu64/bin/fasterq-dump.2\n",
            "tar: sratoolkit.2.9.4-1-ubuntu64/bin/fasterq-dump.2: Cannot create symlink to ‘fasterq-dump.2.9.4’: Function not implemented\n",
            "sratoolkit.2.9.4-1-ubuntu64/bin/fasterq-dump.2.9.4\n",
            "sratoolkit.2.9.4-1-ubuntu64/bin/fastq-load\n",
            "tar: sratoolkit.2.9.4-1-ubuntu64/bin/fastq-load: Cannot create symlink to ‘fastq-load.2’: Function not implemented\n",
            "sratoolkit.2.9.4-1-ubuntu64/bin/fastq-load.2\n",
            "tar: sratoolkit.2.9.4-1-ubuntu64/bin/fastq-load.2: Cannot create symlink to ‘fastq-load.2.9.4’: Function not implemented\n",
            "sratoolkit.2.9.4-1-ubuntu64/bin/fastq-load.2.9.4\n",
            "sratoolkit.2.9.4-1-ubuntu64/bin/helicos-load\n",
            "tar: sratoolkit.2.9.4-1-ubuntu64/bin/helicos-load: Cannot create symlink to ‘helicos-load.2’: Function not implemented\n",
            "sratoolkit.2.9.4-1-ubuntu64/bin/helicos-load.2\n",
            "tar: sratoolkit.2.9.4-1-ubuntu64/bin/helicos-load.2: Cannot create symlink to ‘helicos-load.2.9.4’: Function not implemented\n",
            "sratoolkit.2.9.4-1-ubuntu64/bin/helicos-load.2.9.4\n",
            "sratoolkit.2.9.4-1-ubuntu64/bin/illumina-dump\n",
            "tar: sratoolkit.2.9.4-1-ubuntu64/bin/illumina-dump: Cannot create symlink to ‘illumina-dump.2’: Function not implemented\n",
            "sratoolkit.2.9.4-1-ubuntu64/bin/illumina-dump.2\n",
            "tar: sratoolkit.2.9.4-1-ubuntu64/bin/illumina-dump.2: Cannot create symlink to ‘illumina-dump.2.9.4’: Function not implemented\n",
            "sratoolkit.2.9.4-1-ubuntu64/bin/illumina-dump.2.9.4\n",
            "sratoolkit.2.9.4-1-ubuntu64/bin/illumina-load\n",
            "tar: sratoolkit.2.9.4-1-ubuntu64/bin/illumina-load: Cannot create symlink to ‘illumina-load.2’: Function not implemented\n",
            "sratoolkit.2.9.4-1-ubuntu64/bin/illumina-load.2\n",
            "tar: sratoolkit.2.9.4-1-ubuntu64/bin/illumina-load.2: Cannot create symlink to ‘illumina-load.2.9.4’: Function not implemented\n",
            "sratoolkit.2.9.4-1-ubuntu64/bin/illumina-load.2.9.4\n",
            "sratoolkit.2.9.4-1-ubuntu64/bin/kar\n",
            "tar: sratoolkit.2.9.4-1-ubuntu64/bin/kar: Cannot create symlink to ‘kar.2’: Function not implemented\n",
            "sratoolkit.2.9.4-1-ubuntu64/bin/kar.2\n",
            "tar: sratoolkit.2.9.4-1-ubuntu64/bin/kar.2: Cannot create symlink to ‘kar.2.9.4’: Function not implemented\n",
            "sratoolkit.2.9.4-1-ubuntu64/bin/kar.2.9.4\n",
            "sratoolkit.2.9.4-1-ubuntu64/bin/kdbmeta\n",
            "tar: sratoolkit.2.9.4-1-ubuntu64/bin/kdbmeta: Cannot create symlink to ‘kdbmeta.2’: Function not implemented\n",
            "sratoolkit.2.9.4-1-ubuntu64/bin/kdbmeta.2\n",
            "tar: sratoolkit.2.9.4-1-ubuntu64/bin/kdbmeta.2: Cannot create symlink to ‘kdbmeta.2.9.4’: Function not implemented\n",
            "sratoolkit.2.9.4-1-ubuntu64/bin/kdbmeta.2.9.4\n",
            "sratoolkit.2.9.4-1-ubuntu64/bin/latf-load\n",
            "tar: sratoolkit.2.9.4-1-ubuntu64/bin/latf-load: Cannot create symlink to ‘latf-load.2’: Function not implemented\n",
            "sratoolkit.2.9.4-1-ubuntu64/bin/latf-load.2\n",
            "tar: sratoolkit.2.9.4-1-ubuntu64/bin/latf-load.2: Cannot create symlink to ‘latf-load.2.9.4’: Function not implemented\n",
            "sratoolkit.2.9.4-1-ubuntu64/bin/latf-load.2.9.4\n",
            "sratoolkit.2.9.4-1-ubuntu64/bin/prefetch\n",
            "tar: sratoolkit.2.9.4-1-ubuntu64/bin/prefetch: Cannot create symlink to ‘prefetch.2’: Function not implemented\n",
            "sratoolkit.2.9.4-1-ubuntu64/bin/prefetch.2\n",
            "tar: sratoolkit.2.9.4-1-ubuntu64/bin/prefetch.2: Cannot create symlink to ‘prefetch.2.9.4’: Function not implemented\n",
            "sratoolkit.2.9.4-1-ubuntu64/bin/prefetch.2.9.4\n",
            "sratoolkit.2.9.4-1-ubuntu64/bin/rcexplain\n",
            "tar: sratoolkit.2.9.4-1-ubuntu64/bin/rcexplain: Cannot create symlink to ‘rcexplain.2’: Function not implemented\n",
            "sratoolkit.2.9.4-1-ubuntu64/bin/rcexplain.2\n",
            "tar: sratoolkit.2.9.4-1-ubuntu64/bin/rcexplain.2: Cannot create symlink to ‘rcexplain.2.9.4’: Function not implemented\n",
            "sratoolkit.2.9.4-1-ubuntu64/bin/rcexplain.2.9.4\n",
            "sratoolkit.2.9.4-1-ubuntu64/bin/sam-dump\n",
            "tar: sratoolkit.2.9.4-1-ubuntu64/bin/sam-dump: Cannot create symlink to ‘sam-dump.2’: Function not implemented\n",
            "sratoolkit.2.9.4-1-ubuntu64/bin/sam-dump.2\n",
            "tar: sratoolkit.2.9.4-1-ubuntu64/bin/sam-dump.2: Cannot create symlink to ‘sam-dump.2.9.4’: Function not implemented\n",
            "sratoolkit.2.9.4-1-ubuntu64/bin/sam-dump.2.9.4\n",
            "sratoolkit.2.9.4-1-ubuntu64/bin/sff-dump\n",
            "tar: sratoolkit.2.9.4-1-ubuntu64/bin/sff-dump: Cannot create symlink to ‘sff-dump.2’: Function not implemented\n",
            "sratoolkit.2.9.4-1-ubuntu64/bin/sff-dump.2\n",
            "tar: sratoolkit.2.9.4-1-ubuntu64/bin/sff-dump.2: Cannot create symlink to ‘sff-dump.2.9.4’: Function not implemented\n",
            "sratoolkit.2.9.4-1-ubuntu64/bin/sff-dump.2.9.4\n",
            "sratoolkit.2.9.4-1-ubuntu64/bin/sff-load\n",
            "tar: sratoolkit.2.9.4-1-ubuntu64/bin/sff-load: Cannot create symlink to ‘sff-load.2’: Function not implemented\n",
            "sratoolkit.2.9.4-1-ubuntu64/bin/sff-load.2\n",
            "tar: sratoolkit.2.9.4-1-ubuntu64/bin/sff-load.2: Cannot create symlink to ‘sff-load.2.9.4’: Function not implemented\n",
            "sratoolkit.2.9.4-1-ubuntu64/bin/sff-load.2.9.4\n",
            "sratoolkit.2.9.4-1-ubuntu64/bin/sra-pileup\n",
            "tar: sratoolkit.2.9.4-1-ubuntu64/bin/sra-pileup: Cannot create symlink to ‘sra-pileup.2’: Function not implemented\n",
            "sratoolkit.2.9.4-1-ubuntu64/bin/sra-pileup.2\n",
            "tar: sratoolkit.2.9.4-1-ubuntu64/bin/sra-pileup.2: Cannot create symlink to ‘sra-pileup.2.9.4’: Function not implemented\n",
            "sratoolkit.2.9.4-1-ubuntu64/bin/sra-pileup.2.9.4\n",
            "sratoolkit.2.9.4-1-ubuntu64/bin/sra-sort-cg\n",
            "tar: sratoolkit.2.9.4-1-ubuntu64/bin/sra-sort-cg: Cannot create symlink to ‘sra-sort-cg.2’: Function not implemented\n",
            "sratoolkit.2.9.4-1-ubuntu64/bin/sra-sort-cg.2\n",
            "tar: sratoolkit.2.9.4-1-ubuntu64/bin/sra-sort-cg.2: Cannot create symlink to ‘sra-sort-cg.2.9.4’: Function not implemented\n",
            "sratoolkit.2.9.4-1-ubuntu64/bin/sra-sort-cg.2.9.4\n",
            "sratoolkit.2.9.4-1-ubuntu64/bin/sra-sort\n",
            "tar: sratoolkit.2.9.4-1-ubuntu64/bin/sra-sort: Cannot create symlink to ‘sra-sort.2’: Function not implemented\n",
            "sratoolkit.2.9.4-1-ubuntu64/bin/sra-sort.2\n",
            "tar: sratoolkit.2.9.4-1-ubuntu64/bin/sra-sort.2: Cannot create symlink to ‘sra-sort.2.9.4’: Function not implemented\n",
            "sratoolkit.2.9.4-1-ubuntu64/bin/sra-sort.2.9.4\n",
            "sratoolkit.2.9.4-1-ubuntu64/bin/sra-stat\n",
            "tar: sratoolkit.2.9.4-1-ubuntu64/bin/sra-stat: Cannot create symlink to ‘sra-stat.2’: Function not implemented\n",
            "sratoolkit.2.9.4-1-ubuntu64/bin/sra-stat.2\n",
            "tar: sratoolkit.2.9.4-1-ubuntu64/bin/sra-stat.2: Cannot create symlink to ‘sra-stat.2.9.4’: Function not implemented\n",
            "sratoolkit.2.9.4-1-ubuntu64/bin/sra-stat.2.9.4\n",
            "sratoolkit.2.9.4-1-ubuntu64/bin/srapath\n",
            "tar: sratoolkit.2.9.4-1-ubuntu64/bin/srapath: Cannot create symlink to ‘srapath.2’: Function not implemented\n",
            "sratoolkit.2.9.4-1-ubuntu64/bin/srapath.2\n",
            "tar: sratoolkit.2.9.4-1-ubuntu64/bin/srapath.2: Cannot create symlink to ‘srapath.2.9.4’: Function not implemented\n",
            "sratoolkit.2.9.4-1-ubuntu64/bin/srapath.2.9.4\n",
            "sratoolkit.2.9.4-1-ubuntu64/bin/srf-load\n",
            "tar: sratoolkit.2.9.4-1-ubuntu64/bin/srf-load: Cannot create symlink to ‘srf-load.2’: Function not implemented\n",
            "sratoolkit.2.9.4-1-ubuntu64/bin/srf-load.2\n",
            "tar: sratoolkit.2.9.4-1-ubuntu64/bin/srf-load.2: Cannot create symlink to ‘srf-load.2.9.4’: Function not implemented\n",
            "sratoolkit.2.9.4-1-ubuntu64/bin/srf-load.2.9.4\n",
            "sratoolkit.2.9.4-1-ubuntu64/bin/test-sra\n",
            "tar: sratoolkit.2.9.4-1-ubuntu64/bin/test-sra: Cannot create symlink to ‘test-sra.2’: Function not implemented\n",
            "sratoolkit.2.9.4-1-ubuntu64/bin/test-sra.2\n",
            "tar: sratoolkit.2.9.4-1-ubuntu64/bin/test-sra.2: Cannot create symlink to ‘test-sra.2.9.4’: Function not implemented\n",
            "sratoolkit.2.9.4-1-ubuntu64/bin/test-sra.2.9.4\n",
            "sratoolkit.2.9.4-1-ubuntu64/bin/vdb-config\n",
            "tar: sratoolkit.2.9.4-1-ubuntu64/bin/vdb-config: Cannot create symlink to ‘vdb-config.2’: Function not implemented\n",
            "sratoolkit.2.9.4-1-ubuntu64/bin/vdb-config.2\n",
            "tar: sratoolkit.2.9.4-1-ubuntu64/bin/vdb-config.2: Cannot create symlink to ‘vdb-config.2.9.4’: Function not implemented\n",
            "sratoolkit.2.9.4-1-ubuntu64/bin/vdb-config.2.9.4\n",
            "sratoolkit.2.9.4-1-ubuntu64/bin/vdb-copy\n",
            "tar: sratoolkit.2.9.4-1-ubuntu64/bin/vdb-copy: Cannot create symlink to ‘vdb-copy.2’: Function not implemented\n",
            "sratoolkit.2.9.4-1-ubuntu64/bin/vdb-copy.2\n",
            "tar: sratoolkit.2.9.4-1-ubuntu64/bin/vdb-copy.2: Cannot create symlink to ‘vdb-copy.2.9.4’: Function not implemented\n",
            "sratoolkit.2.9.4-1-ubuntu64/bin/vdb-copy.2.9.4\n",
            "sratoolkit.2.9.4-1-ubuntu64/bin/vdb-decrypt\n",
            "tar: sratoolkit.2.9.4-1-ubuntu64/bin/vdb-decrypt: Cannot create symlink to ‘vdb-decrypt.2’: Function not implemented\n",
            "sratoolkit.2.9.4-1-ubuntu64/bin/vdb-decrypt.2\n",
            "tar: sratoolkit.2.9.4-1-ubuntu64/bin/vdb-decrypt.2: Cannot create symlink to ‘vdb-decrypt.2.9.4’: Function not implemented\n",
            "sratoolkit.2.9.4-1-ubuntu64/bin/vdb-decrypt.2.9.4\n",
            "sratoolkit.2.9.4-1-ubuntu64/bin/vdb-dump\n",
            "tar: sratoolkit.2.9.4-1-ubuntu64/bin/vdb-dump: Cannot create symlink to ‘vdb-dump.2’: Function not implemented\n",
            "sratoolkit.2.9.4-1-ubuntu64/bin/vdb-dump.2\n",
            "tar: sratoolkit.2.9.4-1-ubuntu64/bin/vdb-dump.2: Cannot create symlink to ‘vdb-dump.2.9.4’: Function not implemented\n",
            "sratoolkit.2.9.4-1-ubuntu64/bin/vdb-dump.2.9.4\n",
            "sratoolkit.2.9.4-1-ubuntu64/bin/vdb-encrypt\n",
            "tar: sratoolkit.2.9.4-1-ubuntu64/bin/vdb-encrypt: Cannot create symlink to ‘vdb-encrypt.2’: Function not implemented\n",
            "sratoolkit.2.9.4-1-ubuntu64/bin/vdb-encrypt.2\n",
            "tar: sratoolkit.2.9.4-1-ubuntu64/bin/vdb-encrypt.2: Cannot create symlink to ‘vdb-encrypt.2.9.4’: Function not implemented\n",
            "sratoolkit.2.9.4-1-ubuntu64/bin/vdb-encrypt.2.9.4\n",
            "sratoolkit.2.9.4-1-ubuntu64/bin/vdb-lock\n",
            "tar: sratoolkit.2.9.4-1-ubuntu64/bin/vdb-lock: Cannot create symlink to ‘vdb-lock.2’: Function not implemented\n",
            "sratoolkit.2.9.4-1-ubuntu64/bin/vdb-lock.2\n",
            "tar: sratoolkit.2.9.4-1-ubuntu64/bin/vdb-lock.2: Cannot create symlink to ‘vdb-lock.2.9.4’: Function not implemented\n",
            "sratoolkit.2.9.4-1-ubuntu64/bin/vdb-lock.2.9.4\n",
            "sratoolkit.2.9.4-1-ubuntu64/bin/vdb-passwd\n",
            "tar: sratoolkit.2.9.4-1-ubuntu64/bin/vdb-passwd: Cannot create symlink to ‘vdb-passwd.2’: Function not implemented\n",
            "sratoolkit.2.9.4-1-ubuntu64/bin/vdb-passwd.2\n",
            "tar: sratoolkit.2.9.4-1-ubuntu64/bin/vdb-passwd.2: Cannot create symlink to ‘vdb-passwd.2.9.4’: Function not implemented\n",
            "sratoolkit.2.9.4-1-ubuntu64/bin/vdb-passwd.2.9.4\n",
            "sratoolkit.2.9.4-1-ubuntu64/bin/vdb-unlock\n",
            "tar: sratoolkit.2.9.4-1-ubuntu64/bin/vdb-unlock: Cannot create symlink to ‘vdb-unlock.2’: Function not implemented\n",
            "sratoolkit.2.9.4-1-ubuntu64/bin/vdb-unlock.2\n",
            "tar: sratoolkit.2.9.4-1-ubuntu64/bin/vdb-unlock.2: Cannot create symlink to ‘vdb-unlock.2.9.4’: Function not implemented\n",
            "sratoolkit.2.9.4-1-ubuntu64/bin/vdb-unlock.2.9.4\n",
            "sratoolkit.2.9.4-1-ubuntu64/bin/vdb-validate\n",
            "tar: sratoolkit.2.9.4-1-ubuntu64/bin/vdb-validate: Cannot create symlink to ‘vdb-validate.2’: Function not implemented\n",
            "sratoolkit.2.9.4-1-ubuntu64/bin/vdb-validate.2\n",
            "tar: sratoolkit.2.9.4-1-ubuntu64/bin/vdb-validate.2: Cannot create symlink to ‘vdb-validate.2.9.4’: Function not implemented\n",
            "sratoolkit.2.9.4-1-ubuntu64/bin/vdb-validate.2.9.4\n",
            "sratoolkit.2.9.4-1-ubuntu64/bin/pacbio-load\n",
            "tar: sratoolkit.2.9.4-1-ubuntu64/bin/pacbio-load: Cannot create symlink to ‘pacbio-load.2’: Function not implemented\n",
            "sratoolkit.2.9.4-1-ubuntu64/bin/pacbio-load.2\n",
            "tar: sratoolkit.2.9.4-1-ubuntu64/bin/pacbio-load.2: Cannot create symlink to ‘pacbio-load.2.9.4’: Function not implemented\n",
            "sratoolkit.2.9.4-1-ubuntu64/bin/pacbio-load.2.9.4\n",
            "sratoolkit.2.9.4-1-ubuntu64/bin/remote-fuser\n",
            "tar: sratoolkit.2.9.4-1-ubuntu64/bin/remote-fuser: Cannot create symlink to ‘remote-fuser.2’: Function not implemented\n",
            "sratoolkit.2.9.4-1-ubuntu64/bin/remote-fuser.2\n",
            "tar: sratoolkit.2.9.4-1-ubuntu64/bin/remote-fuser.2: Cannot create symlink to ‘remote-fuser.2.9.4’: Function not implemented\n",
            "sratoolkit.2.9.4-1-ubuntu64/bin/remote-fuser.2.9.4\n",
            "sratoolkit.2.9.4-1-ubuntu64/bin/dump-ref-fasta\n",
            "tar: sratoolkit.2.9.4-1-ubuntu64/bin/dump-ref-fasta: Cannot create symlink to ‘dump-ref-fasta.2’: Function not implemented\n",
            "sratoolkit.2.9.4-1-ubuntu64/bin/dump-ref-fasta.2\n",
            "tar: sratoolkit.2.9.4-1-ubuntu64/bin/dump-ref-fasta.2: Cannot create symlink to ‘dump-ref-fasta.2.9.4’: Function not implemented\n",
            "sratoolkit.2.9.4-1-ubuntu64/bin/dump-ref-fasta.2.9.4\n",
            "sratoolkit.2.9.4-1-ubuntu64/bin/sra-search\n",
            "tar: sratoolkit.2.9.4-1-ubuntu64/bin/sra-search: Cannot create symlink to ‘sra-search.2’: Function not implemented\n",
            "sratoolkit.2.9.4-1-ubuntu64/bin/sra-search.2\n",
            "tar: sratoolkit.2.9.4-1-ubuntu64/bin/sra-search.2: Cannot create symlink to ‘sra-search.2.9.4’: Function not implemented\n",
            "sratoolkit.2.9.4-1-ubuntu64/bin/sra-search.2.9.4\n",
            "sratoolkit.2.9.4-1-ubuntu64/bin/blastn_vdb\n",
            "tar: sratoolkit.2.9.4-1-ubuntu64/bin/blastn_vdb: Cannot create symlink to ‘blastn_vdb.2’: Function not implemented\n",
            "sratoolkit.2.9.4-1-ubuntu64/bin/blastn_vdb.2\n",
            "tar: sratoolkit.2.9.4-1-ubuntu64/bin/blastn_vdb.2: Cannot create symlink to ‘blastn_vdb.2.6.1-2.9.4’: Function not implemented\n",
            "sratoolkit.2.9.4-1-ubuntu64/bin/blastn_vdb.2.6.1-2.9.4\n",
            "sratoolkit.2.9.4-1-ubuntu64/bin/tblastn_vdb\n",
            "tar: sratoolkit.2.9.4-1-ubuntu64/bin/tblastn_vdb: Cannot create symlink to ‘tblastn_vdb.2’: Function not implemented\n",
            "sratoolkit.2.9.4-1-ubuntu64/bin/tblastn_vdb.2\n",
            "tar: sratoolkit.2.9.4-1-ubuntu64/bin/tblastn_vdb.2: Cannot create symlink to ‘tblastn_vdb.2.6.1-2.9.4’: Function not implemented\n",
            "sratoolkit.2.9.4-1-ubuntu64/bin/tblastn_vdb.2.6.1-2.9.4\n",
            "sratoolkit.2.9.4-1-ubuntu64/bin/ncbi/\n",
            "sratoolkit.2.9.4-1-ubuntu64/bin/ncbi/certs.kfg\n",
            "sratoolkit.2.9.4-1-ubuntu64/bin/ncbi/default.kfg\n",
            "sratoolkit.2.9.4-1-ubuntu64/bin/ncbi/vdb-copy.kfg\n",
            "sratoolkit.2.9.4-1-ubuntu64/bin/sra-blastn\n",
            "tar: sratoolkit.2.9.4-1-ubuntu64/bin/sra-blastn: Cannot create symlink to ‘blastn_vdb’: Function not implemented\n",
            "sratoolkit.2.9.4-1-ubuntu64/bin/sra-tblastn\n",
            "tar: sratoolkit.2.9.4-1-ubuntu64/bin/sra-tblastn: Cannot create symlink to ‘tblastn_vdb’: Function not implemented\n",
            "sratoolkit.2.9.4-1-ubuntu64/schema/\n",
            "sratoolkit.2.9.4-1-ubuntu64/schema/align/\n",
            "sratoolkit.2.9.4-1-ubuntu64/schema/align/align.vschema\n",
            "sratoolkit.2.9.4-1-ubuntu64/schema/align/mate-cache.vschema\n",
            "sratoolkit.2.9.4-1-ubuntu64/schema/align/pileup-stats.vschema\n",
            "sratoolkit.2.9.4-1-ubuntu64/schema/align/qstat.vschema\n",
            "sratoolkit.2.9.4-1-ubuntu64/schema/align/refseq.vschema\n",
            "sratoolkit.2.9.4-1-ubuntu64/schema/align/seq.vschema\n",
            "sratoolkit.2.9.4-1-ubuntu64/schema/csra2/\n",
            "sratoolkit.2.9.4-1-ubuntu64/schema/csra2/csra2.vschema\n",
            "sratoolkit.2.9.4-1-ubuntu64/schema/csra2/read.vschema\n",
            "sratoolkit.2.9.4-1-ubuntu64/schema/csra2/reference.vschema\n",
            "sratoolkit.2.9.4-1-ubuntu64/schema/csra2/stats.vschema\n",
            "sratoolkit.2.9.4-1-ubuntu64/schema/insdc/\n",
            "sratoolkit.2.9.4-1-ubuntu64/schema/insdc/insdc.vschema\n",
            "sratoolkit.2.9.4-1-ubuntu64/schema/insdc/seq.vschema\n",
            "sratoolkit.2.9.4-1-ubuntu64/schema/insdc/sra.vschema\n",
            "sratoolkit.2.9.4-1-ubuntu64/schema/ncbi/\n",
            "sratoolkit.2.9.4-1-ubuntu64/schema/ncbi/clip.vschema\n",
            "sratoolkit.2.9.4-1-ubuntu64/schema/ncbi/ncbi.vschema\n",
            "sratoolkit.2.9.4-1-ubuntu64/schema/ncbi/pnbrdb.vschema\n",
            "sratoolkit.2.9.4-1-ubuntu64/schema/ncbi/seq-graph.vschema\n",
            "sratoolkit.2.9.4-1-ubuntu64/schema/ncbi/seq.vschema\n",
            "sratoolkit.2.9.4-1-ubuntu64/schema/ncbi/spotname.vschema\n",
            "sratoolkit.2.9.4-1-ubuntu64/schema/ncbi/sra.vschema\n",
            "sratoolkit.2.9.4-1-ubuntu64/schema/ncbi/stats.vschema\n",
            "sratoolkit.2.9.4-1-ubuntu64/schema/ncbi/varloc.vschema\n",
            "sratoolkit.2.9.4-1-ubuntu64/schema/ncbi/wgs-contig.vschema\n",
            "sratoolkit.2.9.4-1-ubuntu64/schema/sra/\n",
            "sratoolkit.2.9.4-1-ubuntu64/schema/sra/454.vschema\n",
            "sratoolkit.2.9.4-1-ubuntu64/schema/sra/abi.vschema\n",
            "sratoolkit.2.9.4-1-ubuntu64/schema/sra/generic-fastq.vschema\n",
            "sratoolkit.2.9.4-1-ubuntu64/schema/sra/helicos.vschema\n",
            "sratoolkit.2.9.4-1-ubuntu64/schema/sra/illumina.vschema\n",
            "sratoolkit.2.9.4-1-ubuntu64/schema/sra/ion-torrent.vschema\n",
            "sratoolkit.2.9.4-1-ubuntu64/schema/sra/nanopore.vschema\n",
            "sratoolkit.2.9.4-1-ubuntu64/schema/sra/pacbio.vschema\n",
            "sratoolkit.2.9.4-1-ubuntu64/schema/sra/pevents.vschema\n",
            "sratoolkit.2.9.4-1-ubuntu64/schema/vdb/\n",
            "sratoolkit.2.9.4-1-ubuntu64/schema/vdb/built-in.vschema\n",
            "sratoolkit.2.9.4-1-ubuntu64/schema/vdb/vdb.vschema\n",
            "sratoolkit.2.9.4-1-ubuntu64/example/\n",
            "sratoolkit.2.9.4-1-ubuntu64/example/perl/\n",
            "sratoolkit.2.9.4-1-ubuntu64/example/perl/base-stats.pl\n",
            "sratoolkit.2.9.4-1-ubuntu64/example/perl/dump-reference.pl\n",
            "sratoolkit.2.9.4-1-ubuntu64/example/perl/gene-lookup.pl\n",
            "sratoolkit.2.9.4-1-ubuntu64/example/perl/mismatch-stats.pl\n",
            "sratoolkit.2.9.4-1-ubuntu64/example/perl/quality-stats.pl\n",
            "sratoolkit.2.9.4-1-ubuntu64/example/perl/simplefastq.pl\n",
            "sratoolkit.2.9.4-1-ubuntu64/example/perl/splitfastq.pl\n",
            "sratoolkit.2.9.4-1-ubuntu64/README-blastn\n",
            "sratoolkit.2.9.4-1-ubuntu64/README-vdb-config\n",
            "sratoolkit.2.9.4-1-ubuntu64/README.md\n",
            "sratoolkit.2.9.4-1-ubuntu64/CHANGES\n",
            "tar: Exiting with failure status due to previous errors\n"
          ],
          "name": "stdout"
        }
      ]
    },
    {
      "metadata": {
        "id": "OetQyp4uLBZy",
        "colab_type": "code",
        "outputId": "4d19a086-06b6-4706-f6bb-fd1f8b9f1993",
        "colab": {
          "base_uri": "https://localhost:8080/",
          "height": 34
        }
      },
      "cell_type": "code",
      "source": [
        "ls"
      ],
      "execution_count": 0,
      "outputs": [
        {
          "output_type": "stream",
          "text": [
            "\u001b[0m\u001b[01;34mreferences\u001b[0m/  \u001b[01;34msratoolkit.2.9.4-1-ubuntu64\u001b[0m/  sratoolkit.current-ubuntu64.tar.gz\n"
          ],
          "name": "stdout"
        }
      ]
    },
    {
      "metadata": {
        "id": "RIHhA_IDLHZS",
        "colab_type": "code",
        "outputId": "69fc240d-585e-498f-a307-502c8fe25d6f",
        "colab": {
          "base_uri": "https://localhost:8080/",
          "height": 34
        }
      },
      "cell_type": "code",
      "source": [
        "cd sratoolkit.2.9.4-1-ubuntu64/"
      ],
      "execution_count": 0,
      "outputs": [
        {
          "output_type": "stream",
          "text": [
            "/content/gdrive/My Drive/hbi2019/sratoolkit.2.9.4-1-ubuntu64\n"
          ],
          "name": "stdout"
        }
      ]
    },
    {
      "metadata": {
        "id": "oqXJLzC0LJtY",
        "colab_type": "code",
        "outputId": "3eac6707-d1cb-4ed7-d067-dafc293e50b9",
        "colab": {
          "base_uri": "https://localhost:8080/",
          "height": 34
        }
      },
      "cell_type": "code",
      "source": [
        "ls"
      ],
      "execution_count": 0,
      "outputs": [
        {
          "output_type": "stream",
          "text": [
            "\u001b[0m\u001b[01;34mbin\u001b[0m/  CHANGES  \u001b[01;34mexample\u001b[0m/  README-blastn  README.md  README-vdb-config  \u001b[01;34mschema\u001b[0m/\n"
          ],
          "name": "stdout"
        }
      ]
    },
    {
      "metadata": {
        "id": "9JigFJBILKVD",
        "colab_type": "code",
        "outputId": "69860d61-4a04-4d57-d523-0691f858aa02",
        "colab": {
          "base_uri": "https://localhost:8080/",
          "height": 34
        }
      },
      "cell_type": "code",
      "source": [
        "cd bin"
      ],
      "execution_count": 0,
      "outputs": [
        {
          "output_type": "stream",
          "text": [
            "/content/gdrive/My Drive/hbi2019/sratoolkit.2.9.4-1-ubuntu64/bin\n"
          ],
          "name": "stdout"
        }
      ]
    },
    {
      "metadata": {
        "id": "zcSV69wSLMUl",
        "colab_type": "code",
        "outputId": "cc5c233e-29c2-46d9-cdbc-41aadeb625aa",
        "colab": {
          "base_uri": "https://localhost:8080/",
          "height": 281
        }
      },
      "cell_type": "code",
      "source": [
        "ls\n",
        "\n",
        "# sratoolkit으로 할 수 있는 명령어들을 볼 수 있다"
      ],
      "execution_count": 0,
      "outputs": [
        {
          "output_type": "stream",
          "text": [
            "\u001b[0m\u001b[01;32mabi-dump.2.9.4\u001b[0m*          \u001b[01;32mkdbmeta.2.9.4\u001b[0m*       \u001b[01;32msra-stat.2.9.4\u001b[0m*\n",
            "\u001b[01;32mabi-load.2.9.4\u001b[0m*          \u001b[01;32mlatf-load.2.9.4\u001b[0m*     \u001b[01;32msrf-load.2.9.4\u001b[0m*\n",
            "\u001b[01;32malign-info.2.9.4\u001b[0m*        \u001b[01;34mncbi\u001b[0m/                \u001b[01;32mtblastn_vdb.2.6.1-2.9.4\u001b[0m*\n",
            "\u001b[01;32mbam-load.2.9.4\u001b[0m*          \u001b[01;32mpacbio-load.2.9.4\u001b[0m*   \u001b[01;32mtest-sra.2.9.4\u001b[0m*\n",
            "\u001b[01;32mblastn_vdb.2.6.1-2.9.4\u001b[0m*  \u001b[01;32mprefetch.2.9.4\u001b[0m*      \u001b[01;32mvdb-config.2.9.4\u001b[0m*\n",
            "\u001b[01;32mcache-mgr.2.9.4\u001b[0m*         \u001b[01;32mrcexplain.2.9.4\u001b[0m*     \u001b[01;32mvdb-copy.2.9.4\u001b[0m*\n",
            "\u001b[01;32mcg-load.2.9.4\u001b[0m*           \u001b[01;32mremote-fuser.2.9.4\u001b[0m*  \u001b[01;32mvdb-decrypt.2.9.4\u001b[0m*\n",
            "\u001b[01;32mdump-ref-fasta.2.9.4\u001b[0m*    \u001b[01;32msam-dump.2.9.4\u001b[0m*      \u001b[01;32mvdb-dump.2.9.4\u001b[0m*\n",
            "\u001b[01;32mfasterq-dump.2.9.4\u001b[0m*      \u001b[01;32msff-dump.2.9.4\u001b[0m*      \u001b[01;32mvdb-encrypt.2.9.4\u001b[0m*\n",
            "\u001b[01;32mfastq-dump.2.9.4\u001b[0m*        \u001b[01;32msff-load.2.9.4\u001b[0m*      \u001b[01;32mvdb-lock.2.9.4\u001b[0m*\n",
            "\u001b[01;32mfastq-load.2.9.4\u001b[0m*        \u001b[01;32msrapath.2.9.4\u001b[0m*       \u001b[01;32mvdb-passwd.2.9.4\u001b[0m*\n",
            "\u001b[01;32mhelicos-load.2.9.4\u001b[0m*      \u001b[01;32msra-pileup.2.9.4\u001b[0m*    \u001b[01;32mvdb-unlock.2.9.4\u001b[0m*\n",
            "\u001b[01;32millumina-dump.2.9.4\u001b[0m*     \u001b[01;32msra-search.2.9.4\u001b[0m*    \u001b[01;32mvdb-validate.2.9.4\u001b[0m*\n",
            "\u001b[01;32millumina-load.2.9.4\u001b[0m*     \u001b[01;32msra-sort.2.9.4\u001b[0m*\n",
            "\u001b[01;32mkar.2.9.4\u001b[0m*               \u001b[01;32msra-sort-cg.2.9.4\u001b[0m*\n"
          ],
          "name": "stdout"
        }
      ]
    },
    {
      "metadata": {
        "id": "k7myvHMPLNKA",
        "colab_type": "code",
        "outputId": "d552f0fb-d870-4ce5-eb7c-1585ce729ece",
        "colab": {
          "base_uri": "https://localhost:8080/",
          "height": 34
        }
      },
      "cell_type": "code",
      "source": [
        "cd ../.."
      ],
      "execution_count": 0,
      "outputs": [
        {
          "output_type": "stream",
          "text": [
            "/content/gdrive/My Drive/hbi2019\n"
          ],
          "name": "stdout"
        }
      ]
    },
    {
      "metadata": {
        "id": "GzU-WqcCLPUq",
        "colab_type": "code",
        "colab": {}
      },
      "cell_type": "code",
      "source": [
        "# Google에 sra toolkit download sra files 라고 검색\n",
        "# Downloading SRA data using command line utilities 에 접속 (https://www.ncbi.nlm.nih.gov/books/NBK158899/)\n",
        "# 아래쪽의 Determining the location of SRA data files for automated or scripted downloads. 의 내용에 있는 코드 복사\n",
        "## wget ftp://ftp-trace.ncbi.nih.gov/sra/sra-instant/reads/ByRun/sra/SRR/SRR304/SRR304976/SRR304976.sra\n",
        "# 이걸 응용"
      ],
      "execution_count": 0,
      "outputs": []
    },
    {
      "metadata": {
        "id": "a4eKc5PXL3SG",
        "colab_type": "code",
        "outputId": "2ae61c58-c59f-4ce5-b3cd-b24f5879af85",
        "colab": {
          "base_uri": "https://localhost:8080/",
          "height": 301
        }
      },
      "cell_type": "code",
      "source": [
        "! wget ftp://ftp-trace.ncbi.nih.gov/sra/sra-instant/reads/ByRun/sra/{sra_id[0:3]}/{sra_id[0:6]}/{sra_id}/{sra_id}.sra\n",
        "  \n",
        "# ncbi에서 지정된 SRA ID를  통해 정보를 다운받아 온다"
      ],
      "execution_count": 0,
      "outputs": [
        {
          "output_type": "stream",
          "text": [
            "--2019-03-12 09:15:51--  ftp://ftp-trace.ncbi.nih.gov/sra/sra-instant/reads/ByRun/sra/SRR/SRR870/SRR8704599/SRR8704599.sra\n",
            "           => ‘SRR8704599.sra’\n",
            "Resolving ftp-trace.ncbi.nih.gov (ftp-trace.ncbi.nih.gov)... 130.14.250.7, 2607:f220:41e:250::11\n",
            "Connecting to ftp-trace.ncbi.nih.gov (ftp-trace.ncbi.nih.gov)|130.14.250.7|:21... connected.\n",
            "Logging in as anonymous ... Logged in!\n",
            "==> SYST ... done.    ==> PWD ... done.\n",
            "==> TYPE I ... done.  ==> CWD (1) /sra/sra-instant/reads/ByRun/sra/SRR/SRR870/SRR8704599 ... done.\n",
            "==> SIZE SRR8704599.sra ... 149668594\n",
            "==> PASV ... done.    ==> RETR SRR8704599.sra ... done.\n",
            "Length: 149668594 (143M) (unauthoritative)\n",
            "\n",
            "SRR8704599.sra      100%[===================>] 142.73M  13.6MB/s    in 14s     \n",
            "\n",
            "2019-03-12 09:16:06 (10.0 MB/s) - ‘SRR8704599.sra’ saved [149668594]\n",
            "\n"
          ],
          "name": "stdout"
        }
      ]
    },
    {
      "metadata": {
        "id": "KvbDiXQZL7c7",
        "colab_type": "code",
        "outputId": "3742da5f-1c8b-42f8-8de1-c40a4cdb3e88",
        "colab": {
          "base_uri": "https://localhost:8080/",
          "height": 53
        }
      },
      "cell_type": "code",
      "source": [
        "ls\n",
        "\n",
        "# SRR ID로 지정했던 sra 파일을 받아왔음을 확인할 수 있다."
      ],
      "execution_count": 0,
      "outputs": [
        {
          "output_type": "stream",
          "text": [
            "\u001b[0m\u001b[01;34mreferences\u001b[0m/                   sratoolkit.current-ubuntu64.tar.gz\n",
            "\u001b[01;34msratoolkit.2.9.4-1-ubuntu64\u001b[0m/  SRR8704599.sra\n"
          ],
          "name": "stdout"
        }
      ]
    },
    {
      "metadata": {
        "id": "RRshKDbsQk8d",
        "colab_type": "code",
        "colab": {}
      },
      "cell_type": "code",
      "source": [
        "mkdir sra"
      ],
      "execution_count": 0,
      "outputs": []
    },
    {
      "metadata": {
        "id": "BTYij7RmSOjk",
        "colab_type": "code",
        "outputId": "b5f56576-33f5-42b5-c04d-8000937d5e63",
        "colab": {
          "base_uri": "https://localhost:8080/",
          "height": 35
        }
      },
      "cell_type": "code",
      "source": [
        "cd sra"
      ],
      "execution_count": 0,
      "outputs": [
        {
          "output_type": "stream",
          "text": [
            "/content/gdrive/My Drive/hbi2019/sra\n"
          ],
          "name": "stdout"
        }
      ]
    },
    {
      "metadata": {
        "id": "7YnfPeKnSPy7",
        "colab_type": "code",
        "colab": {}
      },
      "cell_type": "code",
      "source": [
        "mv ../SRR8704599.sra ."
      ],
      "execution_count": 0,
      "outputs": []
    },
    {
      "metadata": {
        "id": "9oJk34WzSSs1",
        "colab_type": "code",
        "outputId": "1655d239-8976-47f9-a854-959c6bf98356",
        "colab": {
          "base_uri": "https://localhost:8080/",
          "height": 35
        }
      },
      "cell_type": "code",
      "source": [
        "ls"
      ],
      "execution_count": 0,
      "outputs": [
        {
          "output_type": "stream",
          "text": [
            "SRR8704599.sra\n"
          ],
          "name": "stdout"
        }
      ]
    },
    {
      "metadata": {
        "id": "jAJMn9ImSTq1",
        "colab_type": "code",
        "outputId": "409f89d7-28aa-4f3b-b6a4-632f22110b2b",
        "colab": {
          "base_uri": "https://localhost:8080/",
          "height": 35
        }
      },
      "cell_type": "code",
      "source": [
        "pwd"
      ],
      "execution_count": 0,
      "outputs": [
        {
          "output_type": "execute_result",
          "data": {
            "text/plain": [
              "'/content/gdrive/My Drive/hbi2019/sra'"
            ]
          },
          "metadata": {
            "tags": []
          },
          "execution_count": 20
        }
      ]
    },
    {
      "metadata": {
        "id": "yAzFjPElSb-O",
        "colab_type": "code",
        "colab": {}
      },
      "cell_type": "code",
      "source": [
        "sra_id_list = ['SRR8700959','SRR8700956','SRR8700955']\n",
        "\n",
        "# organism이 Escherichia coli인 다른 SRR ID도 뽑아와서 list를 만들어준다"
      ],
      "execution_count": 0,
      "outputs": []
    },
    {
      "metadata": {
        "id": "usVdYvFXTm2z",
        "colab_type": "code",
        "outputId": "092bef9b-9549-4214-f03d-aee160300bc4",
        "colab": {
          "base_uri": "https://localhost:8080/",
          "height": 901
        }
      },
      "cell_type": "code",
      "source": [
        "for sra_id in sra_id_list:\n",
        "  print(sra_id)\n",
        "  ! wget ftp://ftp-trace.ncbi.nih.gov/sra/sra-instant/reads/ByRun/sra/{sra_id[0:3]}/{sra_id[0:6]}/{sra_id}/{sra_id}.sra"
      ],
      "execution_count": 0,
      "outputs": [
        {
          "output_type": "stream",
          "text": [
            "SRR8700959\n",
            "--2019-03-12 14:29:52--  ftp://ftp-trace.ncbi.nih.gov/sra/sra-instant/reads/ByRun/sra/SRR/SRR870/SRR8700959/SRR8700959.sra\n",
            "           => ‘SRR8700959.sra’\n",
            "Resolving ftp-trace.ncbi.nih.gov (ftp-trace.ncbi.nih.gov)... 130.14.250.12, 2607:f220:41e:250::7\n",
            "Connecting to ftp-trace.ncbi.nih.gov (ftp-trace.ncbi.nih.gov)|130.14.250.12|:21... connected.\n",
            "Logging in as anonymous ... Logged in!\n",
            "==> SYST ... done.    ==> PWD ... done.\n",
            "==> TYPE I ... done.  ==> CWD (1) /sra/sra-instant/reads/ByRun/sra/SRR/SRR870/SRR8700959 ... done.\n",
            "==> SIZE SRR8700959.sra ... 263671194\n",
            "==> PASV ... done.    ==> RETR SRR8700959.sra ... done.\n",
            "Length: 263671194 (251M) (unauthoritative)\n",
            "\n",
            "SRR8700959.sra      100%[===================>] 251.46M  32.3MB/s    in 9.8s    \n",
            "\n",
            "2019-03-12 14:30:03 (25.6 MB/s) - ‘SRR8700959.sra’ saved [263671194]\n",
            "\n",
            "SRR8700956\n",
            "--2019-03-12 14:30:04--  ftp://ftp-trace.ncbi.nih.gov/sra/sra-instant/reads/ByRun/sra/SRR/SRR870/SRR8700956/SRR8700956.sra\n",
            "           => ‘SRR8700956.sra’\n",
            "Resolving ftp-trace.ncbi.nih.gov (ftp-trace.ncbi.nih.gov)... 130.14.250.12, 2607:f220:41e:250::7\n",
            "Connecting to ftp-trace.ncbi.nih.gov (ftp-trace.ncbi.nih.gov)|130.14.250.12|:21... connected.\n",
            "Logging in as anonymous ... Logged in!\n",
            "==> SYST ... done.    ==> PWD ... done.\n",
            "==> TYPE I ... done.  ==> CWD (1) /sra/sra-instant/reads/ByRun/sra/SRR/SRR870/SRR8700956 ... done.\n",
            "==> SIZE SRR8700956.sra ... 205232212\n",
            "==> PASV ... done.    ==> RETR SRR8700956.sra ... done.\n",
            "Length: 205232212 (196M) (unauthoritative)\n",
            "\n",
            "SRR8700956.sra      100%[===================>] 195.72M  24.8MB/s    in 11s     \n",
            "\n",
            "2019-03-12 14:30:16 (17.1 MB/s) - ‘SRR8700956.sra’ saved [205232212]\n",
            "\n",
            "SRR8700955\n",
            "--2019-03-12 14:30:17--  ftp://ftp-trace.ncbi.nih.gov/sra/sra-instant/reads/ByRun/sra/SRR/SRR870/SRR8700955/SRR8700955.sra\n",
            "           => ‘SRR8700955.sra’\n",
            "Resolving ftp-trace.ncbi.nih.gov (ftp-trace.ncbi.nih.gov)... 130.14.250.12, 2607:f220:41e:250::11\n",
            "Connecting to ftp-trace.ncbi.nih.gov (ftp-trace.ncbi.nih.gov)|130.14.250.12|:21... connected.\n",
            "Logging in as anonymous ... Logged in!\n",
            "==> SYST ... done.    ==> PWD ... done.\n",
            "==> TYPE I ... done.  ==> CWD (1) /sra/sra-instant/reads/ByRun/sra/SRR/SRR870/SRR8700955 ... done.\n",
            "==> SIZE SRR8700955.sra ... 276775626\n",
            "==> PASV ... done.    ==> RETR SRR8700955.sra ... done.\n",
            "Length: 276775626 (264M) (unauthoritative)\n",
            "\n",
            "SRR8700955.sra      100%[===================>] 263.95M  21.7MB/s    in 11s     \n",
            "\n",
            "2019-03-12 14:30:29 (24.0 MB/s) - ‘SRR8700955.sra’ saved [276775626]\n",
            "\n"
          ],
          "name": "stdout"
        }
      ]
    },
    {
      "metadata": {
        "id": "_gkA7MIJT0q1",
        "colab_type": "code",
        "outputId": "eb05b274-39c0-413a-f702-c15e27685b82",
        "colab": {
          "base_uri": "https://localhost:8080/",
          "height": 35
        }
      },
      "cell_type": "code",
      "source": [
        "ls\n",
        "\n",
        "# SRR ID를 더 다운받아왔음을 볼 수 있다"
      ],
      "execution_count": 0,
      "outputs": [
        {
          "output_type": "stream",
          "text": [
            "SRR8700955.sra  SRR8700956.sra  SRR8700959.sra  SRR8704599.sra\n"
          ],
          "name": "stdout"
        }
      ]
    },
    {
      "metadata": {
        "id": "V8q4R4rxUFaj",
        "colab_type": "code",
        "outputId": "9882b42d-f089-4156-c096-f10f1d6d34c4",
        "colab": {
          "base_uri": "https://localhost:8080/",
          "height": 35
        }
      },
      "cell_type": "code",
      "source": [
        "! ../sratoolkit.2.9.4-1-ubuntu64/bin/fastq-dump.2.9.4 --origfmt -I --split-files --gzip ./SRR8704599.sra \n",
        "\n",
        "# SRA 파일을 fastq dump로 풀어줌, original file format(origfmt) 사용, library layout이 paired이니 split을 해줌"
      ],
      "execution_count": 0,
      "outputs": [
        {
          "output_type": "stream",
          "text": [
            "/bin/bash: ../sratoolkit.2.9.4-1-ubuntu64/bin/fastq-dump.2.9.4: Permission denied\n"
          ],
          "name": "stdout"
        }
      ]
    },
    {
      "metadata": {
        "id": "ltQ0ccL5UYcN",
        "colab_type": "code",
        "colab": {}
      },
      "cell_type": "code",
      "source": [
        "# /bin/bash: ../sratoolkit.2.9.4-1-ubuntu64/bin/fastq-dump.2.9.4: Permission denied\n",
        "## 이런 에러가 뜬다면 실행파일이 지정되어있지 않아서이므로 아래의 코드로 실행파일을 지정해주어야 한다"
      ],
      "execution_count": 0,
      "outputs": []
    },
    {
      "metadata": {
        "id": "chVi89MgUhLo",
        "colab_type": "code",
        "colab": {}
      },
      "cell_type": "code",
      "source": [
        "! chmod +x ../sratoolkit.2.9.4-1-ubuntu64/bin/fastq-dump.2.9.4"
      ],
      "execution_count": 0,
      "outputs": []
    },
    {
      "metadata": {
        "id": "wn6wesotUkac",
        "colab_type": "code",
        "outputId": "cc563b85-2d5e-4978-c461-49103a71fea1",
        "colab": {
          "base_uri": "https://localhost:8080/",
          "height": 53
        }
      },
      "cell_type": "code",
      "source": [
        "! ../sratoolkit.2.9.4-1-ubuntu64/bin/fastq-dump.2.9.4 --origfmt -I --split-files --gzip ./SRR8704599.sra \n",
        "\n",
        "# 약 3분 후 완료됨\n",
        "# split되어 SRR8704599_1.fastq.gz, SRR8704599_2.fastq.gz 가 생성됨  "
      ],
      "execution_count": 0,
      "outputs": [
        {
          "output_type": "stream",
          "text": [
            "Read 1674766 spots for ./SRR8704599.sra\n",
            "Written 1674766 spots for ./SRR8704599.sra\n"
          ],
          "name": "stdout"
        }
      ]
    },
    {
      "metadata": {
        "id": "lHqF2r7XUmko",
        "colab_type": "code",
        "outputId": "98bd726b-6dbb-41d9-c517-9400bda903e1",
        "colab": {
          "base_uri": "https://localhost:8080/",
          "height": 197
        }
      },
      "cell_type": "code",
      "source": [
        "! zcat SRR8704599_1.fastq.gz | head \n",
        "\n",
        "# @x부분은 sequence, +x부분은 quality"
      ],
      "execution_count": 0,
      "outputs": [
        {
          "output_type": "stream",
          "text": [
            "@1\n",
            "ACGAAGTTGTATCTGTTGTTTCACGCGAATTATTTACCGCTGGTCATTTTTTGGTGTTCGTCGAGGAATTCTTTCATCTCTTTCGGCGGCTGGTAACCCGG\n",
            "+1\n",
            "GGGGGIIIIIIIIIIIIIIGIIIIIIIIIIIIIIIIIIIIIIIGIIIIIIIIIIIIIIIGIIIIIIIIIIIIIIIIIIIIIIIIIIIIIIIIIIIIIIIII\n",
            "@2\n",
            "TTTTCGAGGCGATAACCGGCCATAAAAAAGCGCAACGTAGAACAGGAATTATTCTCACGAAAGAAATCCATTACCATCTCTTTATCCAGTCCATAGCGGCG\n",
            "+2\n",
            "AAGAGIGIIIIGIIIIGGIGIIIIIGIIGIGIIGGIIIIGIIIIGGIIIIIIIIIIIIIIIIGGAGGGGGGGIIGIIIGIIGGIGIIIGGGIIIIIIIGII\n",
            "@3\n",
            "CCCGTGCACAGAATGAAGATGTAGATGAGTTGTGTAAGAAAGTGACAAGTTGGATGTATTCGCATCCTGGAGAGAGAATTAGATATGAACGTTTTAAGACA\n"
          ],
          "name": "stdout"
        }
      ]
    }
  ]
}