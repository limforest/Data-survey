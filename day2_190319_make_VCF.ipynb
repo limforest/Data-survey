{
  "nbformat": 4,
  "nbformat_minor": 0,
  "metadata": {
    "colab": {
      "name": "day2_190319_make_VCF.ipynb",
      "version": "0.3.2",
      "provenance": [],
      "collapsed_sections": []
    },
    "kernelspec": {
      "name": "python3",
      "display_name": "Python 3"
    }
  },
  "cells": [
    {
      "metadata": {
        "id": "7YTIpg7WDoUv",
        "colab_type": "code",
        "colab": {}
      },
      "cell_type": "code",
      "source": [
        "from google.colab import drive"
      ],
      "execution_count": 0,
      "outputs": []
    },
    {
      "metadata": {
        "id": "fyiYl7o_DzZi",
        "colab_type": "code",
        "outputId": "9fd33397-6e18-461d-c3aa-fa3dd22beb3e",
        "colab": {
          "base_uri": "https://localhost:8080/",
          "height": 125
        }
      },
      "cell_type": "code",
      "source": [
        "drive.mount('/content/gdrive')\n",
        "\n",
        "# 24시간 후엔 계정이 사라지기때문에 다시 set up을 해주어야한다."
      ],
      "execution_count": 0,
      "outputs": [
        {
          "output_type": "stream",
          "text": [
            "Go to this URL in a browser: https://accounts.google.com/o/oauth2/auth?client_id=947318989803-6bn6qk8qdgf4n4g3pfee6491hc0brc4i.apps.googleusercontent.com&redirect_uri=urn%3Aietf%3Awg%3Aoauth%3A2.0%3Aoob&scope=email%20https%3A%2F%2Fwww.googleapis.com%2Fauth%2Fdocs.test%20https%3A%2F%2Fwww.googleapis.com%2Fauth%2Fdrive%20https%3A%2F%2Fwww.googleapis.com%2Fauth%2Fdrive.photos.readonly%20https%3A%2F%2Fwww.googleapis.com%2Fauth%2Fpeopleapi.readonly&response_type=code\n",
            "\n",
            "Enter your authorization code:\n",
            "··········\n",
            "Mounted at /content/gdrive\n"
          ],
          "name": "stdout"
        }
      ]
    },
    {
      "metadata": {
        "id": "k0A0XNzAEAqJ",
        "colab_type": "code",
        "outputId": "4ac04727-0552-459a-83a8-9316a4663066",
        "colab": {
          "base_uri": "https://localhost:8080/",
          "height": 34
        }
      },
      "cell_type": "code",
      "source": [
        "ls"
      ],
      "execution_count": 0,
      "outputs": [
        {
          "output_type": "stream",
          "text": [
            "\u001b[0m\u001b[01;34mgdrive\u001b[0m/  \u001b[01;34msample_data\u001b[0m/\n"
          ],
          "name": "stdout"
        }
      ]
    },
    {
      "metadata": {
        "id": "2klFbsyBoHZz",
        "colab_type": "code",
        "outputId": "f13e5703-07f1-4fbb-bf21-5a3f2f491048",
        "colab": {
          "base_uri": "https://localhost:8080/",
          "height": 34
        }
      },
      "cell_type": "code",
      "source": [
        "cd gdrive/My\\ Drive/hbi2019"
      ],
      "execution_count": 0,
      "outputs": [
        {
          "output_type": "stream",
          "text": [
            "/content/gdrive/My Drive/hbi2019\n"
          ],
          "name": "stdout"
        }
      ]
    },
    {
      "metadata": {
        "id": "gQzzId4Rodt-",
        "colab_type": "code",
        "outputId": "ccbb2318-8031-4e37-980e-ddca9125121f",
        "colab": {
          "base_uri": "https://localhost:8080/",
          "height": 52
        }
      },
      "cell_type": "code",
      "source": [
        "ls"
      ],
      "execution_count": 0,
      "outputs": [
        {
          "output_type": "stream",
          "text": [
            "\u001b[0m\u001b[01;34mreferences\u001b[0m/  \u001b[01;34msratoolkit.2.9.4-1-ubuntu64\u001b[0m/\n",
            "\u001b[01;34msra\u001b[0m/         sratoolkit.current-ubuntu64.tar.gz\n"
          ],
          "name": "stdout"
        }
      ]
    },
    {
      "metadata": {
        "id": "jujtR25zogwG",
        "colab_type": "code",
        "outputId": "c3fb9124-74ad-4cf6-c26c-f3d3d98c16d8",
        "colab": {
          "base_uri": "https://localhost:8080/",
          "height": 439
        }
      },
      "cell_type": "code",
      "source": [
        "! apt install bwa\n",
        "! apt install bcftools\n",
        "! apt install samtools"
      ],
      "execution_count": 0,
      "outputs": [
        {
          "output_type": "stream",
          "text": [
            "Reading package lists... Done\n",
            "Building dependency tree       \n",
            "Reading state information... Done\n",
            "bwa is already the newest version (0.7.17-1).\n",
            "The following package was automatically installed and is no longer required:\n",
            "  libnvidia-common-410\n",
            "Use 'apt autoremove' to remove it.\n",
            "0 upgraded, 0 newly installed, 0 to remove and 10 not upgraded.\n",
            "Reading package lists... Done\n",
            "Building dependency tree       \n",
            "Reading state information... Done\n",
            "bcftools is already the newest version (1.7-2).\n",
            "The following package was automatically installed and is no longer required:\n",
            "  libnvidia-common-410\n",
            "Use 'apt autoremove' to remove it.\n",
            "0 upgraded, 0 newly installed, 0 to remove and 10 not upgraded.\n",
            "Reading package lists... Done\n",
            "Building dependency tree       \n",
            "Reading state information... Done\n",
            "samtools is already the newest version (1.7-1).\n",
            "The following package was automatically installed and is no longer required:\n",
            "  libnvidia-common-410\n",
            "Use 'apt autoremove' to remove it.\n",
            "0 upgraded, 0 newly installed, 0 to remove and 10 not upgraded.\n"
          ],
          "name": "stdout"
        }
      ]
    },
    {
      "metadata": {
        "id": "WtLzE-Z4oprh",
        "colab_type": "code",
        "colab": {}
      },
      "cell_type": "code",
      "source": [
        "# day1처럼 wget을 하지 않고도 sra-toolkit을 설치할 수 있음"
      ],
      "execution_count": 0,
      "outputs": []
    },
    {
      "metadata": {
        "id": "iCt0d5uNq8x2",
        "colab_type": "code",
        "outputId": "1c8fc6df-a3fc-44b6-b21a-edb64ae6a07d",
        "colab": {
          "base_uri": "https://localhost:8080/",
          "height": 459
        }
      },
      "cell_type": "code",
      "source": [
        "! apt-get update\n",
        "\n",
        "# sra-toolkit installing에 error가 발생한다면 이 코드를 이용"
      ],
      "execution_count": 0,
      "outputs": [
        {
          "output_type": "stream",
          "text": [
            "\r0% [Working]\r            \rGet:1 https://cloud.r-project.org/bin/linux/ubuntu bionic-cran35/ InRelease [3,609 B]\n",
            "\r0% [Connecting to archive.ubuntu.com (91.189.88.149)] [Waiting for headers] [1 \r0% [Connecting to archive.ubuntu.com (91.189.88.149)] [Waiting for headers] [Wa\r                                                                               \rGet:2 http://ppa.launchpad.net/graphics-drivers/ppa/ubuntu bionic InRelease [21.3 kB]\n",
            "\r0% [Waiting for headers] [Waiting for headers] [Waiting for headers] [2 InRelea\r0% [1 InRelease gpgv 3,609 B] [Waiting for headers] [Waiting for headers] [Wait\r0% [1 InRelease gpgv 3,609 B] [Waiting for headers] [Waiting for headers] [Wait\r                                                                               \rIgn:3 https://developer.download.nvidia.com/compute/cuda/repos/ubuntu1804/x86_64  InRelease\n",
            "Ign:4 https://developer.download.nvidia.com/compute/machine-learning/repos/ubuntu1804/x86_64  InRelease\n",
            "Hit:5 https://developer.download.nvidia.com/compute/cuda/repos/ubuntu1804/x86_64  Release\n",
            "Hit:6 https://developer.download.nvidia.com/compute/machine-learning/repos/ubuntu1804/x86_64  Release\n",
            "Get:7 http://ppa.launchpad.net/marutter/c2d4u3.5/ubuntu bionic InRelease [15.4 kB]\n",
            "Get:8 https://cloud.r-project.org/bin/linux/ubuntu bionic-cran35/ Packages [58.4 kB]\n",
            "Get:9 http://security.ubuntu.com/ubuntu bionic-security InRelease [88.7 kB]\n",
            "Hit:10 http://archive.ubuntu.com/ubuntu bionic InRelease\n",
            "Get:11 http://archive.ubuntu.com/ubuntu bionic-updates InRelease [88.7 kB]\n",
            "Get:12 http://ppa.launchpad.net/graphics-drivers/ppa/ubuntu bionic/main amd64 Packages [31.0 kB]\n",
            "Get:14 http://archive.ubuntu.com/ubuntu bionic-backports InRelease [74.6 kB]\n",
            "Get:16 http://ppa.launchpad.net/marutter/c2d4u3.5/ubuntu bionic/main Sources [1,624 kB]\n",
            "Get:17 http://security.ubuntu.com/ubuntu bionic-security/main amd64 Packages [359 kB]\n",
            "Get:18 http://archive.ubuntu.com/ubuntu bionic-updates/universe amd64 Packages [952 kB]\n",
            "Get:19 http://security.ubuntu.com/ubuntu bionic-security/multiverse amd64 Packages [3,910 B]\n",
            "Get:20 http://security.ubuntu.com/ubuntu bionic-security/universe amd64 Packages [158 kB]\n",
            "Get:21 http://archive.ubuntu.com/ubuntu bionic-updates/main amd64 Packages [723 kB]\n",
            "Get:22 http://archive.ubuntu.com/ubuntu bionic-updates/multiverse amd64 Packages [6,965 B]\n",
            "Get:23 http://archive.ubuntu.com/ubuntu bionic-backports/universe amd64 Packages [3,659 B]\n",
            "Get:24 http://ppa.launchpad.net/marutter/c2d4u3.5/ubuntu bionic/main amd64 Packages [780 kB]\n",
            "Fetched 4,992 kB in 4s (1,358 kB/s)\n",
            "Reading package lists... Done\n"
          ],
          "name": "stdout"
        }
      ]
    },
    {
      "metadata": {
        "id": "O6GiW9FfprT1",
        "colab_type": "code",
        "outputId": "d7f2a363-16de-442f-81ff-3a41d32f0beb",
        "colab": {
          "base_uri": "https://localhost:8080/",
          "height": 1656
        }
      },
      "cell_type": "code",
      "source": [
        "! apt install sra-toolkit"
      ],
      "execution_count": 0,
      "outputs": [
        {
          "output_type": "stream",
          "text": [
            "Reading package lists... Done\n",
            "Building dependency tree       \n",
            "Reading state information... Done\n",
            "The following package was automatically installed and is no longer required:\n",
            "  libnvidia-common-410\n",
            "Use 'apt autoremove' to remove it.\n",
            "The following additional packages will be installed:\n",
            "  blends-common libkdf5-2 libmagic-mgc libmagic1 libmbedcrypto1 libmbedtls-dev\n",
            "  libmbedtls10 libmbedx509-0 libncbi-vdb2 libncbi-wvdb2 med-config menu\n",
            "Suggested packages:\n",
            "  blends-doc file libmbedtls-doc menu-l10n gksu | kde-runtime | ktsuss\n",
            "The following NEW packages will be installed:\n",
            "  blends-common libkdf5-2 libmagic-mgc libmagic1 libmbedcrypto1 libmbedtls-dev\n",
            "  libmbedtls10 libmbedx509-0 libncbi-vdb2 libncbi-wvdb2 med-config menu\n",
            "  sra-toolkit\n",
            "0 upgraded, 13 newly installed, 0 to remove and 107 not upgraded.\n",
            "Need to get 4,458 kB of archives.\n",
            "After this operation, 24.8 MB of additional disk space will be used.\n",
            "Get:1 http://archive.ubuntu.com/ubuntu bionic-updates/main amd64 libmagic-mgc amd64 1:5.32-2ubuntu0.2 [184 kB]\n",
            "Get:2 http://archive.ubuntu.com/ubuntu bionic-updates/main amd64 libmagic1 amd64 1:5.32-2ubuntu0.2 [68.5 kB]\n",
            "Get:3 http://archive.ubuntu.com/ubuntu bionic-updates/universe amd64 menu amd64 2.1.47ubuntu2.1 [349 kB]\n",
            "Get:4 http://archive.ubuntu.com/ubuntu bionic/universe amd64 blends-common all 0.6.100ubuntu2 [15.0 kB]\n",
            "Get:5 http://archive.ubuntu.com/ubuntu bionic/universe amd64 libmbedcrypto1 amd64 2.8.0-1 [140 kB]\n",
            "Get:6 http://archive.ubuntu.com/ubuntu bionic/universe amd64 libmbedx509-0 amd64 2.8.0-1 [34.0 kB]\n",
            "Get:7 http://archive.ubuntu.com/ubuntu bionic/universe amd64 libmbedtls10 amd64 2.8.0-1 [66.8 kB]\n",
            "Get:8 http://archive.ubuntu.com/ubuntu bionic/universe amd64 libmbedtls-dev amd64 2.8.0-1 [382 kB]\n",
            "Get:9 http://archive.ubuntu.com/ubuntu bionic/universe amd64 libkdf5-2 amd64 2.8.2-2+dfsg-1build1 [13.1 kB]\n",
            "Get:10 http://archive.ubuntu.com/ubuntu bionic/universe amd64 libncbi-vdb2 amd64 2.8.2-2+dfsg-1build1 [1,098 kB]\n",
            "Get:11 http://archive.ubuntu.com/ubuntu bionic/universe amd64 libncbi-wvdb2 amd64 2.8.2-2+dfsg-1build1 [997 kB]\n",
            "Get:12 http://archive.ubuntu.com/ubuntu bionic/universe amd64 sra-toolkit amd64 2.8.2-5+dfsg-1 [1,102 kB]\n",
            "Get:13 http://archive.ubuntu.com/ubuntu bionic/universe amd64 med-config all 3.0.1ubuntu1 [9,404 B]\n",
            "Fetched 4,458 kB in 1s (3,011 kB/s)\n",
            "Preconfiguring packages ...\n",
            "Selecting previously unselected package libmagic-mgc.\n",
            "(Reading database ... 132825 files and directories currently installed.)\n",
            "Preparing to unpack .../00-libmagic-mgc_1%3a5.32-2ubuntu0.2_amd64.deb ...\n",
            "Unpacking libmagic-mgc (1:5.32-2ubuntu0.2) ...\n",
            "Selecting previously unselected package libmagic1:amd64.\n",
            "Preparing to unpack .../01-libmagic1_1%3a5.32-2ubuntu0.2_amd64.deb ...\n",
            "Unpacking libmagic1:amd64 (1:5.32-2ubuntu0.2) ...\n",
            "Selecting previously unselected package menu.\n",
            "Preparing to unpack .../02-menu_2.1.47ubuntu2.1_amd64.deb ...\n",
            "Unpacking menu (2.1.47ubuntu2.1) ...\n",
            "Selecting previously unselected package blends-common.\n",
            "Preparing to unpack .../03-blends-common_0.6.100ubuntu2_all.deb ...\n",
            "Unpacking blends-common (0.6.100ubuntu2) ...\n",
            "Selecting previously unselected package libmbedcrypto1:amd64.\n",
            "Preparing to unpack .../04-libmbedcrypto1_2.8.0-1_amd64.deb ...\n",
            "Unpacking libmbedcrypto1:amd64 (2.8.0-1) ...\n",
            "Selecting previously unselected package libmbedx509-0:amd64.\n",
            "Preparing to unpack .../05-libmbedx509-0_2.8.0-1_amd64.deb ...\n",
            "Unpacking libmbedx509-0:amd64 (2.8.0-1) ...\n",
            "Selecting previously unselected package libmbedtls10:amd64.\n",
            "Preparing to unpack .../06-libmbedtls10_2.8.0-1_amd64.deb ...\n",
            "Unpacking libmbedtls10:amd64 (2.8.0-1) ...\n",
            "Selecting previously unselected package libmbedtls-dev:amd64.\n",
            "Preparing to unpack .../07-libmbedtls-dev_2.8.0-1_amd64.deb ...\n",
            "Unpacking libmbedtls-dev:amd64 (2.8.0-1) ...\n",
            "Selecting previously unselected package libkdf5-2.\n",
            "Preparing to unpack .../08-libkdf5-2_2.8.2-2+dfsg-1build1_amd64.deb ...\n",
            "Unpacking libkdf5-2 (2.8.2-2+dfsg-1build1) ...\n",
            "Selecting previously unselected package libncbi-vdb2.\n",
            "Preparing to unpack .../09-libncbi-vdb2_2.8.2-2+dfsg-1build1_amd64.deb ...\n",
            "Unpacking libncbi-vdb2 (2.8.2-2+dfsg-1build1) ...\n",
            "Selecting previously unselected package libncbi-wvdb2.\n",
            "Preparing to unpack .../10-libncbi-wvdb2_2.8.2-2+dfsg-1build1_amd64.deb ...\n",
            "Unpacking libncbi-wvdb2 (2.8.2-2+dfsg-1build1) ...\n",
            "Selecting previously unselected package sra-toolkit.\n",
            "Preparing to unpack .../11-sra-toolkit_2.8.2-5+dfsg-1_amd64.deb ...\n",
            "Unpacking sra-toolkit (2.8.2-5+dfsg-1) ...\n",
            "Selecting previously unselected package med-config.\n",
            "Preparing to unpack .../12-med-config_3.0.1ubuntu1_all.deb ...\n",
            "Unpacking med-config (3.0.1ubuntu1) ...\n",
            "Setting up libmbedcrypto1:amd64 (2.8.0-1) ...\n",
            "Setting up menu (2.1.47ubuntu2.1) ...\n",
            "Setting up libmagic-mgc (1:5.32-2ubuntu0.2) ...\n",
            "Setting up libmagic1:amd64 (1:5.32-2ubuntu0.2) ...\n",
            "Processing triggers for libc-bin (2.27-3ubuntu1) ...\n",
            "Setting up libncbi-wvdb2 (2.8.2-2+dfsg-1build1) ...\n",
            "Processing triggers for man-db (2.8.3-2ubuntu0.1) ...\n",
            "Setting up libmbedx509-0:amd64 (2.8.0-1) ...\n",
            "Setting up libmbedtls10:amd64 (2.8.0-1) ...\n",
            "Setting up blends-common (0.6.100ubuntu2) ...\n",
            "Setting up libncbi-vdb2 (2.8.2-2+dfsg-1build1) ...\n",
            "Setting up libmbedtls-dev:amd64 (2.8.0-1) ...\n",
            "Setting up med-config (3.0.1ubuntu1) ...\n",
            "Adding group `med' (GID 109) ...\n",
            "Done.\n",
            "Setting up libkdf5-2 (2.8.2-2+dfsg-1build1) ...\n",
            "Setting up sra-toolkit (2.8.2-5+dfsg-1) ...\n",
            "Processing triggers for menu (2.1.47ubuntu2.1) ...\n",
            "Processing triggers for libc-bin (2.27-3ubuntu1) ...\n"
          ],
          "name": "stdout"
        }
      ]
    },
    {
      "metadata": {
        "id": "qfy2KKsVpP7F",
        "colab_type": "code",
        "outputId": "a7bfcb8e-e277-4fb2-90dc-5717fc1653b9",
        "colab": {
          "base_uri": "https://localhost:8080/",
          "height": 281
        }
      },
      "cell_type": "code",
      "source": [
        "ls sratoolkit.2.9.4-1-ubuntu64/bin"
      ],
      "execution_count": 0,
      "outputs": [
        {
          "output_type": "stream",
          "text": [
            "abi-dump.2.9.4          kdbmeta.2.9.4       sra-stat.2.9.4\n",
            "abi-load.2.9.4          latf-load.2.9.4     srf-load.2.9.4\n",
            "align-info.2.9.4        \u001b[0m\u001b[01;34mncbi\u001b[0m/               tblastn_vdb.2.6.1-2.9.4\n",
            "bam-load.2.9.4          pacbio-load.2.9.4   test-sra.2.9.4\n",
            "blastn_vdb.2.6.1-2.9.4  prefetch.2.9.4      vdb-config.2.9.4\n",
            "cache-mgr.2.9.4         rcexplain.2.9.4     vdb-copy.2.9.4\n",
            "cg-load.2.9.4           remote-fuser.2.9.4  vdb-decrypt.2.9.4\n",
            "dump-ref-fasta.2.9.4    sam-dump.2.9.4      vdb-dump.2.9.4\n",
            "fasterq-dump.2.9.4      sff-dump.2.9.4      vdb-encrypt.2.9.4\n",
            "fastq-dump.2.9.4        sff-load.2.9.4      vdb-lock.2.9.4\n",
            "fastq-load.2.9.4        srapath.2.9.4       vdb-passwd.2.9.4\n",
            "helicos-load.2.9.4      sra-pileup.2.9.4    vdb-unlock.2.9.4\n",
            "illumina-dump.2.9.4     sra-search.2.9.4    vdb-validate.2.9.4\n",
            "illumina-load.2.9.4     sra-sort.2.9.4\n",
            "kar.2.9.4               sra-sort-cg.2.9.4\n"
          ],
          "name": "stdout"
        }
      ]
    },
    {
      "metadata": {
        "id": "XzQh0qxepXbt",
        "colab_type": "code",
        "outputId": "5654e359-d3bd-49a5-c568-db8125474722",
        "colab": {
          "base_uri": "https://localhost:8080/",
          "height": 175
        }
      },
      "cell_type": "code",
      "source": [
        "! fastq-dump\n",
        "\n",
        "# day1에 wget으로 깔았던 sratoolkit처럼 apt install을 통해 깔아도 변함없이 다양한 명령어 사용가능하여 fastq-dump도 이용 가능함을 알 수 있다\n",
        "## (위는 day1에 깔았던 sratoolkit의 명령어들 목록으로, 그 중 하나인 fastq-dump를 apt install로 깔아도 변함없이 이용가능)\n",
        "\n",
        "# 어떻게 사용해야하는지 사용법을 알 수 있는 명령어"
      ],
      "execution_count": 0,
      "outputs": [
        {
          "output_type": "stream",
          "text": [
            "\n",
            "Usage:\n",
            "  fastq-dump [options] <path> [<path>...]\n",
            "  fastq-dump [options] <accession>\n",
            "\n",
            "Use option --help for more information\n",
            "\n",
            "fastq-dump : 2.8.2\n",
            "\n"
          ],
          "name": "stdout"
        }
      ]
    },
    {
      "metadata": {
        "id": "a8lyw-xppkUX",
        "colab_type": "code",
        "outputId": "a0eedd62-d311-4101-a1a1-d6add0a46b8c",
        "colab": {
          "base_uri": "https://localhost:8080/",
          "height": 52
        }
      },
      "cell_type": "code",
      "source": [
        "ls sra"
      ],
      "execution_count": 0,
      "outputs": [
        {
          "output_type": "stream",
          "text": [
            "SRR8700955.sra  SRR8700959.sra         SRR8704599_2.fastq.gz\n",
            "SRR8700956.sra  SRR8704599_1.fastq.gz  SRR8704599.sra\n"
          ],
          "name": "stdout"
        }
      ]
    },
    {
      "metadata": {
        "id": "BAbeqaPLrel7",
        "colab_type": "code",
        "outputId": "9df47f8e-e309-4cad-a8cb-57bbf55e2f8a",
        "colab": {
          "base_uri": "https://localhost:8080/",
          "height": 122
        }
      },
      "cell_type": "code",
      "source": [
        "ls references/"
      ],
      "execution_count": 0,
      "outputs": [
        {
          "output_type": "stream",
          "text": [
            "GCA_004328685.1_ASM432868v1_genomic.fna\n",
            "GCA_004328685.1_ASM432868v1_genomic.fna.amb\n",
            "GCA_004328685.1_ASM432868v1_genomic.fna.ann\n",
            "GCA_004328685.1_ASM432868v1_genomic.fna.bwt\n",
            "GCA_004328685.1_ASM432868v1_genomic.fna.pac\n",
            "GCA_004328685.1_ASM432868v1_genomic.fna.sa\n"
          ],
          "name": "stdout"
        }
      ]
    },
    {
      "metadata": {
        "id": "T_NB7jfsrjt6",
        "colab_type": "code",
        "outputId": "420ef350-56e4-4b99-a6ab-acffc585a591",
        "colab": {
          "base_uri": "https://localhost:8080/",
          "height": 1075
        }
      },
      "cell_type": "code",
      "source": [
        "! bwa mem\n",
        "\n",
        "# 이 명령어를 이용해 read들을 reference에 mapping할 수 있다"
      ],
      "execution_count": 0,
      "outputs": [
        {
          "output_type": "stream",
          "text": [
            "\n",
            "Usage: bwa mem [options] <idxbase> <in1.fq> [in2.fq]\n",
            "\n",
            "Algorithm options:\n",
            "\n",
            "       -t INT        number of threads [1]\n",
            "       -k INT        minimum seed length [19]\n",
            "       -w INT        band width for banded alignment [100]\n",
            "       -d INT        off-diagonal X-dropoff [100]\n",
            "       -r FLOAT      look for internal seeds inside a seed longer than {-k} * FLOAT [1.5]\n",
            "       -y INT        seed occurrence for the 3rd round seeding [20]\n",
            "       -c INT        skip seeds with more than INT occurrences [500]\n",
            "       -D FLOAT      drop chains shorter than FLOAT fraction of the longest overlapping chain [0.50]\n",
            "       -W INT        discard a chain if seeded bases shorter than INT [0]\n",
            "       -m INT        perform at most INT rounds of mate rescues for each read [50]\n",
            "       -S            skip mate rescue\n",
            "       -P            skip pairing; mate rescue performed unless -S also in use\n",
            "\n",
            "Scoring options:\n",
            "\n",
            "       -A INT        score for a sequence match, which scales options -TdBOELU unless overridden [1]\n",
            "       -B INT        penalty for a mismatch [4]\n",
            "       -O INT[,INT]  gap open penalties for deletions and insertions [6,6]\n",
            "       -E INT[,INT]  gap extension penalty; a gap of size k cost '{-O} + {-E}*k' [1,1]\n",
            "       -L INT[,INT]  penalty for 5'- and 3'-end clipping [5,5]\n",
            "       -U INT        penalty for an unpaired read pair [17]\n",
            "\n",
            "       -x STR        read type. Setting -x changes multiple parameters unless overridden [null]\n",
            "                     pacbio: -k17 -W40 -r10 -A1 -B1 -O1 -E1 -L0  (PacBio reads to ref)\n",
            "                     ont2d: -k14 -W20 -r10 -A1 -B1 -O1 -E1 -L0  (Oxford Nanopore 2D-reads to ref)\n",
            "                     intractg: -B9 -O16 -L5  (intra-species contigs to ref)\n",
            "\n",
            "Input/output options:\n",
            "\n",
            "       -p            smart pairing (ignoring in2.fq)\n",
            "       -R STR        read group header line such as '@RG\\tID:foo\\tSM:bar' [null]\n",
            "       -H STR/FILE   insert STR to header if it starts with @; or insert lines in FILE [null]\n",
            "       -o FILE       sam file to output results to [stdout]\n",
            "       -j            treat ALT contigs as part of the primary assembly (i.e. ignore <idxbase>.alt file)\n",
            "       -5            for split alignment, take the alignment with the smallest coordinate as primary\n",
            "       -q            don't modify mapQ of supplementary alignments\n",
            "       -K INT        process INT input bases in each batch regardless of nThreads (for reproducibility) []\n",
            "\n",
            "       -v INT        verbosity level: 1=error, 2=warning, 3=message, 4+=debugging [3]\n",
            "       -T INT        minimum score to output [30]\n",
            "       -h INT[,INT]  if there are <INT hits with score >80% of the max score, output all in XA [5,200]\n",
            "       -a            output all alignments for SE or unpaired PE\n",
            "       -C            append FASTA/FASTQ comment to SAM output\n",
            "       -V            output the reference FASTA header in the XR tag\n",
            "       -Y            use soft clipping for supplementary alignments\n",
            "       -M            mark shorter split hits as secondary\n",
            "\n",
            "       -I FLOAT[,FLOAT[,INT[,INT]]]\n",
            "                     specify the mean, standard deviation (10% of the mean if absent), max\n",
            "                     (4 sigma from the mean if absent) and min of the insert size distribution.\n",
            "                     FR orientation only. [inferred]\n",
            "\n",
            "Note: Please read the man page for detailed description of the command line and options.\n",
            "\n"
          ],
          "name": "stdout"
        }
      ]
    },
    {
      "metadata": {
        "id": "nqGOYENgrmsI",
        "colab_type": "code",
        "outputId": "1dc98d1f-2acb-49df-e70a-2ead8e5d2012",
        "colab": {
          "base_uri": "https://localhost:8080/",
          "height": 213
        }
      },
      "cell_type": "code",
      "source": [
        "! zcat ./sra/SRR8704599_1.fastq.gz | head\n",
        "\n",
        "# 이렇게 볼 수 있듯이 짧은 read들이 많이 있는데, 이들을 reference sequence에 알맞게 mapping할 것이다"
      ],
      "execution_count": 0,
      "outputs": [
        {
          "output_type": "stream",
          "text": [
            "@1\n",
            "ACGAAGTTGTATCTGTTGTTTCACGCGAATTATTTACCGCTGGTCATTTTTTGGTGTTCGTCGAGGAATTCTTTCATCTCTTTCGGCGGCTGGTAACCCGG\n",
            "+1\n",
            "GGGGGIIIIIIIIIIIIIIGIIIIIIIIIIIIIIIIIIIIIIIGIIIIIIIIIIIIIIIGIIIIIIIIIIIIIIIIIIIIIIIIIIIIIIIIIIIIIIIII\n",
            "@2\n",
            "TTTTCGAGGCGATAACCGGCCATAAAAAAGCGCAACGTAGAACAGGAATTATTCTCACGAAAGAAATCCATTACCATCTCTTTATCCAGTCCATAGCGGCG\n",
            "+2\n",
            "AAGAGIGIIIIGIIIIGGIGIIIIIGIIGIGIIGGIIIIGIIIIGGIIIIIIIIIIIIIIIIGGAGGGGGGGIIGIIIGIIGGIGIIIGGGIIIIIIIGII\n",
            "@3\n",
            "CCCGTGCACAGAATGAAGATGTAGATGAGTTGTGTAAGAAAGTGACAAGTTGGATGTATTCGCATCCTGGAGAGAGAATTAGATATGAACGTTTTAAGACA\n"
          ],
          "name": "stdout"
        }
      ]
    },
    {
      "metadata": {
        "id": "l4vvE-NqrzPQ",
        "colab_type": "code",
        "colab": {}
      },
      "cell_type": "code",
      "source": [
        "# day1에 했던 ! bwa index ./references/GCA_004328685.1_ASM432868v1_genomic.fna 로 indexing해주어 생겼던 다른 file들의 도움을 받아 bwa mem 명령어로 SRR read file을 reference에 mapping할 수 있다\n",
        "# 게임을 깔아도 정작 쓰는 file은 .exe format file인데 그 외 응용프로그램들이 많이 깔려 게임 실행에 도움을 주는 것처럼 bwa 또한 reference file을 사용할때 .fna format file을 사용하지만 indexing을 하여 만들었던 여러 file을 통해 mapping에 도움을 주도록 하는 것이다\n",
        "# reference file을 indexing 하지않고 bwa mem 명령어를 실행하려하면 error가 생기며 sam file을 만들 수 없게 된다. 응용 file들이 없어 mapping이 되지 않는 것이다"
      ],
      "execution_count": 0,
      "outputs": []
    },
    {
      "metadata": {
        "id": "PyxA6G30shKy",
        "colab_type": "code",
        "outputId": "5d5a76a9-aac9-42eb-dc25-3f9ed38c89f2",
        "colab": {
          "base_uri": "https://localhost:8080/",
          "height": 8890
        }
      },
      "cell_type": "code",
      "source": [
        "! bwa mem -o ./sra/SRR8704599.sam ./references/GCA_004328685.1_ASM432868v1_genomic.fna ./sra/SRR8704599_1.fastq.gz ./sra/SRR8704599_2.fastq.gz\n",
        "\n",
        "# bwa mem은 주로 100bp 이상의 fastq 분석에 유리, bwa aln의 경우 single end 분석이 가능\n",
        "# 100bp single end라면 bwa anl과 samse를 이용해야 mapping이 잘 된다\n",
        "# paired end라면 bwa mem을 써야 gap에 잘 대응할 수 있다\n",
        "# sra폴더에 있는 fastq format으로 저장된 read들을 reference에 mapping\n",
        "# -o는 output을 내놓겠단 뜻으로, sam format으로 내놓도록 하였다\n",
        "# bwa mem -o (output명) (reference file 명) (read file1 명) (read file2 명)"
      ],
      "execution_count": 0,
      "outputs": [
        {
          "output_type": "stream",
          "text": [
            "[M::bwa_idx_load_from_disk] read 0 ALT contigs\n",
            "[M::process] read 99782 sequences (10000119 bp)...\n",
            "[M::process] read 99790 sequences (10000081 bp)...\n",
            "[M::mem_pestat] # candidate unique pairs for (FF, FR, RF, RR): (10, 34010, 14, 4)\n",
            "[M::mem_pestat] analyzing insert size distribution for orientation FF...\n",
            "[M::mem_pestat] (25, 50, 75) percentile: (137, 244, 287)\n",
            "[M::mem_pestat] low and high boundaries for computing mean and std.dev: (1, 587)\n",
            "[M::mem_pestat] mean and std.dev: (215.90, 88.94)\n",
            "[M::mem_pestat] low and high boundaries for proper pairs: (1, 737)\n",
            "[M::mem_pestat] analyzing insert size distribution for orientation FR...\n",
            "[M::mem_pestat] (25, 50, 75) percentile: (264, 355, 479)\n",
            "[M::mem_pestat] low and high boundaries for computing mean and std.dev: (1, 909)\n",
            "[M::mem_pestat] mean and std.dev: (378.89, 161.68)\n",
            "[M::mem_pestat] low and high boundaries for proper pairs: (1, 1124)\n",
            "[M::mem_pestat] analyzing insert size distribution for orientation RF...\n",
            "[M::mem_pestat] (25, 50, 75) percentile: (161, 1590, 2993)\n",
            "[M::mem_pestat] low and high boundaries for computing mean and std.dev: (1, 8657)\n",
            "[M::mem_pestat] mean and std.dev: (2367.86, 2801.46)\n",
            "[M::mem_pestat] low and high boundaries for proper pairs: (1, 13574)\n",
            "[M::mem_pestat] skip orientation RR as there are not enough pairs\n",
            "[M::mem_pestat] skip orientation FF\n",
            "[M::mem_pestat] skip orientation RF\n",
            "[M::mem_process_seqs] Processed 99782 reads in 6.738 CPU sec, 7.003 real sec\n",
            "[M::process] read 99802 sequences (10000147 bp)...\n",
            "[M::mem_pestat] # candidate unique pairs for (FF, FR, RF, RR): (5, 33866, 11, 7)\n",
            "[M::mem_pestat] skip orientation FF as there are not enough pairs\n",
            "[M::mem_pestat] analyzing insert size distribution for orientation FR...\n",
            "[M::mem_pestat] (25, 50, 75) percentile: (263, 354, 478)\n",
            "[M::mem_pestat] low and high boundaries for computing mean and std.dev: (1, 908)\n",
            "[M::mem_pestat] mean and std.dev: (378.74, 161.41)\n",
            "[M::mem_pestat] low and high boundaries for proper pairs: (1, 1123)\n",
            "[M::mem_pestat] analyzing insert size distribution for orientation RF...\n",
            "[M::mem_pestat] (25, 50, 75) percentile: (153, 225, 2683)\n",
            "[M::mem_pestat] low and high boundaries for computing mean and std.dev: (1, 7743)\n",
            "[M::mem_pestat] mean and std.dev: (1125.73, 1401.97)\n",
            "[M::mem_pestat] low and high boundaries for proper pairs: (1, 10273)\n",
            "[M::mem_pestat] skip orientation RR as there are not enough pairs\n",
            "[M::mem_pestat] skip orientation RF\n",
            "[M::mem_process_seqs] Processed 99790 reads in 6.471 CPU sec, 6.130 real sec\n",
            "[M::process] read 99798 sequences (10000081 bp)...\n",
            "[M::mem_pestat] # candidate unique pairs for (FF, FR, RF, RR): (3, 33973, 10, 3)\n",
            "[M::mem_pestat] skip orientation FF as there are not enough pairs\n",
            "[M::mem_pestat] analyzing insert size distribution for orientation FR...\n",
            "[M::mem_pestat] (25, 50, 75) percentile: (263, 353, 475)\n",
            "[M::mem_pestat] low and high boundaries for computing mean and std.dev: (1, 899)\n",
            "[M::mem_pestat] mean and std.dev: (376.61, 160.07)\n",
            "[M::mem_pestat] low and high boundaries for proper pairs: (1, 1111)\n",
            "[M::mem_pestat] analyzing insert size distribution for orientation RF...\n",
            "[M::mem_pestat] (25, 50, 75) percentile: (70, 2858, 3170)\n",
            "[M::mem_pestat] low and high boundaries for computing mean and std.dev: (1, 9370)\n",
            "[M::mem_pestat] mean and std.dev: (2482.40, 2502.04)\n",
            "[M::mem_pestat] low and high boundaries for proper pairs: (1, 12491)\n",
            "[M::mem_pestat] skip orientation RR as there are not enough pairs\n",
            "[M::mem_pestat] skip orientation RF\n",
            "[M::mem_process_seqs] Processed 99802 reads in 6.597 CPU sec, 6.298 real sec\n",
            "[M::process] read 99794 sequences (10000017 bp)...\n",
            "[M::mem_pestat] # candidate unique pairs for (FF, FR, RF, RR): (6, 33893, 14, 3)\n",
            "[M::mem_pestat] skip orientation FF as there are not enough pairs\n",
            "[M::mem_pestat] analyzing insert size distribution for orientation FR...\n",
            "[M::mem_pestat] (25, 50, 75) percentile: (267, 356, 482)\n",
            "[M::mem_pestat] low and high boundaries for computing mean and std.dev: (1, 912)\n",
            "[M::mem_pestat] mean and std.dev: (381.51, 162.00)\n",
            "[M::mem_pestat] low and high boundaries for proper pairs: (1, 1127)\n",
            "[M::mem_pestat] analyzing insert size distribution for orientation RF...\n",
            "[M::mem_pestat] (25, 50, 75) percentile: (153, 2958, 3178)\n",
            "[M::mem_pestat] low and high boundaries for computing mean and std.dev: (1, 9228)\n",
            "[M::mem_pestat] mean and std.dev: (2794.79, 2675.68)\n",
            "[M::mem_pestat] low and high boundaries for proper pairs: (1, 13498)\n",
            "[M::mem_pestat] skip orientation RR as there are not enough pairs\n",
            "[M::mem_pestat] skip orientation RF\n",
            "[M::mem_process_seqs] Processed 99798 reads in 6.613 CPU sec, 6.267 real sec\n",
            "[M::process] read 99814 sequences (10000127 bp)...\n",
            "[M::mem_pestat] # candidate unique pairs for (FF, FR, RF, RR): (7, 33752, 10, 3)\n",
            "[M::mem_pestat] skip orientation FF as there are not enough pairs\n",
            "[M::mem_pestat] analyzing insert size distribution for orientation FR...\n",
            "[M::mem_pestat] (25, 50, 75) percentile: (259, 345, 464)\n",
            "[M::mem_pestat] low and high boundaries for computing mean and std.dev: (1, 874)\n",
            "[M::mem_pestat] mean and std.dev: (368.18, 154.06)\n",
            "[M::mem_pestat] low and high boundaries for proper pairs: (1, 1079)\n",
            "[M::mem_pestat] analyzing insert size distribution for orientation RF...\n",
            "[M::mem_pestat] (25, 50, 75) percentile: (308, 3037, 3262)\n",
            "[M::mem_pestat] low and high boundaries for computing mean and std.dev: (1, 9170)\n",
            "[M::mem_pestat] mean and std.dev: (2906.50, 3033.47)\n",
            "[M::mem_pestat] low and high boundaries for proper pairs: (1, 15040)\n",
            "[M::mem_pestat] skip orientation RR as there are not enough pairs\n",
            "[M::mem_pestat] skip orientation RF\n",
            "[M::mem_process_seqs] Processed 99794 reads in 6.526 CPU sec, 6.209 real sec\n",
            "[M::process] read 99774 sequences (10000179 bp)...\n",
            "[M::mem_pestat] # candidate unique pairs for (FF, FR, RF, RR): (7, 33789, 9, 6)\n",
            "[M::mem_pestat] skip orientation FF as there are not enough pairs\n",
            "[M::mem_pestat] analyzing insert size distribution for orientation FR...\n",
            "[M::mem_pestat] (25, 50, 75) percentile: (258, 346, 467)\n",
            "[M::mem_pestat] low and high boundaries for computing mean and std.dev: (1, 885)\n",
            "[M::mem_pestat] mean and std.dev: (369.53, 156.81)\n",
            "[M::mem_pestat] low and high boundaries for proper pairs: (1, 1094)\n",
            "[M::mem_pestat] skip orientation RF as there are not enough pairs\n",
            "[M::mem_pestat] skip orientation RR as there are not enough pairs\n",
            "[M::mem_process_seqs] Processed 99814 reads in 6.385 CPU sec, 6.082 real sec\n",
            "[M::process] read 99794 sequences (10000198 bp)...\n",
            "[M::mem_pestat] # candidate unique pairs for (FF, FR, RF, RR): (8, 33879, 9, 1)\n",
            "[M::mem_pestat] skip orientation FF as there are not enough pairs\n",
            "[M::mem_pestat] analyzing insert size distribution for orientation FR...\n",
            "[M::mem_pestat] (25, 50, 75) percentile: (260, 346, 468)\n",
            "[M::mem_pestat] low and high boundaries for computing mean and std.dev: (1, 884)\n",
            "[M::mem_pestat] mean and std.dev: (370.79, 155.49)\n",
            "[M::mem_pestat] low and high boundaries for proper pairs: (1, 1092)\n",
            "[M::mem_pestat] skip orientation RF as there are not enough pairs\n",
            "[M::mem_pestat] skip orientation RR as there are not enough pairs\n",
            "[M::mem_process_seqs] Processed 99774 reads in 6.415 CPU sec, 6.126 real sec\n",
            "[M::process] read 99736 sequences (10000188 bp)...\n",
            "[M::mem_pestat] # candidate unique pairs for (FF, FR, RF, RR): (6, 34140, 4, 4)\n",
            "[M::mem_pestat] skip orientation FF as there are not enough pairs\n",
            "[M::mem_pestat] analyzing insert size distribution for orientation FR...\n",
            "[M::mem_pestat] (25, 50, 75) percentile: (259, 344, 464)\n",
            "[M::mem_pestat] low and high boundaries for computing mean and std.dev: (1, 874)\n",
            "[M::mem_pestat] mean and std.dev: (369.25, 155.87)\n",
            "[M::mem_pestat] low and high boundaries for proper pairs: (1, 1079)\n",
            "[M::mem_pestat] skip orientation RF as there are not enough pairs\n",
            "[M::mem_pestat] skip orientation RR as there are not enough pairs\n",
            "[M::mem_process_seqs] Processed 99794 reads in 6.508 CPU sec, 6.170 real sec\n",
            "[M::process] read 99780 sequences (10000084 bp)...\n",
            "[M::mem_pestat] # candidate unique pairs for (FF, FR, RF, RR): (5, 34008, 9, 7)\n",
            "[M::mem_pestat] skip orientation FF as there are not enough pairs\n",
            "[M::mem_pestat] analyzing insert size distribution for orientation FR...\n",
            "[M::mem_pestat] (25, 50, 75) percentile: (268, 359, 490)\n",
            "[M::mem_pestat] low and high boundaries for computing mean and std.dev: (1, 934)\n",
            "[M::mem_pestat] mean and std.dev: (386.81, 167.05)\n",
            "[M::mem_pestat] low and high boundaries for proper pairs: (1, 1156)\n",
            "[M::mem_pestat] skip orientation RF as there are not enough pairs\n",
            "[M::mem_pestat] skip orientation RR as there are not enough pairs\n",
            "[M::mem_process_seqs] Processed 99736 reads in 6.678 CPU sec, 6.379 real sec\n",
            "[M::process] read 99766 sequences (10000176 bp)...\n",
            "[M::mem_pestat] # candidate unique pairs for (FF, FR, RF, RR): (3, 34012, 10, 5)\n",
            "[M::mem_pestat] skip orientation FF as there are not enough pairs\n",
            "[M::mem_pestat] analyzing insert size distribution for orientation FR...\n",
            "[M::mem_pestat] (25, 50, 75) percentile: (269, 362, 496)\n",
            "[M::mem_pestat] low and high boundaries for computing mean and std.dev: (1, 950)\n",
            "[M::mem_pestat] mean and std.dev: (390.06, 169.63)\n",
            "[M::mem_pestat] low and high boundaries for proper pairs: (1, 1177)\n",
            "[M::mem_pestat] analyzing insert size distribution for orientation RF...\n",
            "[M::mem_pestat] (25, 50, 75) percentile: (107, 215, 4019)\n",
            "[M::mem_pestat] low and high boundaries for computing mean and std.dev: (1, 11843)\n",
            "[M::mem_pestat] mean and std.dev: (1903.00, 2586.77)\n",
            "[M::mem_pestat] low and high boundaries for proper pairs: (1, 15755)\n",
            "[M::mem_pestat] skip orientation RR as there are not enough pairs\n",
            "[M::mem_pestat] skip orientation RF\n",
            "[M::mem_process_seqs] Processed 99780 reads in 6.533 CPU sec, 6.199 real sec\n",
            "[M::process] read 99778 sequences (10000116 bp)...\n",
            "[M::mem_pestat] # candidate unique pairs for (FF, FR, RF, RR): (6, 33992, 12, 5)\n",
            "[M::mem_pestat] skip orientation FF as there are not enough pairs\n",
            "[M::mem_pestat] analyzing insert size distribution for orientation FR...\n",
            "[M::mem_pestat] (25, 50, 75) percentile: (270, 363, 498)\n",
            "[M::mem_pestat] low and high boundaries for computing mean and std.dev: (1, 954)\n",
            "[M::mem_pestat] mean and std.dev: (391.75, 170.05)\n",
            "[M::mem_pestat] low and high boundaries for proper pairs: (1, 1182)\n",
            "[M::mem_pestat] analyzing insert size distribution for orientation RF...\n",
            "[M::mem_pestat] (25, 50, 75) percentile: (150, 1519, 2986)\n",
            "[M::mem_pestat] low and high boundaries for computing mean and std.dev: (1, 8658)\n",
            "[M::mem_pestat] mean and std.dev: (2182.25, 2944.00)\n",
            "[M::mem_pestat] low and high boundaries for proper pairs: (1, 13958)\n",
            "[M::mem_pestat] skip orientation RR as there are not enough pairs\n",
            "[M::mem_pestat] skip orientation RF\n",
            "[M::mem_process_seqs] Processed 99766 reads in 6.698 CPU sec, 6.411 real sec\n",
            "[M::process] read 99792 sequences (10000147 bp)...\n",
            "[M::mem_pestat] # candidate unique pairs for (FF, FR, RF, RR): (5, 33986, 14, 9)\n",
            "[M::mem_pestat] skip orientation FF as there are not enough pairs\n",
            "[M::mem_pestat] analyzing insert size distribution for orientation FR...\n",
            "[M::mem_pestat] (25, 50, 75) percentile: (270, 362, 495)\n",
            "[M::mem_pestat] low and high boundaries for computing mean and std.dev: (1, 945)\n",
            "[M::mem_pestat] mean and std.dev: (390.42, 168.30)\n",
            "[M::mem_pestat] low and high boundaries for proper pairs: (1, 1170)\n",
            "[M::mem_pestat] analyzing insert size distribution for orientation RF...\n",
            "[M::mem_pestat] (25, 50, 75) percentile: (122, 1578, 4123)\n",
            "[M::mem_pestat] low and high boundaries for computing mean and std.dev: (1, 12125)\n",
            "[M::mem_pestat] mean and std.dev: (2463.79, 2798.80)\n",
            "[M::mem_pestat] low and high boundaries for proper pairs: (1, 16126)\n",
            "[M::mem_pestat] skip orientation RR as there are not enough pairs\n",
            "[M::mem_pestat] skip orientation RF\n",
            "[M::mem_process_seqs] Processed 99778 reads in 6.652 CPU sec, 6.401 real sec\n",
            "[M::process] read 99796 sequences (10000106 bp)...\n",
            "[M::mem_pestat] # candidate unique pairs for (FF, FR, RF, RR): (11, 33947, 8, 6)\n",
            "[M::mem_pestat] analyzing insert size distribution for orientation FF...\n",
            "[M::mem_pestat] (25, 50, 75) percentile: (191, 278, 419)\n",
            "[M::mem_pestat] low and high boundaries for computing mean and std.dev: (1, 875)\n",
            "[M::mem_pestat] mean and std.dev: (260.60, 113.21)\n",
            "[M::mem_pestat] low and high boundaries for proper pairs: (1, 1103)\n",
            "[M::mem_pestat] analyzing insert size distribution for orientation FR...\n",
            "[M::mem_pestat] (25, 50, 75) percentile: (264, 355, 483)\n",
            "[M::mem_pestat] low and high boundaries for computing mean and std.dev: (1, 921)\n",
            "[M::mem_pestat] mean and std.dev: (381.43, 163.08)\n",
            "[M::mem_pestat] low and high boundaries for proper pairs: (1, 1140)\n",
            "[M::mem_pestat] skip orientation RF as there are not enough pairs\n",
            "[M::mem_pestat] skip orientation RR as there are not enough pairs\n",
            "[M::mem_pestat] skip orientation FF\n",
            "[M::mem_process_seqs] Processed 99792 reads in 6.841 CPU sec, 6.624 real sec\n",
            "[M::process] read 99772 sequences (10000011 bp)...\n",
            "[M::mem_pestat] # candidate unique pairs for (FF, FR, RF, RR): (5, 33911, 16, 3)\n",
            "[M::mem_pestat] skip orientation FF as there are not enough pairs\n",
            "[M::mem_pestat] analyzing insert size distribution for orientation FR...\n",
            "[M::mem_pestat] (25, 50, 75) percentile: (263, 353, 480)\n",
            "[M::mem_pestat] low and high boundaries for computing mean and std.dev: (1, 914)\n",
            "[M::mem_pestat] mean and std.dev: (379.10, 162.37)\n",
            "[M::mem_pestat] low and high boundaries for proper pairs: (1, 1131)\n",
            "[M::mem_pestat] analyzing insert size distribution for orientation RF...\n",
            "[M::mem_pestat] (25, 50, 75) percentile: (71, 168, 2911)\n",
            "[M::mem_pestat] low and high boundaries for computing mean and std.dev: (1, 8591)\n",
            "[M::mem_pestat] mean and std.dev: (1795.88, 2769.60)\n",
            "[M::mem_pestat] low and high boundaries for proper pairs: (1, 12874)\n",
            "[M::mem_pestat] skip orientation RR as there are not enough pairs\n",
            "[M::mem_pestat] skip orientation RF\n",
            "[M::mem_process_seqs] Processed 99796 reads in 7.147 CPU sec, 6.915 real sec\n",
            "[M::process] read 99778 sequences (10000128 bp)...\n",
            "[M::mem_pestat] # candidate unique pairs for (FF, FR, RF, RR): (5, 33911, 7, 8)\n",
            "[M::mem_pestat] skip orientation FF as there are not enough pairs\n",
            "[M::mem_pestat] analyzing insert size distribution for orientation FR...\n",
            "[M::mem_pestat] (25, 50, 75) percentile: (263, 355, 485)\n",
            "[M::mem_pestat] low and high boundaries for computing mean and std.dev: (1, 929)\n",
            "[M::mem_pestat] mean and std.dev: (382.12, 166.47)\n",
            "[M::mem_pestat] low and high boundaries for proper pairs: (1, 1151)\n",
            "[M::mem_pestat] skip orientation RF as there are not enough pairs\n",
            "[M::mem_pestat] skip orientation RR as there are not enough pairs\n",
            "[M::mem_process_seqs] Processed 99772 reads in 7.203 CPU sec, 6.846 real sec\n",
            "[M::process] read 99762 sequences (10000156 bp)...\n",
            "[M::mem_pestat] # candidate unique pairs for (FF, FR, RF, RR): (5, 34021, 7, 6)\n",
            "[M::mem_pestat] skip orientation FF as there are not enough pairs\n",
            "[M::mem_pestat] analyzing insert size distribution for orientation FR...\n",
            "[M::mem_pestat] (25, 50, 75) percentile: (263, 352, 477)\n",
            "[M::mem_pestat] low and high boundaries for computing mean and std.dev: (1, 905)\n",
            "[M::mem_pestat] mean and std.dev: (376.85, 160.52)\n",
            "[M::mem_pestat] low and high boundaries for proper pairs: (1, 1119)\n",
            "[M::mem_pestat] skip orientation RF as there are not enough pairs\n",
            "[M::mem_pestat] skip orientation RR as there are not enough pairs\n",
            "[M::mem_process_seqs] Processed 99778 reads in 6.717 CPU sec, 6.415 real sec\n",
            "[M::process] read 99760 sequences (10000079 bp)...\n",
            "[M::mem_pestat] # candidate unique pairs for (FF, FR, RF, RR): (5, 33859, 16, 6)\n",
            "[M::mem_pestat] skip orientation FF as there are not enough pairs\n",
            "[M::mem_pestat] analyzing insert size distribution for orientation FR...\n",
            "[M::mem_pestat] (25, 50, 75) percentile: (264, 356, 485)\n",
            "[M::mem_pestat] low and high boundaries for computing mean and std.dev: (1, 927)\n",
            "[M::mem_pestat] mean and std.dev: (382.71, 163.99)\n",
            "[M::mem_pestat] low and high boundaries for proper pairs: (1, 1148)\n",
            "[M::mem_pestat] analyzing insert size distribution for orientation RF...\n",
            "[M::mem_pestat] (25, 50, 75) percentile: (75, 275, 2994)\n",
            "[M::mem_pestat] low and high boundaries for computing mean and std.dev: (1, 8832)\n",
            "[M::mem_pestat] mean and std.dev: (1939.69, 2743.46)\n",
            "[M::mem_pestat] low and high boundaries for proper pairs: (1, 12914)\n",
            "[M::mem_pestat] skip orientation RR as there are not enough pairs\n",
            "[M::mem_pestat] skip orientation RF\n",
            "[M::mem_process_seqs] Processed 99762 reads in 6.965 CPU sec, 6.629 real sec\n",
            "[M::process] read 99762 sequences (10000077 bp)...\n",
            "[M::mem_pestat] # candidate unique pairs for (FF, FR, RF, RR): (2, 34056, 12, 7)\n",
            "[M::mem_pestat] skip orientation FF as there are not enough pairs\n",
            "[M::mem_pestat] analyzing insert size distribution for orientation FR...\n",
            "[M::mem_pestat] (25, 50, 75) percentile: (268, 361, 492)\n",
            "[M::mem_pestat] low and high boundaries for computing mean and std.dev: (1, 940)\n",
            "[M::mem_pestat] mean and std.dev: (388.26, 167.12)\n",
            "[M::mem_pestat] low and high boundaries for proper pairs: (1, 1164)\n",
            "[M::mem_pestat] analyzing insert size distribution for orientation RF...\n",
            "[M::mem_pestat] (25, 50, 75) percentile: (86, 386, 8441)\n",
            "[M::mem_pestat] low and high boundaries for computing mean and std.dev: (1, 25151)\n",
            "[M::mem_pestat] mean and std.dev: (3021.33, 3853.94)\n",
            "[M::mem_pestat] low and high boundaries for proper pairs: (1, 33506)\n",
            "[M::mem_pestat] skip orientation RR as there are not enough pairs\n",
            "[M::mem_pestat] skip orientation RF\n",
            "[M::mem_process_seqs] Processed 99760 reads in 6.602 CPU sec, 6.318 real sec\n",
            "[M::process] read 99760 sequences (10000033 bp)...\n",
            "[M::mem_pestat] # candidate unique pairs for (FF, FR, RF, RR): (4, 33781, 8, 7)\n",
            "[M::mem_pestat] skip orientation FF as there are not enough pairs\n",
            "[M::mem_pestat] analyzing insert size distribution for orientation FR...\n",
            "[M::mem_pestat] (25, 50, 75) percentile: (268, 359, 486)\n",
            "[M::mem_pestat] low and high boundaries for computing mean and std.dev: (1, 922)\n",
            "[M::mem_pestat] mean and std.dev: (384.34, 163.23)\n",
            "[M::mem_pestat] low and high boundaries for proper pairs: (1, 1140)\n",
            "[M::mem_pestat] skip orientation RF as there are not enough pairs\n",
            "[M::mem_pestat] skip orientation RR as there are not enough pairs\n",
            "[M::mem_process_seqs] Processed 99762 reads in 6.769 CPU sec, 6.457 real sec\n",
            "[M::process] read 99790 sequences (10000037 bp)...\n",
            "[M::mem_pestat] # candidate unique pairs for (FF, FR, RF, RR): (3, 33925, 6, 8)\n",
            "[M::mem_pestat] skip orientation FF as there are not enough pairs\n",
            "[M::mem_pestat] analyzing insert size distribution for orientation FR...\n",
            "[M::mem_pestat] (25, 50, 75) percentile: (266, 357, 488)\n",
            "[M::mem_pestat] low and high boundaries for computing mean and std.dev: (1, 932)\n",
            "[M::mem_pestat] mean and std.dev: (385.76, 166.14)\n",
            "[M::mem_pestat] low and high boundaries for proper pairs: (1, 1154)\n",
            "[M::mem_pestat] skip orientation RF as there are not enough pairs\n",
            "[M::mem_pestat] skip orientation RR as there are not enough pairs\n",
            "[M::mem_process_seqs] Processed 99760 reads in 6.870 CPU sec, 6.663 real sec\n",
            "[M::process] read 99788 sequences (10000178 bp)...\n",
            "[M::mem_pestat] # candidate unique pairs for (FF, FR, RF, RR): (6, 33813, 6, 6)\n",
            "[M::mem_pestat] skip orientation FF as there are not enough pairs\n",
            "[M::mem_pestat] analyzing insert size distribution for orientation FR...\n",
            "[M::mem_pestat] (25, 50, 75) percentile: (264, 354, 480)\n",
            "[M::mem_pestat] low and high boundaries for computing mean and std.dev: (1, 912)\n",
            "[M::mem_pestat] mean and std.dev: (379.42, 161.89)\n",
            "[M::mem_pestat] low and high boundaries for proper pairs: (1, 1128)\n",
            "[M::mem_pestat] skip orientation RF as there are not enough pairs\n",
            "[M::mem_pestat] skip orientation RR as there are not enough pairs\n",
            "[M::mem_process_seqs] Processed 99790 reads in 6.565 CPU sec, 6.244 real sec\n",
            "[M::process] read 99790 sequences (10000084 bp)...\n",
            "[M::mem_pestat] # candidate unique pairs for (FF, FR, RF, RR): (2, 33726, 8, 9)\n",
            "[M::mem_pestat] skip orientation FF as there are not enough pairs\n",
            "[M::mem_pestat] analyzing insert size distribution for orientation FR...\n",
            "[M::mem_pestat] (25, 50, 75) percentile: (261, 349, 472)\n",
            "[M::mem_pestat] low and high boundaries for computing mean and std.dev: (1, 894)\n",
            "[M::mem_pestat] mean and std.dev: (374.61, 158.86)\n",
            "[M::mem_pestat] low and high boundaries for proper pairs: (1, 1105)\n",
            "[M::mem_pestat] skip orientation RF as there are not enough pairs\n",
            "[M::mem_pestat] skip orientation RR as there are not enough pairs\n",
            "[M::mem_process_seqs] Processed 99788 reads in 6.775 CPU sec, 6.550 real sec\n",
            "[M::process] read 99788 sequences (10000073 bp)...\n",
            "[M::mem_pestat] # candidate unique pairs for (FF, FR, RF, RR): (5, 33746, 12, 4)\n",
            "[M::mem_pestat] skip orientation FF as there are not enough pairs\n",
            "[M::mem_pestat] analyzing insert size distribution for orientation FR...\n",
            "[M::mem_pestat] (25, 50, 75) percentile: (261, 346, 468)\n",
            "[M::mem_pestat] low and high boundaries for computing mean and std.dev: (1, 882)\n",
            "[M::mem_pestat] mean and std.dev: (371.22, 155.83)\n",
            "[M::mem_pestat] low and high boundaries for proper pairs: (1, 1089)\n",
            "[M::mem_pestat] analyzing insert size distribution for orientation RF...\n",
            "[M::mem_pestat] (25, 50, 75) percentile: (162, 2988, 8324)\n",
            "[M::mem_pestat] low and high boundaries for computing mean and std.dev: (1, 24648)\n",
            "[M::mem_pestat] mean and std.dev: (3694.58, 3466.17)\n",
            "[M::mem_pestat] low and high boundaries for proper pairs: (1, 32810)\n",
            "[M::mem_pestat] skip orientation RR as there are not enough pairs\n",
            "[M::mem_pestat] skip orientation RF\n",
            "[M::mem_process_seqs] Processed 99790 reads in 6.683 CPU sec, 6.405 real sec\n",
            "[M::process] read 99812 sequences (10000095 bp)...\n",
            "[M::mem_pestat] # candidate unique pairs for (FF, FR, RF, RR): (6, 33725, 12, 10)\n",
            "[M::mem_pestat] skip orientation FF as there are not enough pairs\n",
            "[M::mem_pestat] analyzing insert size distribution for orientation FR...\n",
            "[M::mem_pestat] (25, 50, 75) percentile: (261, 348, 472)\n",
            "[M::mem_pestat] low and high boundaries for computing mean and std.dev: (1, 894)\n",
            "[M::mem_pestat] mean and std.dev: (373.27, 159.16)\n",
            "[M::mem_pestat] low and high boundaries for proper pairs: (1, 1105)\n",
            "[M::mem_pestat] analyzing insert size distribution for orientation RF...\n",
            "[M::mem_pestat] (25, 50, 75) percentile: (416, 2537, 4229)\n",
            "[M::mem_pestat] low and high boundaries for computing mean and std.dev: (1, 11855)\n",
            "[M::mem_pestat] mean and std.dev: (2769.50, 2811.21)\n",
            "[M::mem_pestat] low and high boundaries for proper pairs: (1, 15668)\n",
            "[M::mem_pestat] analyzing insert size distribution for orientation RR...\n",
            "[M::mem_pestat] (25, 50, 75) percentile: (212, 345, 511)\n",
            "[M::mem_pestat] low and high boundaries for computing mean and std.dev: (1, 1109)\n",
            "[M::mem_pestat] mean and std.dev: (300.67, 146.76)\n",
            "[M::mem_pestat] low and high boundaries for proper pairs: (1, 1408)\n",
            "[M::mem_pestat] skip orientation RF\n",
            "[M::mem_pestat] skip orientation RR\n",
            "[M::mem_process_seqs] Processed 99788 reads in 7.060 CPU sec, 6.723 real sec\n",
            "[M::process] read 99746 sequences (10000108 bp)...\n",
            "[M::mem_pestat] # candidate unique pairs for (FF, FR, RF, RR): (2, 33925, 11, 5)\n",
            "[M::mem_pestat] skip orientation FF as there are not enough pairs\n",
            "[M::mem_pestat] analyzing insert size distribution for orientation FR...\n",
            "[M::mem_pestat] (25, 50, 75) percentile: (260, 347, 466)\n",
            "[M::mem_pestat] low and high boundaries for computing mean and std.dev: (1, 878)\n",
            "[M::mem_pestat] mean and std.dev: (369.29, 154.62)\n",
            "[M::mem_pestat] low and high boundaries for proper pairs: (1, 1084)\n",
            "[M::mem_pestat] analyzing insert size distribution for orientation RF...\n",
            "[M::mem_pestat] (25, 50, 75) percentile: (129, 1590, 4080)\n",
            "[M::mem_pestat] low and high boundaries for computing mean and std.dev: (1, 11982)\n",
            "[M::mem_pestat] mean and std.dev: (2058.73, 1726.45)\n",
            "[M::mem_pestat] low and high boundaries for proper pairs: (1, 15933)\n",
            "[M::mem_pestat] skip orientation RR as there are not enough pairs\n",
            "[M::mem_pestat] skip orientation RF\n",
            "[M::mem_process_seqs] Processed 99812 reads in 6.815 CPU sec, 6.504 real sec\n",
            "[M::process] read 99774 sequences (10000186 bp)...\n",
            "[M::mem_pestat] # candidate unique pairs for (FF, FR, RF, RR): (14, 33964, 9, 6)\n",
            "[M::mem_pestat] analyzing insert size distribution for orientation FF...\n",
            "[M::mem_pestat] (25, 50, 75) percentile: (276, 404, 537)\n",
            "[M::mem_pestat] low and high boundaries for computing mean and std.dev: (1, 1059)\n",
            "[M::mem_pestat] mean and std.dev: (414.31, 191.89)\n",
            "[M::mem_pestat] low and high boundaries for proper pairs: (1, 1320)\n",
            "[M::mem_pestat] analyzing insert size distribution for orientation FR...\n",
            "[M::mem_pestat] (25, 50, 75) percentile: (270, 363, 497)\n",
            "[M::mem_pestat] low and high boundaries for computing mean and std.dev: (1, 951)\n",
            "[M::mem_pestat] mean and std.dev: (391.57, 170.63)\n",
            "[M::mem_pestat] low and high boundaries for proper pairs: (1, 1178)\n",
            "[M::mem_pestat] skip orientation RF as there are not enough pairs\n",
            "[M::mem_pestat] skip orientation RR as there are not enough pairs\n",
            "[M::mem_pestat] skip orientation FF\n",
            "[M::mem_process_seqs] Processed 99746 reads in 6.627 CPU sec, 6.407 real sec\n",
            "[M::process] read 99742 sequences (10000123 bp)...\n",
            "[M::mem_pestat] # candidate unique pairs for (FF, FR, RF, RR): (4, 33978, 13, 5)\n",
            "[M::mem_pestat] skip orientation FF as there are not enough pairs\n",
            "[M::mem_pestat] analyzing insert size distribution for orientation FR...\n",
            "[M::mem_pestat] (25, 50, 75) percentile: (273, 367, 505)\n",
            "[M::mem_pestat] low and high boundaries for computing mean and std.dev: (1, 969)\n",
            "[M::mem_pestat] mean and std.dev: (396.69, 172.49)\n",
            "[M::mem_pestat] low and high boundaries for proper pairs: (1, 1201)\n",
            "[M::mem_pestat] analyzing insert size distribution for orientation RF...\n",
            "[M::mem_pestat] (25, 50, 75) percentile: (109, 736, 8460)\n",
            "[M::mem_pestat] low and high boundaries for computing mean and std.dev: (1, 25162)\n",
            "[M::mem_pestat] mean and std.dev: (2818.77, 3369.72)\n",
            "[M::mem_pestat] low and high boundaries for proper pairs: (1, 33513)\n",
            "[M::mem_pestat] skip orientation RR as there are not enough pairs\n",
            "[M::mem_pestat] skip orientation RF\n",
            "[M::mem_process_seqs] Processed 99774 reads in 6.757 CPU sec, 6.486 real sec\n",
            "[M::process] read 99772 sequences (10000068 bp)...\n",
            "[M::mem_pestat] # candidate unique pairs for (FF, FR, RF, RR): (9, 34061, 9, 3)\n",
            "[M::mem_pestat] skip orientation FF as there are not enough pairs\n",
            "[M::mem_pestat] analyzing insert size distribution for orientation FR...\n",
            "[M::mem_pestat] (25, 50, 75) percentile: (273, 368, 507)\n",
            "[M::mem_pestat] low and high boundaries for computing mean and std.dev: (1, 975)\n",
            "[M::mem_pestat] mean and std.dev: (398.77, 175.31)\n",
            "[M::mem_pestat] low and high boundaries for proper pairs: (1, 1209)\n",
            "[M::mem_pestat] skip orientation RF as there are not enough pairs\n",
            "[M::mem_pestat] skip orientation RR as there are not enough pairs\n",
            "[M::mem_process_seqs] Processed 99742 reads in 6.737 CPU sec, 6.451 real sec\n",
            "[M::process] read 99782 sequences (10000025 bp)...\n",
            "[M::mem_pestat] # candidate unique pairs for (FF, FR, RF, RR): (4, 33790, 16, 7)\n",
            "[M::mem_pestat] skip orientation FF as there are not enough pairs\n",
            "[M::mem_pestat] analyzing insert size distribution for orientation FR...\n",
            "[M::mem_pestat] (25, 50, 75) percentile: (269, 365, 501)\n",
            "[M::mem_pestat] low and high boundaries for computing mean and std.dev: (1, 965)\n",
            "[M::mem_pestat] mean and std.dev: (393.95, 172.96)\n",
            "[M::mem_pestat] low and high boundaries for proper pairs: (1, 1197)\n",
            "[M::mem_pestat] analyzing insert size distribution for orientation RF...\n",
            "[M::mem_pestat] (25, 50, 75) percentile: (170, 3033, 8269)\n",
            "[M::mem_pestat] low and high boundaries for computing mean and std.dev: (1, 24467)\n",
            "[M::mem_pestat] mean and std.dev: (3549.56, 3419.21)\n",
            "[M::mem_pestat] low and high boundaries for proper pairs: (1, 32566)\n",
            "[M::mem_pestat] skip orientation RR as there are not enough pairs\n",
            "[M::mem_pestat] skip orientation RF\n",
            "[M::mem_process_seqs] Processed 99772 reads in 6.825 CPU sec, 6.462 real sec\n",
            "[M::process] read 99786 sequences (10000162 bp)...\n",
            "[M::mem_pestat] # candidate unique pairs for (FF, FR, RF, RR): (6, 33920, 12, 4)\n",
            "[M::mem_pestat] skip orientation FF as there are not enough pairs\n",
            "[M::mem_pestat] analyzing insert size distribution for orientation FR...\n",
            "[M::mem_pestat] (25, 50, 75) percentile: (268, 362, 496)\n",
            "[M::mem_pestat] low and high boundaries for computing mean and std.dev: (1, 952)\n",
            "[M::mem_pestat] mean and std.dev: (390.55, 171.26)\n",
            "[M::mem_pestat] low and high boundaries for proper pairs: (1, 1180)\n",
            "[M::mem_pestat] analyzing insert size distribution for orientation RF...\n",
            "[M::mem_pestat] (25, 50, 75) percentile: (169, 1518, 2990)\n",
            "[M::mem_pestat] low and high boundaries for computing mean and std.dev: (1, 8632)\n",
            "[M::mem_pestat] mean and std.dev: (2387.67, 2968.94)\n",
            "[M::mem_pestat] low and high boundaries for proper pairs: (1, 14263)\n",
            "[M::mem_pestat] skip orientation RR as there are not enough pairs\n",
            "[M::mem_pestat] skip orientation RF\n",
            "[M::mem_process_seqs] Processed 99782 reads in 6.670 CPU sec, 6.303 real sec\n",
            "[M::process] read 99788 sequences (10000142 bp)...\n",
            "[M::mem_pestat] # candidate unique pairs for (FF, FR, RF, RR): (10, 34030, 12, 4)\n",
            "[M::mem_pestat] analyzing insert size distribution for orientation FF...\n",
            "[M::mem_pestat] (25, 50, 75) percentile: (239, 358, 508)\n",
            "[M::mem_pestat] low and high boundaries for computing mean and std.dev: (1, 1046)\n",
            "[M::mem_pestat] mean and std.dev: (299.50, 126.15)\n",
            "[M::mem_pestat] low and high boundaries for proper pairs: (1, 1315)\n",
            "[M::mem_pestat] analyzing insert size distribution for orientation FR...\n",
            "[M::mem_pestat] (25, 50, 75) percentile: (264, 355, 484)\n",
            "[M::mem_pestat] low and high boundaries for computing mean and std.dev: (1, 924)\n",
            "[M::mem_pestat] mean and std.dev: (381.97, 164.72)\n",
            "[M::mem_pestat] low and high boundaries for proper pairs: (1, 1144)\n",
            "[M::mem_pestat] analyzing insert size distribution for orientation RF...\n",
            "[M::mem_pestat] (25, 50, 75) percentile: (86, 207, 2963)\n",
            "[M::mem_pestat] low and high boundaries for computing mean and std.dev: (1, 8717)\n",
            "[M::mem_pestat] mean and std.dev: (2072.83, 3043.81)\n",
            "[M::mem_pestat] low and high boundaries for proper pairs: (1, 14248)\n",
            "[M::mem_pestat] skip orientation RR as there are not enough pairs\n",
            "[M::mem_pestat] skip orientation FF\n",
            "[M::mem_pestat] skip orientation RF\n",
            "[M::mem_process_seqs] Processed 99786 reads in 6.787 CPU sec, 6.464 real sec\n",
            "[M::process] read 99742 sequences (10000091 bp)...\n",
            "[M::mem_pestat] # candidate unique pairs for (FF, FR, RF, RR): (7, 33987, 10, 7)\n",
            "[M::mem_pestat] skip orientation FF as there are not enough pairs\n",
            "[M::mem_pestat] analyzing insert size distribution for orientation FR...\n",
            "[M::mem_pestat] (25, 50, 75) percentile: (264, 355, 480)\n",
            "[M::mem_pestat] low and high boundaries for computing mean and std.dev: (1, 912)\n",
            "[M::mem_pestat] mean and std.dev: (380.06, 162.64)\n",
            "[M::mem_pestat] low and high boundaries for proper pairs: (1, 1128)\n",
            "[M::mem_pestat] analyzing insert size distribution for orientation RF...\n",
            "[M::mem_pestat] (25, 50, 75) percentile: (56, 1386, 3027)\n",
            "[M::mem_pestat] low and high boundaries for computing mean and std.dev: (1, 8969)\n",
            "[M::mem_pestat] mean and std.dev: (1993.60, 2564.63)\n",
            "[M::mem_pestat] low and high boundaries for proper pairs: (1, 12252)\n",
            "[M::mem_pestat] skip orientation RR as there are not enough pairs\n",
            "[M::mem_pestat] skip orientation RF\n",
            "[M::mem_process_seqs] Processed 99788 reads in 6.561 CPU sec, 6.249 real sec\n",
            "[M::process] read 56842 sequences (5696387 bp)...\n",
            "[M::mem_pestat] # candidate unique pairs for (FF, FR, RF, RR): (3, 33916, 8, 7)\n",
            "[M::mem_pestat] skip orientation FF as there are not enough pairs\n",
            "[M::mem_pestat] analyzing insert size distribution for orientation FR...\n",
            "[M::mem_pestat] (25, 50, 75) percentile: (265, 356, 486)\n",
            "[M::mem_pestat] low and high boundaries for computing mean and std.dev: (1, 928)\n",
            "[M::mem_pestat] mean and std.dev: (383.45, 165.08)\n",
            "[M::mem_pestat] low and high boundaries for proper pairs: (1, 1149)\n",
            "[M::mem_pestat] skip orientation RF as there are not enough pairs\n",
            "[M::mem_pestat] skip orientation RR as there are not enough pairs\n",
            "[M::mem_process_seqs] Processed 99742 reads in 6.382 CPU sec, 6.135 real sec\n",
            "[M::mem_pestat] # candidate unique pairs for (FF, FR, RF, RR): (4, 19343, 10, 3)\n",
            "[M::mem_pestat] skip orientation FF as there are not enough pairs\n",
            "[M::mem_pestat] analyzing insert size distribution for orientation FR...\n",
            "[M::mem_pestat] (25, 50, 75) percentile: (264, 353, 480)\n",
            "[M::mem_pestat] low and high boundaries for computing mean and std.dev: (1, 912)\n",
            "[M::mem_pestat] mean and std.dev: (379.42, 163.01)\n",
            "[M::mem_pestat] low and high boundaries for proper pairs: (1, 1128)\n",
            "[M::mem_pestat] analyzing insert size distribution for orientation RF...\n",
            "[M::mem_pestat] (25, 50, 75) percentile: (138, 2801, 3062)\n",
            "[M::mem_pestat] low and high boundaries for computing mean and std.dev: (1, 8910)\n",
            "[M::mem_pestat] mean and std.dev: (2334.20, 2434.48)\n",
            "[M::mem_pestat] low and high boundaries for proper pairs: (1, 12072)\n",
            "[M::mem_pestat] skip orientation RR as there are not enough pairs\n",
            "[M::mem_pestat] skip orientation RF\n",
            "[M::mem_process_seqs] Processed 56842 reads in 3.781 CPU sec, 3.657 real sec\n",
            "[main] Version: 0.7.17-r1188\n",
            "[main] CMD: bwa mem -o ./sra/SRR8704599.sam ./references/GCA_004328685.1_ASM432868v1_genomic.fna ./sra/SRR8704599_1.fastq.gz ./sra/SRR8704599_2.fastq.gz\n",
            "[main] Real time: 218.858 sec; CPU: 225.279 sec\n"
          ],
          "name": "stdout"
        }
      ]
    },
    {
      "metadata": {
        "id": "cpwGWd1hsrXS",
        "colab_type": "code",
        "outputId": "781e3af6-46e3-4ce1-cf0c-f66083938a3b",
        "colab": {
          "base_uri": "https://localhost:8080/",
          "height": 52
        }
      },
      "cell_type": "code",
      "source": [
        "ls sra\n",
        "\n",
        "# sam file이 생성 완료됨을 볼 수 있음"
      ],
      "execution_count": 0,
      "outputs": [
        {
          "output_type": "stream",
          "text": [
            "SRR8700955.sra  SRR8700959.sra         SRR8704599_2.fastq.gz  SRR8704599.sra\n",
            "SRR8700956.sra  SRR8704599_1.fastq.gz  SRR8704599.sam\n"
          ],
          "name": "stdout"
        }
      ]
    },
    {
      "metadata": {
        "id": "eZ6dEkvgvsXG",
        "colab_type": "code",
        "outputId": "2dda98ec-67e4-4011-8326-d67240ab8190",
        "colab": {
          "base_uri": "https://localhost:8080/",
          "height": 213
        }
      },
      "cell_type": "code",
      "source": [
        "! head ./sra/SRR8704599.sam \n",
        "\n",
        "# e.coli reference가 지닌 contig 윗줄에 @SQ 부분에 표시됨\n",
        "# chromosome을 (억지로 잘) 잘라서 만들어둔 sequence 덩어리들을 contig라고 함\n",
        "# 각 contig의 length가 LN으로 나타나있음, 여기에 mapping 되었음을 알 수 있음"
      ],
      "execution_count": 0,
      "outputs": [
        {
          "output_type": "stream",
          "text": [
            "@SQ\tSN:CP035312.1\tLN:4593539\n",
            "@SQ\tSN:CP035314.1\tLN:89963\n",
            "@SQ\tSN:CP035316.1\tLN:30581\n",
            "@SQ\tSN:CP035315.1\tLN:40654\n",
            "@SQ\tSN:CP035313.1\tLN:96320\n",
            "@PG\tID:bwa\tPN:bwa\tVN:0.7.17-r1188\tCL:bwa mem -o ./sra/SRR8704599.sam ./references/GCA_004328685.1_ASM432868v1_genomic.fna ./sra/SRR8704599_1.fastq.gz ./sra/SRR8704599_2.fastq.gz\n",
            "1\t83\tCP035312.1\t842649\t60\t101M\t=\t842255\t-495\tCCGGGTTACCAGCCGCCGAAAGAGATGAAAGAATTCCTCGACGAACACCAAAAAATGACCAGCGGTAAATAATTCGCGTGAAACAACAGATACAACTTCGT\tIIIIIIIIIIIIIIIIIIIIIIIIIIIIIIIIIIIIIIIIIGIIIIIIIIIIIIIIIGIIIIIIIIIIIIIIIIIIIIIIIGIIIIIIIIIIIIIIGGGGG\tNM:i:0\tMD:Z:101\tMC:Z:101M\tAS:i:101\tXS:i:0\n",
            "1\t163\tCP035312.1\t842255\t60\t101M\t=\t842649\t495\tCACCAATAAGATGCTGTTAAAGCAGTTGAATGCGCTTGAAAAAGAGATGATCGTTTATAAAGCGCCGCAGGAAAAACACGTCATCACCGTGTTTACTGATA\tGGGGGGIIIIIIIIIIIIIIIIIIIIIIIIIGIIIIIIIIIIIIIIIIIIIIGGGIIGIIIGGIIIIIIIIIIIIIIIIIIIIIIIGIIGIGIIGIIIIII\tNM:i:2\tMD:Z:13T2C84\tMC:Z:101M\tAS:i:91\tXS:i:0\n",
            "2\t83\tCP035312.1\t747203\t60\t101M\t=\t746855\t-449\tCGCCGCTATGGACTGGATAAAGAGATGGTAATGGATTTCTTTCGTGAGAATAATTCCTGTTCTACGTTGCGCTTTTTTATGGCCGGTTATCGCCTCGAAAA\tIIGIIIIIIIGGGIIIGIGGIIGIIIGIIGGGGGGGAGGIIIIIIIIIIIIIIIIGGIIIIGIIIIGGIIGIGIIGIIIIIGIGGIIIIGIIIIGIGAGAA\tNM:i:0\tMD:Z:101\tMC:Z:100M\tAS:i:101\tXS:i:0\n",
            "2\t163\tCP035312.1\t746855\t60\t100M\t=\t747203\t449\tTTGCCTGGCAAAGGACACTGAAATGGTTCGATAAATATCTCTCCTGATAGGTTTATCTCTTACTGGATTACGTCTTAAACAAGCATGAAAAAATAGCGTG\tAGGGGGGAGGGIAGGIGAAGGGGGGGGGGIGGGGIIIIGGIGIGGIGGGGGAGGAAGGGGGGAAGGGGGGGIGGGGGIIGIGGGIGGAGGGGGGGGIGIG\tNM:i:2\tMD:Z:2T60G36\tMC:Z:101M\tAS:i:92\tXS:i:0\n"
          ],
          "name": "stdout"
        }
      ]
    },
    {
      "metadata": {
        "id": "PoaOD7VLv5B7",
        "colab_type": "code",
        "outputId": "90226c96-7c82-463c-896e-78bad9955e4d",
        "colab": {
          "base_uri": "https://localhost:8080/",
          "height": 213
        }
      },
      "cell_type": "code",
      "source": [
        "! cat ./sra/SRR8704599.sam | grep -v '@SQ' | head \n",
        "\n",
        "# cat : file 전체 읽음\n",
        "# -v '@SQ' : @SQ 부분 모두 없앰 ('-v' 없으면 @SQ만 보임)\n",
        "# head : 그중 10개만 보여줌\n",
        "# 첫번째 1번은 paired1번이 CP035312.1라는 contig 중 어느 position에 101M(100%) match된다는 뜻이다\n",
        "# 3번은 contig 부분이 명시되지 않은 것으로 보아 mapping되지 않았단 것\n",
        "# 101M가 아닌 예를 들어 89M11S와 같은 표시도 있을 수 있는데, 이는 89개는 match, 11개는 not match라는 뜻이다"
      ],
      "execution_count": 0,
      "outputs": [
        {
          "output_type": "stream",
          "text": [
            "@PG\tID:bwa\tPN:bwa\tVN:0.7.17-r1188\tCL:bwa mem -o ./sra/SRR8704599.sam ./references/GCA_004328685.1_ASM432868v1_genomic.fna ./sra/SRR8704599_1.fastq.gz ./sra/SRR8704599_2.fastq.gz\n",
            "1\t83\tCP035312.1\t842649\t60\t101M\t=\t842255\t-495\tCCGGGTTACCAGCCGCCGAAAGAGATGAAAGAATTCCTCGACGAACACCAAAAAATGACCAGCGGTAAATAATTCGCGTGAAACAACAGATACAACTTCGT\tIIIIIIIIIIIIIIIIIIIIIIIIIIIIIIIIIIIIIIIIIGIIIIIIIIIIIIIIIGIIIIIIIIIIIIIIIIIIIIIIIGIIIIIIIIIIIIIIGGGGG\tNM:i:0\tMD:Z:101\tMC:Z:101M\tAS:i:101\tXS:i:0\n",
            "1\t163\tCP035312.1\t842255\t60\t101M\t=\t842649\t495\tCACCAATAAGATGCTGTTAAAGCAGTTGAATGCGCTTGAAAAAGAGATGATCGTTTATAAAGCGCCGCAGGAAAAACACGTCATCACCGTGTTTACTGATA\tGGGGGGIIIIIIIIIIIIIIIIIIIIIIIIIGIIIIIIIIIIIIIIIIIIIIGGGIIGIIIGGIIIIIIIIIIIIIIIIIIIIIIIGIIGIGIIGIIIIII\tNM:i:2\tMD:Z:13T2C84\tMC:Z:101M\tAS:i:91\tXS:i:0\n",
            "2\t83\tCP035312.1\t747203\t60\t101M\t=\t746855\t-449\tCGCCGCTATGGACTGGATAAAGAGATGGTAATGGATTTCTTTCGTGAGAATAATTCCTGTTCTACGTTGCGCTTTTTTATGGCCGGTTATCGCCTCGAAAA\tIIGIIIIIIIGGGIIIGIGGIIGIIIGIIGGGGGGGAGGIIIIIIIIIIIIIIIIGGIIIIGIIIIGGIIGIGIIGIIIIIGIGGIIIIGIIIIGIGAGAA\tNM:i:0\tMD:Z:101\tMC:Z:100M\tAS:i:101\tXS:i:0\n",
            "2\t163\tCP035312.1\t746855\t60\t100M\t=\t747203\t449\tTTGCCTGGCAAAGGACACTGAAATGGTTCGATAAATATCTCTCCTGATAGGTTTATCTCTTACTGGATTACGTCTTAAACAAGCATGAAAAAATAGCGTG\tAGGGGGGAGGGIAGGIGAAGGGGGGGGGGIGGGGIIIIGGIGIGGIGGGGGAGGAAGGGGGGAAGGGGGGGIGGGGGIIGIGGGIGGAGGGGGGGGIGIG\tNM:i:2\tMD:Z:2T60G36\tMC:Z:101M\tAS:i:92\tXS:i:0\n",
            "3\t77\t*\t0\t0\t*\t*\t0\t0\tCCCGTGCACAGAATGAAGATGTAGATGAGTTGTGTAAGAAAGTGACAAGTTGGATGTATTCGCATCCTGGAGAGAGAATTAGATATGAACGTTTTAAGACA\tGGAGGGGGGIGGGGGGIGGGGGGGGGGGIGGGGGGAGGGGGGGGGGGIGGGIIGIIIGIGGGGIAAGGAGGGGGGGGAGGGGGAGGGGGGIGGGGIGGAGG\tAS:i:0\tXS:i:0\n",
            "3\t141\t*\t0\t0\t*\t*\t0\t0\tAATATACATCGTTTAAGAACTTTAGCATTTGCACATCCAATAACCAAAATTAGAATGCACACTCCCATGTTAATCGCATTAACGTGTCTTAAAACGTTCAT\tGAGAGIIGGGGAGGIIGGGGGGGIGGGIGGGGGGGGIIIIIGGIGIGGGGGGIIIIIIGGGIGIGGIGAGGGGGGAGGGGGIGGAGAAGGGGGGGGGAGG.\tAS:i:0\tXS:i:0\n",
            "4\t83\tCP035314.1\t20866\t60\t101M\t=\t20775\t-192\tAATTTCACCCTGAATGCAACGCGATTTACGCGGCTCTGGACTGATTAACGGACGGGGCGGCAATGCCGCCCCTGTAAAGGAGACGAGAACATGTACTGTAC\t<AGGGGAIGGAIGGGGGIGGGGAGGGGIGGGGIIIGGGGGIIGGIGGGG<A.IGGGGAGIIGGAAAAAA.AAGGGAGGGAG<GGGGGGGGGGAGAGGGAGG\tNM:i:2\tMD:Z:10C23A66\tMC:Z:39S62M\tAS:i:91\tXS:i:0\n",
            "4\t163\tCP035314.1\t20775\t60\t39S62M\t=\t20866\t192\tNNNNNNNNNNNNNNNNNNNNNNNNNNNNNNNNNNNNNTNAACCGCCAGTTGTGGCTGTACCACGACAGCGGGGATGCAGGACTGACCCAGCTTTACCGGAT\t#####################################<#<<GAA<AAGGGGGAAG.GGGIIGAGAGGGGAG<GGIGGGAAGGGAGGG.GAAGGG<GG<GGG\tNM:i:0\tMD:Z:62\tMC:Z:101M\tAS:i:62\tXS:i:0\n",
            "5\t77\t*\t0\t0\t*\t*\t0\t0\tCGCTGGCGAAGAATCCGAAAAATGTGCTGCTTGCCGTGGTATGGATGCAGGGGGAATTTGATTTTAACGGAACGCCAGCGAATCATGCAGCCCGTTTTACA\tGGGGGIIIIIIIIIIIIIIIIIIIIIIIIIIIIIIIIIIGGIIIIIIIIIIIIIGGIIIIIIIIIIIIIIIIIIIIIIIIIIIIIIIIIIGIIIIIIIIII\tAS:i:0\tXS:i:0\n"
          ],
          "name": "stdout"
        }
      ]
    },
    {
      "metadata": {
        "id": "2tVta2mkxizu",
        "colab_type": "code",
        "outputId": "9f041b27-bd8a-424d-e502-52ffb1352621",
        "colab": {
          "base_uri": "https://localhost:8080/",
          "height": 404
        }
      },
      "cell_type": "code",
      "source": [
        "! samtools fixmate"
      ],
      "execution_count": 0,
      "outputs": [
        {
          "output_type": "stream",
          "text": [
            "Usage: samtools fixmate <in.nameSrt.bam> <out.nameSrt.bam>\n",
            "Options:\n",
            "  -r           Remove unmapped reads and secondary alignments\n",
            "  -p           Disable FR proper pair check\n",
            "  -c           Add template cigar ct tag\n",
            "  -m           Add mate score tag\n",
            "      --input-fmt-option OPT[=VAL]\n",
            "               Specify a single input file format option in the form\n",
            "               of OPTION or OPTION=VALUE\n",
            "  -O, --output-fmt FORMAT[,OPT[=VAL]]...\n",
            "               Specify output format (SAM, BAM, CRAM)\n",
            "      --output-fmt-option OPT[=VAL]\n",
            "               Specify a single output file format option in the form\n",
            "               of OPTION or OPTION=VALUE\n",
            "      --reference FILE\n",
            "               Reference sequence FASTA FILE [null]\n",
            "  -@, --threads INT\n",
            "               Number of additional threads to use [0]\n",
            "\n",
            "As elsewhere in samtools, use '-' as the filename for stdin/stdout. The input\n",
            "file must be grouped by read name (e.g. sorted by name). Coordinated sorted\n",
            "input is not accepted.\n"
          ],
          "name": "stdout"
        }
      ]
    },
    {
      "metadata": {
        "id": "iJfcLO6v0jBa",
        "colab_type": "code",
        "colab": {}
      },
      "cell_type": "code",
      "source": [
        "! samtools fixmate -O bam ./sra/SRR8704599.sam ./sra/SRR8704599.bam\n",
        "\n",
        "# read sequence가 reference sequence보다 길게 붙어있거나 다른 chromosome에 붙어 있는 read들을 fix 해준다\n",
        "# bam format으로 저장\n",
        "# samtools fixmate -O (format 지정) (사용할 file명) (저장할 file명)"
      ],
      "execution_count": 0,
      "outputs": []
    },
    {
      "metadata": {
        "id": "UEV63rqm1JEy",
        "colab_type": "code",
        "outputId": "97baec3c-abb5-469a-ff29-5e2aa8402776",
        "colab": {
          "base_uri": "https://localhost:8080/",
          "height": 52
        }
      },
      "cell_type": "code",
      "source": [
        "ls sra\n",
        "\n",
        "# bam file 생성 완료"
      ],
      "execution_count": 0,
      "outputs": [
        {
          "output_type": "stream",
          "text": [
            "SRR8700955.sra  SRR8700959.sra         SRR8704599_2.fastq.gz  SRR8704599.sam\n",
            "SRR8700956.sra  SRR8704599_1.fastq.gz  SRR8704599.bam         SRR8704599.sra\n"
          ],
          "name": "stdout"
        }
      ]
    },
    {
      "metadata": {
        "id": "cv3UFfzE1ohG",
        "colab_type": "code",
        "outputId": "6d826c30-a185-4998-ed1b-4c1662fde29d",
        "colab": {
          "base_uri": "https://localhost:8080/",
          "height": 70
        }
      },
      "cell_type": "code",
      "source": [
        "ll ./sra/SRR8704599.*\n",
        "\n",
        "# 보통 bam file로 일함\n",
        "# sam file의 용량보다 훨배 작아진 bam file"
      ],
      "execution_count": 0,
      "outputs": [
        {
          "output_type": "stream",
          "text": [
            "-rw------- 1 root 262943196 Mar 20 02:02 ./sra/SRR8704599.bam\n",
            "-rw------- 1 root 948338438 Mar 20 01:27 ./sra/SRR8704599.sam\n",
            "-rw------- 1 root 149668594 Mar 12 09:15 ./sra/SRR8704599.sra\n"
          ],
          "name": "stdout"
        }
      ]
    },
    {
      "metadata": {
        "id": "I-BZ187B157q",
        "colab_type": "code",
        "outputId": "d45c0ebf-a327-4b7d-d01c-bc17f6cf1279",
        "colab": {
          "base_uri": "https://localhost:8080/",
          "height": 389
        }
      },
      "cell_type": "code",
      "source": [
        "! samtools sort"
      ],
      "execution_count": 0,
      "outputs": [
        {
          "output_type": "stream",
          "text": [
            "Usage: samtools sort [options...] [in.bam]\n",
            "Options:\n",
            "  -l INT     Set compression level, from 0 (uncompressed) to 9 (best)\n",
            "  -m INT     Set maximum memory per thread; suffix K/M/G recognized [768M]\n",
            "  -n         Sort by read name\n",
            "  -t TAG     Sort by value of TAG. Uses position as secondary index (or read name if -n is set)\n",
            "  -o FILE    Write final output to FILE rather than standard output\n",
            "  -T PREFIX  Write temporary files to PREFIX.nnnn.bam\n",
            "      --input-fmt-option OPT[=VAL]\n",
            "               Specify a single input file format option in the form\n",
            "               of OPTION or OPTION=VALUE\n",
            "  -O, --output-fmt FORMAT[,OPT[=VAL]]...\n",
            "               Specify output format (SAM, BAM, CRAM)\n",
            "      --output-fmt-option OPT[=VAL]\n",
            "               Specify a single output file format option in the form\n",
            "               of OPTION or OPTION=VALUE\n",
            "      --reference FILE\n",
            "               Reference sequence FASTA FILE [null]\n",
            "  -@, --threads INT\n",
            "               Number of additional threads to use [0]\n"
          ],
          "name": "stdout"
        }
      ]
    },
    {
      "metadata": {
        "id": "C1oqf8xb2LmW",
        "colab_type": "code",
        "outputId": "0abaeeac-becf-4c8a-8f54-4026ccd7d27b",
        "colab": {
          "base_uri": "https://localhost:8080/",
          "height": 34
        }
      },
      "cell_type": "code",
      "source": [
        "! samtools sort -o ./sra/SRR8704599.sorted.bam ./sra/SRR8704599.bam\n",
        "\n",
        "# downstream analysis를 위해 bam file에 sorting 함\n",
        "# read number, position등을 기준으로 sorting 가능"
      ],
      "execution_count": 0,
      "outputs": [
        {
          "output_type": "stream",
          "text": [
            "[bam_sort_core] merging from 1 files and 1 in-memory blocks...\n"
          ],
          "name": "stdout"
        }
      ]
    },
    {
      "metadata": {
        "id": "_JJQ-lpH2P4P",
        "colab_type": "code",
        "outputId": "ec89571e-0098-484b-a34f-51ba9983332a",
        "colab": {
          "base_uri": "https://localhost:8080/",
          "height": 70
        }
      },
      "cell_type": "code",
      "source": [
        "ls sra"
      ],
      "execution_count": 0,
      "outputs": [
        {
          "output_type": "stream",
          "text": [
            "SRR8700955.sra  SRR8704599_1.fastq.gz  SRR8704599.sam\n",
            "SRR8700956.sra  SRR8704599_2.fastq.gz  SRR8704599.sorted.bam\n",
            "SRR8700959.sra  SRR8704599.bam         SRR8704599.sra\n"
          ],
          "name": "stdout"
        }
      ]
    },
    {
      "metadata": {
        "id": "2NNIEJlC2hta",
        "colab_type": "code",
        "outputId": "3193acda-0103-4bc0-b5b9-f09d21f3f046",
        "colab": {
          "base_uri": "https://localhost:8080/",
          "height": 914
        }
      },
      "cell_type": "code",
      "source": [
        "! bcftools mpileup"
      ],
      "execution_count": 0,
      "outputs": [
        {
          "output_type": "stream",
          "text": [
            "\n",
            "Usage: bcftools mpileup [options] in1.bam [in2.bam [...]]\n",
            "\n",
            "Input options:\n",
            "  -6, --illumina1.3+      quality is in the Illumina-1.3+ encoding\n",
            "  -A, --count-orphans     do not discard anomalous read pairs\n",
            "  -b, --bam-list FILE     list of input BAM filenames, one per line\n",
            "  -B, --no-BAQ            disable BAQ (per-Base Alignment Quality)\n",
            "  -C, --adjust-MQ INT     adjust mapping quality; recommended:50, disable:0 [0]\n",
            "  -d, --max-depth INT     max per-file depth; avoids excessive memory usage [250]\n",
            "  -E, --redo-BAQ          recalculate BAQ on the fly, ignore existing BQs\n",
            "  -f, --fasta-ref FILE    faidx indexed reference sequence file\n",
            "      --no-reference      do not require fasta reference file\n",
            "  -G, --read-groups FILE  select or exclude read groups listed in the file\n",
            "  -q, --min-MQ INT        skip alignments with mapQ smaller than INT [0]\n",
            "  -Q, --min-BQ INT        skip bases with baseQ/BAQ smaller than INT [13]\n",
            "  -r, --regions REG[,...] comma separated list of regions in which pileup is generated\n",
            "  -R, --regions-file FILE restrict to regions listed in a file\n",
            "      --ignore-RG         ignore RG tags (one BAM = one sample)\n",
            "  --rf, --incl-flags STR|INT  required flags: skip reads with mask bits unset []\n",
            "  --ff, --excl-flags STR|INT  filter flags: skip reads with mask bits set\n",
            "                                            [UNMAP,SECONDARY,QCFAIL,DUP]\n",
            "  -s, --samples LIST      comma separated list of samples to include\n",
            "  -S, --samples-file FILE file of samples to include\n",
            "  -t, --targets REG[,...] similar to -r but streams rather than index-jumps\n",
            "  -T, --targets-file FILE similar to -R but streams rather than index-jumps\n",
            "  -x, --ignore-overlaps   disable read-pair overlap detection\n",
            "\n",
            "Output options:\n",
            "  -a, --annotate LIST     optional tags to output; '?' to list []\n",
            "  -g, --gvcf INT[,...]    group non-variant sites into gVCF blocks according\n",
            "                          to minimum per-sample DP\n",
            "      --no-version        do not append version and command line to the header\n",
            "  -o, --output FILE       write output to FILE [standard output]\n",
            "  -O, --output-type TYPE  'b' compressed BCF; 'u' uncompressed BCF;\n",
            "                          'z' compressed VCF; 'v' uncompressed VCF [v]\n",
            "      --threads INT       number of extra output compression threads [0]\n",
            "\n",
            "SNP/INDEL genotype likelihoods options:\n",
            "  -e, --ext-prob INT      Phred-scaled gap extension seq error probability [20]\n",
            "  -F, --gap-frac FLOAT    minimum fraction of gapped reads [0.002]\n",
            "  -h, --tandem-qual INT   coefficient for homopolymer errors [100]\n",
            "  -I, --skip-indels       do not perform indel calling\n",
            "  -L, --max-idepth INT    maximum per-file depth for INDEL calling [250]\n",
            "  -m, --min-ireads INT    minimum number gapped reads for indel candidates [1]\n",
            "  -o, --open-prob INT     Phred-scaled gap open seq error probability [40]\n",
            "  -p, --per-sample-mF     apply -m and -F per-sample for increased sensitivity\n",
            "  -P, --platforms STR     comma separated list of platforms for indels [all]\n",
            "\n",
            "Notes: Assuming diploid individuals.\n",
            "\n"
          ],
          "name": "stdout"
        }
      ]
    },
    {
      "metadata": {
        "id": "PQAwbAEp2lEQ",
        "colab_type": "code",
        "outputId": "bdbe6785-2e41-4e86-c5b7-9ca2915913a9",
        "colab": {
          "base_uri": "https://localhost:8080/",
          "height": 52
        }
      },
      "cell_type": "code",
      "source": [
        "! bcftools mpileup -Ov -g 10 -f ./references/GCA_004328685.1_ASM432868v1_genomic.fna -o ./sra/SRR8704599.g.vcf ./sra/SRR8704599.sorted.bam\n",
        "\n",
        "# (위의 설명에 찾아보면 있는 내용)\n",
        "# Ov : uncompressed VCF file format으로 output\n",
        "# 10 : group non-variant sites\n",
        "# -g 10 : 10 depth non variant\n",
        "# bcftools mpileup -Ov -g 10 -f (kind of ref for mapping) (output option) (final input bam)"
      ],
      "execution_count": 0,
      "outputs": [
        {
          "output_type": "stream",
          "text": [
            "[warning] The -t DP option is required with --gvcf, switching on.\n",
            "[mpileup] 1 samples in 1 input files\n"
          ],
          "name": "stdout"
        }
      ]
    },
    {
      "metadata": {
        "id": "hzS_ZQR52pGu",
        "colab_type": "code",
        "outputId": "17e2365e-2ddd-4c72-aec8-cd40e1803dc3",
        "colab": {
          "base_uri": "https://localhost:8080/",
          "height": 70
        }
      },
      "cell_type": "code",
      "source": [
        "ls sra\n",
        "\n",
        "# g.vcf format file 생성 완료"
      ],
      "execution_count": 0,
      "outputs": [
        {
          "output_type": "stream",
          "text": [
            "SRR8700955.sra  SRR8704599_1.fastq.gz  SRR8704599.g.vcf       SRR8704599.sra\n",
            "SRR8700956.sra  SRR8704599_2.fastq.gz  SRR8704599.sam\n",
            "SRR8700959.sra  SRR8704599.bam         SRR8704599.sorted.bam\n"
          ],
          "name": "stdout"
        }
      ]
    },
    {
      "metadata": {
        "id": "UAjZw5za3c0y",
        "colab_type": "code",
        "outputId": "5acea6d2-eb8b-413f-ba38-0086e767186a",
        "colab": {
          "base_uri": "https://localhost:8080/",
          "height": 213
        }
      },
      "cell_type": "code",
      "source": [
        "! head ./sra/SRR8704599.g.vcf"
      ],
      "execution_count": 0,
      "outputs": [
        {
          "output_type": "stream",
          "text": [
            "##fileformat=VCFv4.2\n",
            "##FILTER=<ID=PASS,Description=\"All filters passed\">\n",
            "##bcftoolsVersion=1.7+htslib-1.7-2\n",
            "##bcftoolsCommand=mpileup -Ov -g 10 -f ./references/GCA_004328685.1_ASM432868v1_genomic.fna -o ./sra/SRR8704599.g.vcf ./sra/SRR8704599.sorted.bam\n",
            "##reference=file://./references/GCA_004328685.1_ASM432868v1_genomic.fna\n",
            "##contig=<ID=CP035312.1,length=4593539>\n",
            "##contig=<ID=CP035314.1,length=89963>\n",
            "##contig=<ID=CP035316.1,length=30581>\n",
            "##contig=<ID=CP035315.1,length=40654>\n",
            "##contig=<ID=CP035313.1,length=96320>\n"
          ],
          "name": "stdout"
        }
      ]
    },
    {
      "metadata": {
        "id": "eGfR4K7o3pNw",
        "colab_type": "code",
        "colab": {}
      },
      "cell_type": "code",
      "source": [
        "import pandas as pd"
      ],
      "execution_count": 0,
      "outputs": []
    },
    {
      "metadata": {
        "id": "PgY9OQqAR2u_",
        "colab_type": "code",
        "colab": {}
      },
      "cell_type": "code",
      "source": [
        "df = pd.read_csv('./sra/SRR8704599.g.vcf', sep = '\\t', header = None, comment = '#')"
      ],
      "execution_count": 0,
      "outputs": []
    },
    {
      "metadata": {
        "id": "xO_UQKTySENy",
        "colab_type": "code",
        "outputId": "4aff33df-bc76-450f-e5c2-9a7a9817af44",
        "colab": {
          "base_uri": "https://localhost:8080/",
          "height": 249
        }
      },
      "cell_type": "code",
      "source": [
        "df.head()\n",
        "# column 0 : contig 이름\n",
        "# column 1 : 각 position\n",
        "# column 3 : snp 종류\n",
        "# index 1 : column 7번에 END = 121이라고 되어있으니 column1번에 명시된 position 2번부터 121번까지의 sequence가 reference sequence와 동일하다고 알려준다\n",
        "# index 2 : column 4번에 T라고 되어있는 것이 read mapping했을 당시 T였다는 뜻이며 column 7번의 DP=42는 42개가 T였다는 것을 알려준다"
      ],
      "execution_count": 0,
      "outputs": [
        {
          "output_type": "execute_result",
          "data": {
            "text/html": [
              "<div>\n",
              "<style scoped>\n",
              "    .dataframe tbody tr th:only-of-type {\n",
              "        vertical-align: middle;\n",
              "    }\n",
              "\n",
              "    .dataframe tbody tr th {\n",
              "        vertical-align: top;\n",
              "    }\n",
              "\n",
              "    .dataframe thead th {\n",
              "        text-align: right;\n",
              "    }\n",
              "</style>\n",
              "<table border=\"1\" class=\"dataframe\">\n",
              "  <thead>\n",
              "    <tr style=\"text-align: right;\">\n",
              "      <th></th>\n",
              "      <th>0</th>\n",
              "      <th>1</th>\n",
              "      <th>2</th>\n",
              "      <th>3</th>\n",
              "      <th>4</th>\n",
              "      <th>5</th>\n",
              "      <th>6</th>\n",
              "      <th>7</th>\n",
              "      <th>8</th>\n",
              "      <th>9</th>\n",
              "    </tr>\n",
              "  </thead>\n",
              "  <tbody>\n",
              "    <tr>\n",
              "      <th>0</th>\n",
              "      <td>CP035312.1</td>\n",
              "      <td>1</td>\n",
              "      <td>.</td>\n",
              "      <td>G</td>\n",
              "      <td>&lt;*&gt;</td>\n",
              "      <td>0</td>\n",
              "      <td>.</td>\n",
              "      <td>DP=25;I16=0,9,0,0,324,11664,0,0,540,32400,0,0,...</td>\n",
              "      <td>PL:DP</td>\n",
              "      <td>0,27,165:9</td>\n",
              "    </tr>\n",
              "    <tr>\n",
              "      <th>1</th>\n",
              "      <td>CP035312.1</td>\n",
              "      <td>2</td>\n",
              "      <td>.</td>\n",
              "      <td>T</td>\n",
              "      <td>&lt;*&gt;</td>\n",
              "      <td>.</td>\n",
              "      <td>.</td>\n",
              "      <td>END=121;MinDP=10;QS=1,0</td>\n",
              "      <td>PL:DP</td>\n",
              "      <td>0,30,202:10</td>\n",
              "    </tr>\n",
              "    <tr>\n",
              "      <th>2</th>\n",
              "      <td>CP035312.1</td>\n",
              "      <td>122</td>\n",
              "      <td>.</td>\n",
              "      <td>A</td>\n",
              "      <td>T,&lt;*&gt;</td>\n",
              "      <td>0</td>\n",
              "      <td>.</td>\n",
              "      <td>DP=42;I16=37,3,1,0,1557,63241,13,169,2400,1440...</td>\n",
              "      <td>PL:DP</td>\n",
              "      <td>0,107,255,120,255,255:41</td>\n",
              "    </tr>\n",
              "    <tr>\n",
              "      <th>3</th>\n",
              "      <td>CP035312.1</td>\n",
              "      <td>123</td>\n",
              "      <td>.</td>\n",
              "      <td>C</td>\n",
              "      <td>&lt;*&gt;</td>\n",
              "      <td>.</td>\n",
              "      <td>.</td>\n",
              "      <td>END=182;MinDP=34;QS=1,0</td>\n",
              "      <td>PL:DP</td>\n",
              "      <td>0,102,255:34</td>\n",
              "    </tr>\n",
              "    <tr>\n",
              "      <th>4</th>\n",
              "      <td>CP035312.1</td>\n",
              "      <td>183</td>\n",
              "      <td>.</td>\n",
              "      <td>A</td>\n",
              "      <td>T,&lt;*&gt;</td>\n",
              "      <td>0</td>\n",
              "      <td>.</td>\n",
              "      <td>DP=53;I16=42,8,1,0,1862,74428,13,169,3000,1800...</td>\n",
              "      <td>PL:DP</td>\n",
              "      <td>0,136,255,151,255,255:51</td>\n",
              "    </tr>\n",
              "  </tbody>\n",
              "</table>\n",
              "</div>"
            ],
            "text/plain": [
              "            0    1  2  3      4  5  6  \\\n",
              "0  CP035312.1    1  .  G    <*>  0  .   \n",
              "1  CP035312.1    2  .  T    <*>  .  .   \n",
              "2  CP035312.1  122  .  A  T,<*>  0  .   \n",
              "3  CP035312.1  123  .  C    <*>  .  .   \n",
              "4  CP035312.1  183  .  A  T,<*>  0  .   \n",
              "\n",
              "                                                   7      8  \\\n",
              "0  DP=25;I16=0,9,0,0,324,11664,0,0,540,32400,0,0,...  PL:DP   \n",
              "1                            END=121;MinDP=10;QS=1,0  PL:DP   \n",
              "2  DP=42;I16=37,3,1,0,1557,63241,13,169,2400,1440...  PL:DP   \n",
              "3                            END=182;MinDP=34;QS=1,0  PL:DP   \n",
              "4  DP=53;I16=42,8,1,0,1862,74428,13,169,3000,1800...  PL:DP   \n",
              "\n",
              "                          9  \n",
              "0                0,27,165:9  \n",
              "1               0,30,202:10  \n",
              "2  0,107,255,120,255,255:41  \n",
              "3              0,102,255:34  \n",
              "4  0,136,255,151,255,255:51  "
            ]
          },
          "metadata": {
            "tags": []
          },
          "execution_count": 38
        }
      ]
    },
    {
      "metadata": {
        "id": "tdLwDp7xTdu8",
        "colab_type": "code",
        "colab": {}
      },
      "cell_type": "code",
      "source": [
        ""
      ],
      "execution_count": 0,
      "outputs": []
    }
  ]
}