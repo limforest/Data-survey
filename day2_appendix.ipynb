{
  "nbformat": 4,
  "nbformat_minor": 0,
  "metadata": {
    "colab": {
      "name": "day2_appendix.ipynb",
      "version": "0.3.2",
      "provenance": [],
      "collapsed_sections": []
    },
    "kernelspec": {
      "name": "python3",
      "display_name": "Python 3"
    }
  },
  "cells": [
    {
      "metadata": {
        "id": "1o4E0o5ud7b-",
        "colab_type": "text"
      },
      "cell_type": "markdown",
      "source": [
        "**reference file을 indexing하지 않고 bwa mem 명령어를 시행하였을 때 정말 error가 뜰까?**"
      ]
    },
    {
      "metadata": {
        "id": "7uC4tDuMcqbV",
        "colab_type": "code",
        "colab": {}
      },
      "cell_type": "code",
      "source": [
        "from google.colab import drive"
      ],
      "execution_count": 0,
      "outputs": []
    },
    {
      "metadata": {
        "id": "jZr7xSbSeCHf",
        "colab_type": "code",
        "outputId": "ce9e0b0b-2fb3-450e-a342-b13b8e5df35e",
        "colab": {
          "base_uri": "https://localhost:8080/",
          "height": 125
        }
      },
      "cell_type": "code",
      "source": [
        "drive.mount('/content/gdrive')"
      ],
      "execution_count": 0,
      "outputs": [
        {
          "output_type": "stream",
          "text": [
            "Go to this URL in a browser: https://accounts.google.com/o/oauth2/auth?client_id=947318989803-6bn6qk8qdgf4n4g3pfee6491hc0brc4i.apps.googleusercontent.com&redirect_uri=urn%3Aietf%3Awg%3Aoauth%3A2.0%3Aoob&scope=email%20https%3A%2F%2Fwww.googleapis.com%2Fauth%2Fdocs.test%20https%3A%2F%2Fwww.googleapis.com%2Fauth%2Fdrive%20https%3A%2F%2Fwww.googleapis.com%2Fauth%2Fdrive.photos.readonly%20https%3A%2F%2Fwww.googleapis.com%2Fauth%2Fpeopleapi.readonly&response_type=code\n",
            "\n",
            "Enter your authorization code:\n",
            "··········\n",
            "Mounted at /content/gdrive\n"
          ],
          "name": "stdout"
        }
      ]
    },
    {
      "metadata": {
        "id": "nPCbu8WOHuMD",
        "colab_type": "code",
        "outputId": "b0389863-e220-4688-e589-2fab261f8324",
        "colab": {
          "base_uri": "https://localhost:8080/",
          "height": 34
        }
      },
      "cell_type": "code",
      "source": [
        "cd gdrive/My\\ Drive/hbi2019"
      ],
      "execution_count": 0,
      "outputs": [
        {
          "output_type": "stream",
          "text": [
            "/content/gdrive/My Drive/hbi2019\n"
          ],
          "name": "stdout"
        }
      ]
    },
    {
      "metadata": {
        "id": "u1E5z_icH7sW",
        "colab_type": "code",
        "outputId": "11e70135-2e64-410c-f141-54b5ba97b018",
        "colab": {
          "base_uri": "https://localhost:8080/",
          "height": 52
        }
      },
      "cell_type": "code",
      "source": [
        "ls"
      ],
      "execution_count": 0,
      "outputs": [
        {
          "output_type": "stream",
          "text": [
            "\u001b[0m\u001b[01;34mecoli\u001b[0m/       \u001b[01;34msra\u001b[0m/                          sratoolkit.current-ubuntu64.tar.gz\n",
            "\u001b[01;34mreferences\u001b[0m/  \u001b[01;34msratoolkit.2.9.4-1-ubuntu64\u001b[0m/\n"
          ],
          "name": "stdout"
        }
      ]
    },
    {
      "metadata": {
        "id": "p8bm4bTRH8L3",
        "colab_type": "code",
        "outputId": "90c03f6c-81a9-40af-c626-1b150744401b",
        "colab": {
          "base_uri": "https://localhost:8080/",
          "height": 140
        }
      },
      "cell_type": "code",
      "source": [
        "ls references/"
      ],
      "execution_count": 0,
      "outputs": [
        {
          "output_type": "stream",
          "text": [
            "GCA_004328685.1_ASM432868v1_genomic.fna\n",
            "GCA_004328685.1_ASM432868v1_genomic.fna.amb\n",
            "GCA_004328685.1_ASM432868v1_genomic.fna.ann\n",
            "GCA_004328685.1_ASM432868v1_genomic.fna.bwt\n",
            "GCA_004328685.1_ASM432868v1_genomic.fna.fai\n",
            "GCA_004328685.1_ASM432868v1_genomic.fna.pac\n",
            "GCA_004328685.1_ASM432868v1_genomic.fna.sa\n"
          ],
          "name": "stdout"
        }
      ]
    },
    {
      "metadata": {
        "id": "dL9xQseXH_2c",
        "colab_type": "code",
        "colab": {}
      },
      "cell_type": "code",
      "source": [
        "# 이미 존재하는 reference file이 아닌 다른 reference를 새로 만든 test folder에 download"
      ],
      "execution_count": 0,
      "outputs": []
    },
    {
      "metadata": {
        "id": "fyajojNhIcm3",
        "colab_type": "code",
        "colab": {}
      },
      "cell_type": "code",
      "source": [
        "mkdir test_references"
      ],
      "execution_count": 0,
      "outputs": []
    },
    {
      "metadata": {
        "id": "j4Jgf09LIkMO",
        "colab_type": "code",
        "outputId": "115df1dc-9cf5-40c9-d477-5dbdc393cc4d",
        "colab": {
          "base_uri": "https://localhost:8080/",
          "height": 34
        }
      },
      "cell_type": "code",
      "source": [
        "cd test_references/"
      ],
      "execution_count": 0,
      "outputs": [
        {
          "output_type": "stream",
          "text": [
            "/content/gdrive/My Drive/hbi2019/test_references\n"
          ],
          "name": "stdout"
        }
      ]
    },
    {
      "metadata": {
        "id": "oDaGfUjlIqus",
        "colab_type": "code",
        "outputId": "225a11b5-213a-4549-b8c7-3fb9d965223c",
        "colab": {
          "base_uri": "https://localhost:8080/",
          "height": 301
        }
      },
      "cell_type": "code",
      "source": [
        "! wget ftp://ftp.ncbi.nlm.nih.gov/genomes/all/GCA/004/358/985/GCA_004358985.1_ASM435898v1/GCA_004358985.1_ASM435898v1_genomic.fna.gz"
      ],
      "execution_count": 0,
      "outputs": [
        {
          "output_type": "stream",
          "text": [
            "--2019-03-28 02:33:57--  ftp://ftp.ncbi.nlm.nih.gov/genomes/all/GCA/004/358/985/GCA_004358985.1_ASM435898v1/GCA_004358985.1_ASM435898v1_genomic.fna.gz\n",
            "           => ‘GCA_004358985.1_ASM435898v1_genomic.fna.gz’\n",
            "Resolving ftp.ncbi.nlm.nih.gov (ftp.ncbi.nlm.nih.gov)... 130.14.250.13, 2607:f220:41e:250::13\n",
            "Connecting to ftp.ncbi.nlm.nih.gov (ftp.ncbi.nlm.nih.gov)|130.14.250.13|:21... connected.\n",
            "Logging in as anonymous ... Logged in!\n",
            "==> SYST ... done.    ==> PWD ... done.\n",
            "==> TYPE I ... done.  ==> CWD (1) /genomes/all/GCA/004/358/985/GCA_004358985.1_ASM435898v1 ... done.\n",
            "==> SIZE GCA_004358985.1_ASM435898v1_genomic.fna.gz ... 1397035\n",
            "==> PASV ... done.    ==> RETR GCA_004358985.1_ASM435898v1_genomic.fna.gz ... done.\n",
            "Length: 1397035 (1.3M) (unauthoritative)\n",
            "\n",
            "GCA_004358985.1_ASM 100%[===================>]   1.33M  2.98MB/s    in 0.4s    \n",
            "\n",
            "2019-03-28 02:33:59 (2.98 MB/s) - ‘GCA_004358985.1_ASM435898v1_genomic.fna.gz’ saved [1397035]\n",
            "\n"
          ],
          "name": "stdout"
        }
      ]
    },
    {
      "metadata": {
        "id": "WIcoSdOtI0cU",
        "colab_type": "code",
        "outputId": "d5e45f88-551c-4c78-9835-40365f144cde",
        "colab": {
          "base_uri": "https://localhost:8080/",
          "height": 34
        }
      },
      "cell_type": "code",
      "source": [
        "ls"
      ],
      "execution_count": 0,
      "outputs": [
        {
          "output_type": "stream",
          "text": [
            "GCA_004358985.1_ASM435898v1_genomic.fna.gz\n"
          ],
          "name": "stdout"
        }
      ]
    },
    {
      "metadata": {
        "id": "o7EXbQwQIv8k",
        "colab_type": "code",
        "colab": {}
      },
      "cell_type": "code",
      "source": [
        "! gzip -d GCA_004358985.1_ASM435898v1_genomic.fna.gz"
      ],
      "execution_count": 0,
      "outputs": []
    },
    {
      "metadata": {
        "id": "QvA6L0VIIzFY",
        "colab_type": "code",
        "outputId": "f03df2d3-c007-4d40-ce34-f9e0bcf14900",
        "colab": {
          "base_uri": "https://localhost:8080/",
          "height": 34
        }
      },
      "cell_type": "code",
      "source": [
        "ls"
      ],
      "execution_count": 0,
      "outputs": [
        {
          "output_type": "stream",
          "text": [
            "GCA_004358985.1_ASM435898v1_genomic.fna\n"
          ],
          "name": "stdout"
        }
      ]
    },
    {
      "metadata": {
        "id": "JLD0wsMPLnP4",
        "colab_type": "code",
        "outputId": "81b0793a-d5fd-4ca8-c4f1-482ca547c8f2",
        "colab": {
          "base_uri": "https://localhost:8080/",
          "height": 34
        }
      },
      "cell_type": "code",
      "source": [
        "cd .."
      ],
      "execution_count": 0,
      "outputs": [
        {
          "output_type": "stream",
          "text": [
            "/content/gdrive/My Drive/hbi2019\n"
          ],
          "name": "stdout"
        }
      ]
    },
    {
      "metadata": {
        "id": "p5iI43j1JrbB",
        "colab_type": "code",
        "outputId": "6f554bfb-8872-4e75-c5a1-c96bca859fc4",
        "colab": {
          "base_uri": "https://localhost:8080/",
          "height": 386
        }
      },
      "cell_type": "code",
      "source": [
        "! apt install bwa"
      ],
      "execution_count": 0,
      "outputs": [
        {
          "output_type": "stream",
          "text": [
            "Reading package lists... Done\n",
            "Building dependency tree       \n",
            "Reading state information... Done\n",
            "The following package was automatically installed and is no longer required:\n",
            "  libnvidia-common-410\n",
            "Use 'apt autoremove' to remove it.\n",
            "Suggested packages:\n",
            "  samtools\n",
            "The following NEW packages will be installed:\n",
            "  bwa\n",
            "0 upgraded, 1 newly installed, 0 to remove and 10 not upgraded.\n",
            "Need to get 176 kB of archives.\n",
            "After this operation, 404 kB of additional disk space will be used.\n",
            "Get:1 http://archive.ubuntu.com/ubuntu bionic/universe amd64 bwa amd64 0.7.17-1 [176 kB]\n",
            "Fetched 176 kB in 2s (85.2 kB/s)\n",
            "Selecting previously unselected package bwa.\n",
            "(Reading database ... 131323 files and directories currently installed.)\n",
            "Preparing to unpack .../bwa_0.7.17-1_amd64.deb ...\n",
            "Unpacking bwa (0.7.17-1) ...\n",
            "Setting up bwa (0.7.17-1) ...\n",
            "Processing triggers for man-db (2.8.3-2ubuntu0.1) ...\n"
          ],
          "name": "stdout"
        }
      ]
    },
    {
      "metadata": {
        "id": "5H8JIcAiJ07V",
        "colab_type": "code",
        "colab": {}
      },
      "cell_type": "code",
      "source": [
        "mkdir test_sra"
      ],
      "execution_count": 0,
      "outputs": []
    },
    {
      "metadata": {
        "id": "-3hXW4H_LDTK",
        "colab_type": "code",
        "outputId": "60c27206-755c-4f7c-ed71-172269ba4d88",
        "colab": {
          "base_uri": "https://localhost:8080/",
          "height": 34
        }
      },
      "cell_type": "code",
      "source": [
        "# reference file을 indexing하지 않고 바로 bwa mem을 했을 때\n",
        "! bwa mem -o ./test_sra/SRR8704599.sam ./test_references/GCA_004358985.1_ASM435898v1_genomic.fna ./sra/SRR8704599_1.fastq.gz ./sra/SRR8704599_2.fastq.gz"
      ],
      "execution_count": 0,
      "outputs": [
        {
          "output_type": "stream",
          "text": [
            "[E::bwa_idx_load_from_disk] fail to locate the index files\n"
          ],
          "name": "stdout"
        }
      ]
    },
    {
      "metadata": {
        "id": "6FluRw8aLKFe",
        "colab_type": "code",
        "outputId": "24e927d7-7931-4b01-f3aa-5dd5f37486e1",
        "colab": {
          "base_uri": "https://localhost:8080/",
          "height": 175
        }
      },
      "cell_type": "code",
      "source": [
        "# reference file을 indexing하고 난 후\n",
        "! bwa index ./test_references/GCA_004358985.1_ASM435898v1_genomic.fna"
      ],
      "execution_count": 0,
      "outputs": [
        {
          "output_type": "stream",
          "text": [
            "[bwa_index] Pack FASTA... 0.05 sec\n",
            "[bwa_index] Construct BWT for the packed sequence...\n",
            "[bwa_index] 2.91 seconds elapse.\n",
            "[bwa_index] Update BWT... 0.04 sec\n",
            "[bwa_index] Pack forward-only FASTA... 0.03 sec\n",
            "[bwa_index] Construct SA from BWT and Occ... 0.80 sec\n",
            "[main] Version: 0.7.17-r1188\n",
            "[main] CMD: bwa index ./test_references/GCA_004358985.1_ASM435898v1_genomic.fna\n",
            "[main] Real time: 3.917 sec; CPU: 3.852 sec\n"
          ],
          "name": "stdout"
        }
      ]
    },
    {
      "metadata": {
        "id": "dD7iWzL7LZdf",
        "colab_type": "code",
        "outputId": "e7d1a3d1-995f-42b1-97e9-2285a2584fc6",
        "colab": {
          "base_uri": "https://localhost:8080/",
          "height": 7570
        }
      },
      "cell_type": "code",
      "source": [
        "# 위의 error난 명령어를 그대로 다시 실행\n",
        "! bwa mem -o ./test_sra/SRR8704599.sam ./test_references/GCA_004358985.1_ASM435898v1_genomic.fna ./sra/SRR8704599_1.fastq.gz ./sra/SRR8704599_2.fastq.gz"
      ],
      "execution_count": 0,
      "outputs": [
        {
          "output_type": "stream",
          "text": [
            "[M::bwa_idx_load_from_disk] read 0 ALT contigs\n",
            "[M::process] read 99782 sequences (10000119 bp)...\n",
            "[M::process] read 99790 sequences (10000081 bp)...\n",
            "[M::mem_pestat] # candidate unique pairs for (FF, FR, RF, RR): (11, 33689, 9, 4)\n",
            "[M::mem_pestat] analyzing insert size distribution for orientation FF...\n",
            "[M::mem_pestat] (25, 50, 75) percentile: (217, 253, 345)\n",
            "[M::mem_pestat] low and high boundaries for computing mean and std.dev: (1, 601)\n",
            "[M::mem_pestat] mean and std.dev: (224.67, 89.56)\n",
            "[M::mem_pestat] low and high boundaries for proper pairs: (1, 729)\n",
            "[M::mem_pestat] analyzing insert size distribution for orientation FR...\n",
            "[M::mem_pestat] (25, 50, 75) percentile: (264, 355, 479)\n",
            "[M::mem_pestat] low and high boundaries for computing mean and std.dev: (1, 909)\n",
            "[M::mem_pestat] mean and std.dev: (378.85, 161.76)\n",
            "[M::mem_pestat] low and high boundaries for proper pairs: (1, 1124)\n",
            "[M::mem_pestat] skip orientation RF as there are not enough pairs\n",
            "[M::mem_pestat] skip orientation RR as there are not enough pairs\n",
            "[M::mem_pestat] skip orientation FF\n",
            "[M::mem_process_seqs] Processed 99782 reads in 7.224 CPU sec, 7.374 real sec\n",
            "[M::process] read 99802 sequences (10000147 bp)...\n",
            "[M::mem_pestat] # candidate unique pairs for (FF, FR, RF, RR): (5, 33598, 10, 6)\n",
            "[M::mem_pestat] skip orientation FF as there are not enough pairs\n",
            "[M::mem_pestat] analyzing insert size distribution for orientation FR...\n",
            "[M::mem_pestat] (25, 50, 75) percentile: (264, 353, 478)\n",
            "[M::mem_pestat] low and high boundaries for computing mean and std.dev: (1, 906)\n",
            "[M::mem_pestat] mean and std.dev: (378.57, 161.07)\n",
            "[M::mem_pestat] low and high boundaries for proper pairs: (1, 1120)\n",
            "[M::mem_pestat] analyzing insert size distribution for orientation RF...\n",
            "[M::mem_pestat] (25, 50, 75) percentile: (121, 223, 2672)\n",
            "[M::mem_pestat] low and high boundaries for computing mean and std.dev: (1, 7774)\n",
            "[M::mem_pestat] mean and std.dev: (1073.00, 1449.69)\n",
            "[M::mem_pestat] low and high boundaries for proper pairs: (1, 10325)\n",
            "[M::mem_pestat] skip orientation RR as there are not enough pairs\n",
            "[M::mem_pestat] skip orientation RF\n",
            "[M::mem_process_seqs] Processed 99790 reads in 7.220 CPU sec, 6.858 real sec\n",
            "[M::process] read 99798 sequences (10000081 bp)...\n",
            "[M::mem_pestat] # candidate unique pairs for (FF, FR, RF, RR): (3, 33576, 6, 4)\n",
            "[M::mem_pestat] skip orientation FF as there are not enough pairs\n",
            "[M::mem_pestat] analyzing insert size distribution for orientation FR...\n",
            "[M::mem_pestat] (25, 50, 75) percentile: (263, 352, 474)\n",
            "[M::mem_pestat] low and high boundaries for computing mean and std.dev: (1, 896)\n",
            "[M::mem_pestat] mean and std.dev: (376.11, 159.79)\n",
            "[M::mem_pestat] low and high boundaries for proper pairs: (1, 1107)\n",
            "[M::mem_pestat] skip orientation RF as there are not enough pairs\n",
            "[M::mem_pestat] skip orientation RR as there are not enough pairs\n",
            "[M::mem_process_seqs] Processed 99802 reads in 7.223 CPU sec, 6.898 real sec\n",
            "[M::process] read 99794 sequences (10000017 bp)...\n",
            "[M::mem_pestat] # candidate unique pairs for (FF, FR, RF, RR): (3, 33646, 8, 3)\n",
            "[M::mem_pestat] skip orientation FF as there are not enough pairs\n",
            "[M::mem_pestat] analyzing insert size distribution for orientation FR...\n",
            "[M::mem_pestat] (25, 50, 75) percentile: (267, 355, 481)\n",
            "[M::mem_pestat] low and high boundaries for computing mean and std.dev: (1, 909)\n",
            "[M::mem_pestat] mean and std.dev: (380.51, 161.29)\n",
            "[M::mem_pestat] low and high boundaries for proper pairs: (1, 1123)\n",
            "[M::mem_pestat] skip orientation RF as there are not enough pairs\n",
            "[M::mem_pestat] skip orientation RR as there are not enough pairs\n",
            "[M::mem_process_seqs] Processed 99798 reads in 7.173 CPU sec, 6.878 real sec\n",
            "[M::process] read 99814 sequences (10000127 bp)...\n",
            "[M::mem_pestat] # candidate unique pairs for (FF, FR, RF, RR): (7, 33395, 7, 3)\n",
            "[M::mem_pestat] skip orientation FF as there are not enough pairs\n",
            "[M::mem_pestat] analyzing insert size distribution for orientation FR...\n",
            "[M::mem_pestat] (25, 50, 75) percentile: (259, 345, 464)\n",
            "[M::mem_pestat] low and high boundaries for computing mean and std.dev: (1, 874)\n",
            "[M::mem_pestat] mean and std.dev: (367.82, 154.00)\n",
            "[M::mem_pestat] low and high boundaries for proper pairs: (1, 1079)\n",
            "[M::mem_pestat] skip orientation RF as there are not enough pairs\n",
            "[M::mem_pestat] skip orientation RR as there are not enough pairs\n",
            "[M::mem_process_seqs] Processed 99794 reads in 7.418 CPU sec, 7.084 real sec\n",
            "[M::process] read 99774 sequences (10000179 bp)...\n",
            "[M::mem_pestat] # candidate unique pairs for (FF, FR, RF, RR): (7, 33512, 6, 4)\n",
            "[M::mem_pestat] skip orientation FF as there are not enough pairs\n",
            "[M::mem_pestat] analyzing insert size distribution for orientation FR...\n",
            "[M::mem_pestat] (25, 50, 75) percentile: (259, 346, 466)\n",
            "[M::mem_pestat] low and high boundaries for computing mean and std.dev: (1, 880)\n",
            "[M::mem_pestat] mean and std.dev: (369.23, 156.32)\n",
            "[M::mem_pestat] low and high boundaries for proper pairs: (1, 1087)\n",
            "[M::mem_pestat] skip orientation RF as there are not enough pairs\n",
            "[M::mem_pestat] skip orientation RR as there are not enough pairs\n",
            "[M::mem_process_seqs] Processed 99814 reads in 7.277 CPU sec, 6.989 real sec\n",
            "[M::process] read 99794 sequences (10000198 bp)...\n",
            "[M::mem_pestat] # candidate unique pairs for (FF, FR, RF, RR): (9, 33548, 7, 2)\n",
            "[M::mem_pestat] skip orientation FF as there are not enough pairs\n",
            "[M::mem_pestat] analyzing insert size distribution for orientation FR...\n",
            "[M::mem_pestat] (25, 50, 75) percentile: (261, 346, 469)\n",
            "[M::mem_pestat] low and high boundaries for computing mean and std.dev: (1, 885)\n",
            "[M::mem_pestat] mean and std.dev: (371.44, 155.67)\n",
            "[M::mem_pestat] low and high boundaries for proper pairs: (1, 1093)\n",
            "[M::mem_pestat] skip orientation RF as there are not enough pairs\n",
            "[M::mem_pestat] skip orientation RR as there are not enough pairs\n",
            "[M::mem_process_seqs] Processed 99774 reads in 7.466 CPU sec, 7.177 real sec\n",
            "[M::process] read 99736 sequences (10000188 bp)...\n",
            "[M::mem_pestat] # candidate unique pairs for (FF, FR, RF, RR): (5, 33847, 4, 5)\n",
            "[M::mem_pestat] skip orientation FF as there are not enough pairs\n",
            "[M::mem_pestat] analyzing insert size distribution for orientation FR...\n",
            "[M::mem_pestat] (25, 50, 75) percentile: (259, 344, 463)\n",
            "[M::mem_pestat] low and high boundaries for computing mean and std.dev: (1, 871)\n",
            "[M::mem_pestat] mean and std.dev: (368.44, 155.24)\n",
            "[M::mem_pestat] low and high boundaries for proper pairs: (1, 1075)\n",
            "[M::mem_pestat] skip orientation RF as there are not enough pairs\n",
            "[M::mem_pestat] skip orientation RR as there are not enough pairs\n",
            "[M::mem_process_seqs] Processed 99794 reads in 7.763 CPU sec, 7.540 real sec\n",
            "[M::process] read 99780 sequences (10000084 bp)...\n",
            "[M::mem_pestat] # candidate unique pairs for (FF, FR, RF, RR): (5, 33744, 6, 7)\n",
            "[M::mem_pestat] skip orientation FF as there are not enough pairs\n",
            "[M::mem_pestat] analyzing insert size distribution for orientation FR...\n",
            "[M::mem_pestat] (25, 50, 75) percentile: (268, 359, 490)\n",
            "[M::mem_pestat] low and high boundaries for computing mean and std.dev: (1, 934)\n",
            "[M::mem_pestat] mean and std.dev: (386.72, 166.68)\n",
            "[M::mem_pestat] low and high boundaries for proper pairs: (1, 1156)\n",
            "[M::mem_pestat] skip orientation RF as there are not enough pairs\n",
            "[M::mem_pestat] skip orientation RR as there are not enough pairs\n",
            "[M::mem_process_seqs] Processed 99736 reads in 7.499 CPU sec, 7.284 real sec\n",
            "[M::process] read 99766 sequences (10000176 bp)...\n",
            "[M::mem_pestat] # candidate unique pairs for (FF, FR, RF, RR): (4, 33760, 10, 7)\n",
            "[M::mem_pestat] skip orientation FF as there are not enough pairs\n",
            "[M::mem_pestat] analyzing insert size distribution for orientation FR...\n",
            "[M::mem_pestat] (25, 50, 75) percentile: (268, 361, 496)\n",
            "[M::mem_pestat] low and high boundaries for computing mean and std.dev: (1, 952)\n",
            "[M::mem_pestat] mean and std.dev: (389.55, 169.48)\n",
            "[M::mem_pestat] low and high boundaries for proper pairs: (1, 1180)\n",
            "[M::mem_pestat] analyzing insert size distribution for orientation RF...\n",
            "[M::mem_pestat] (25, 50, 75) percentile: (107, 215, 2577)\n",
            "[M::mem_pestat] low and high boundaries for computing mean and std.dev: (1, 7517)\n",
            "[M::mem_pestat] mean and std.dev: (1361.60, 1666.00)\n",
            "[M::mem_pestat] low and high boundaries for proper pairs: (1, 9987)\n",
            "[M::mem_pestat] skip orientation RR as there are not enough pairs\n",
            "[M::mem_pestat] skip orientation RF\n",
            "[M::mem_process_seqs] Processed 99780 reads in 7.101 CPU sec, 6.775 real sec\n",
            "[M::process] read 99778 sequences (10000116 bp)...\n",
            "[M::mem_pestat] # candidate unique pairs for (FF, FR, RF, RR): (6, 33680, 9, 4)\n",
            "[M::mem_pestat] skip orientation FF as there are not enough pairs\n",
            "[M::mem_pestat] analyzing insert size distribution for orientation FR...\n",
            "[M::mem_pestat] (25, 50, 75) percentile: (270, 363, 498)\n",
            "[M::mem_pestat] low and high boundaries for computing mean and std.dev: (1, 954)\n",
            "[M::mem_pestat] mean and std.dev: (391.66, 170.05)\n",
            "[M::mem_pestat] low and high boundaries for proper pairs: (1, 1182)\n",
            "[M::mem_pestat] skip orientation RF as there are not enough pairs\n",
            "[M::mem_pestat] skip orientation RR as there are not enough pairs\n",
            "[M::mem_process_seqs] Processed 99766 reads in 7.164 CPU sec, 6.819 real sec\n",
            "[M::process] read 99792 sequences (10000147 bp)...\n",
            "[M::mem_pestat] # candidate unique pairs for (FF, FR, RF, RR): (6, 33869, 9, 10)\n",
            "[M::mem_pestat] skip orientation FF as there are not enough pairs\n",
            "[M::mem_pestat] analyzing insert size distribution for orientation FR...\n",
            "[M::mem_pestat] (25, 50, 75) percentile: (270, 361, 495)\n",
            "[M::mem_pestat] low and high boundaries for computing mean and std.dev: (1, 945)\n",
            "[M::mem_pestat] mean and std.dev: (389.66, 168.02)\n",
            "[M::mem_pestat] low and high boundaries for proper pairs: (1, 1170)\n",
            "[M::mem_pestat] skip orientation RF as there are not enough pairs\n",
            "[M::mem_pestat] analyzing insert size distribution for orientation RR...\n",
            "[M::mem_pestat] (25, 50, 75) percentile: (169, 243, 285)\n",
            "[M::mem_pestat] low and high boundaries for computing mean and std.dev: (1, 517)\n",
            "[M::mem_pestat] mean and std.dev: (209.25, 51.73)\n",
            "[M::mem_pestat] low and high boundaries for proper pairs: (1, 633)\n",
            "[M::mem_pestat] skip orientation RR\n",
            "[M::mem_process_seqs] Processed 99778 reads in 7.402 CPU sec, 7.047 real sec\n",
            "[M::process] read 99796 sequences (10000106 bp)...\n",
            "[M::mem_pestat] # candidate unique pairs for (FF, FR, RF, RR): (13, 33663, 8, 6)\n",
            "[M::mem_pestat] analyzing insert size distribution for orientation FF...\n",
            "[M::mem_pestat] (25, 50, 75) percentile: (191, 312, 1567)\n",
            "[M::mem_pestat] low and high boundaries for computing mean and std.dev: (1, 4319)\n",
            "[M::mem_pestat] mean and std.dev: (899.46, 1288.61)\n",
            "[M::mem_pestat] low and high boundaries for proper pairs: (1, 6054)\n",
            "[M::mem_pestat] analyzing insert size distribution for orientation FR...\n",
            "[M::mem_pestat] (25, 50, 75) percentile: (264, 355, 483)\n",
            "[M::mem_pestat] low and high boundaries for computing mean and std.dev: (1, 921)\n",
            "[M::mem_pestat] mean and std.dev: (381.01, 163.32)\n",
            "[M::mem_pestat] low and high boundaries for proper pairs: (1, 1140)\n",
            "[M::mem_pestat] skip orientation RF as there are not enough pairs\n",
            "[M::mem_pestat] skip orientation RR as there are not enough pairs\n",
            "[M::mem_pestat] skip orientation FF\n",
            "[M::mem_process_seqs] Processed 99792 reads in 7.488 CPU sec, 7.205 real sec\n",
            "[M::process] read 99772 sequences (10000011 bp)...\n",
            "[M::mem_pestat] # candidate unique pairs for (FF, FR, RF, RR): (5, 33579, 13, 5)\n",
            "[M::mem_pestat] skip orientation FF as there are not enough pairs\n",
            "[M::mem_pestat] analyzing insert size distribution for orientation FR...\n",
            "[M::mem_pestat] (25, 50, 75) percentile: (262, 353, 481)\n",
            "[M::mem_pestat] low and high boundaries for computing mean and std.dev: (1, 919)\n",
            "[M::mem_pestat] mean and std.dev: (379.41, 163.43)\n",
            "[M::mem_pestat] low and high boundaries for proper pairs: (1, 1138)\n",
            "[M::mem_pestat] analyzing insert size distribution for orientation RF...\n",
            "[M::mem_pestat] (25, 50, 75) percentile: (19, 155, 228)\n",
            "[M::mem_pestat] low and high boundaries for computing mean and std.dev: (1, 646)\n",
            "[M::mem_pestat] mean and std.dev: (117.42, 88.44)\n",
            "[M::mem_pestat] low and high boundaries for proper pairs: (1, 855)\n",
            "[M::mem_pestat] skip orientation RR as there are not enough pairs\n",
            "[M::mem_pestat] skip orientation RF\n",
            "[M::mem_process_seqs] Processed 99796 reads in 7.649 CPU sec, 7.362 real sec\n",
            "[M::process] read 99778 sequences (10000128 bp)...\n",
            "[M::mem_pestat] # candidate unique pairs for (FF, FR, RF, RR): (4, 33711, 5, 7)\n",
            "[M::mem_pestat] skip orientation FF as there are not enough pairs\n",
            "[M::mem_pestat] analyzing insert size distribution for orientation FR...\n",
            "[M::mem_pestat] (25, 50, 75) percentile: (263, 355, 485)\n",
            "[M::mem_pestat] low and high boundaries for computing mean and std.dev: (1, 929)\n",
            "[M::mem_pestat] mean and std.dev: (382.11, 166.42)\n",
            "[M::mem_pestat] low and high boundaries for proper pairs: (1, 1151)\n",
            "[M::mem_pestat] skip orientation RF as there are not enough pairs\n",
            "[M::mem_pestat] skip orientation RR as there are not enough pairs\n",
            "[M::mem_process_seqs] Processed 99772 reads in 7.288 CPU sec, 7.046 real sec\n",
            "[M::process] read 99762 sequences (10000156 bp)...\n",
            "[M::mem_pestat] # candidate unique pairs for (FF, FR, RF, RR): (5, 33707, 4, 6)\n",
            "[M::mem_pestat] skip orientation FF as there are not enough pairs\n",
            "[M::mem_pestat] analyzing insert size distribution for orientation FR...\n",
            "[M::mem_pestat] (25, 50, 75) percentile: (263, 352, 477)\n",
            "[M::mem_pestat] low and high boundaries for computing mean and std.dev: (1, 905)\n",
            "[M::mem_pestat] mean and std.dev: (376.76, 160.15)\n",
            "[M::mem_pestat] low and high boundaries for proper pairs: (1, 1119)\n",
            "[M::mem_pestat] skip orientation RF as there are not enough pairs\n",
            "[M::mem_pestat] skip orientation RR as there are not enough pairs\n",
            "[M::mem_process_seqs] Processed 99778 reads in 7.289 CPU sec, 7.020 real sec\n",
            "[M::process] read 99760 sequences (10000079 bp)...\n",
            "[M::mem_pestat] # candidate unique pairs for (FF, FR, RF, RR): (5, 33682, 13, 8)\n",
            "[M::mem_pestat] skip orientation FF as there are not enough pairs\n",
            "[M::mem_pestat] analyzing insert size distribution for orientation FR...\n",
            "[M::mem_pestat] (25, 50, 75) percentile: (264, 356, 484)\n",
            "[M::mem_pestat] low and high boundaries for computing mean and std.dev: (1, 924)\n",
            "[M::mem_pestat] mean and std.dev: (382.22, 163.67)\n",
            "[M::mem_pestat] low and high boundaries for proper pairs: (1, 1144)\n",
            "[M::mem_pestat] analyzing insert size distribution for orientation RF...\n",
            "[M::mem_pestat] (25, 50, 75) percentile: (66, 144, 2113)\n",
            "[M::mem_pestat] low and high boundaries for computing mean and std.dev: (1, 6207)\n",
            "[M::mem_pestat] mean and std.dev: (600.83, 1147.28)\n",
            "[M::mem_pestat] low and high boundaries for proper pairs: (1, 8254)\n",
            "[M::mem_pestat] skip orientation RR as there are not enough pairs\n",
            "[M::mem_pestat] skip orientation RF\n",
            "[M::mem_process_seqs] Processed 99762 reads in 7.328 CPU sec, 7.066 real sec\n",
            "[M::process] read 99762 sequences (10000077 bp)...\n",
            "[M::mem_pestat] # candidate unique pairs for (FF, FR, RF, RR): (4, 33723, 8, 6)\n",
            "[M::mem_pestat] skip orientation FF as there are not enough pairs\n",
            "[M::mem_pestat] analyzing insert size distribution for orientation FR...\n",
            "[M::mem_pestat] (25, 50, 75) percentile: (268, 361, 491)\n",
            "[M::mem_pestat] low and high boundaries for computing mean and std.dev: (1, 937)\n",
            "[M::mem_pestat] mean and std.dev: (387.88, 166.95)\n",
            "[M::mem_pestat] low and high boundaries for proper pairs: (1, 1160)\n",
            "[M::mem_pestat] skip orientation RF as there are not enough pairs\n",
            "[M::mem_pestat] skip orientation RR as there are not enough pairs\n",
            "[M::mem_process_seqs] Processed 99760 reads in 7.411 CPU sec, 7.076 real sec\n",
            "[M::process] read 99760 sequences (10000033 bp)...\n",
            "[M::mem_pestat] # candidate unique pairs for (FF, FR, RF, RR): (4, 33529, 5, 7)\n",
            "[M::mem_pestat] skip orientation FF as there are not enough pairs\n",
            "[M::mem_pestat] analyzing insert size distribution for orientation FR...\n",
            "[M::mem_pestat] (25, 50, 75) percentile: (268, 359, 486)\n",
            "[M::mem_pestat] low and high boundaries for computing mean and std.dev: (1, 922)\n",
            "[M::mem_pestat] mean and std.dev: (383.91, 162.82)\n",
            "[M::mem_pestat] low and high boundaries for proper pairs: (1, 1140)\n",
            "[M::mem_pestat] skip orientation RF as there are not enough pairs\n",
            "[M::mem_pestat] skip orientation RR as there are not enough pairs\n",
            "[M::mem_process_seqs] Processed 99762 reads in 7.175 CPU sec, 6.991 real sec\n",
            "[M::process] read 99790 sequences (10000037 bp)...\n",
            "[M::mem_pestat] # candidate unique pairs for (FF, FR, RF, RR): (4, 33628, 3, 9)\n",
            "[M::mem_pestat] skip orientation FF as there are not enough pairs\n",
            "[M::mem_pestat] analyzing insert size distribution for orientation FR...\n",
            "[M::mem_pestat] (25, 50, 75) percentile: (266, 357, 487)\n",
            "[M::mem_pestat] low and high boundaries for computing mean and std.dev: (1, 929)\n",
            "[M::mem_pestat] mean and std.dev: (385.08, 165.65)\n",
            "[M::mem_pestat] low and high boundaries for proper pairs: (1, 1150)\n",
            "[M::mem_pestat] skip orientation RF as there are not enough pairs\n",
            "[M::mem_pestat] skip orientation RR as there are not enough pairs\n",
            "[M::mem_process_seqs] Processed 99760 reads in 7.547 CPU sec, 7.221 real sec\n",
            "[M::process] read 99788 sequences (10000178 bp)...\n",
            "[M::mem_pestat] # candidate unique pairs for (FF, FR, RF, RR): (7, 33469, 5, 7)\n",
            "[M::mem_pestat] skip orientation FF as there are not enough pairs\n",
            "[M::mem_pestat] analyzing insert size distribution for orientation FR...\n",
            "[M::mem_pestat] (25, 50, 75) percentile: (264, 354, 480)\n",
            "[M::mem_pestat] low and high boundaries for computing mean and std.dev: (1, 912)\n",
            "[M::mem_pestat] mean and std.dev: (379.47, 162.16)\n",
            "[M::mem_pestat] low and high boundaries for proper pairs: (1, 1128)\n",
            "[M::mem_pestat] skip orientation RF as there are not enough pairs\n",
            "[M::mem_pestat] skip orientation RR as there are not enough pairs\n",
            "[M::mem_process_seqs] Processed 99790 reads in 7.267 CPU sec, 6.980 real sec\n",
            "[M::process] read 99790 sequences (10000084 bp)...\n",
            "[M::mem_pestat] # candidate unique pairs for (FF, FR, RF, RR): (3, 33484, 8, 9)\n",
            "[M::mem_pestat] skip orientation FF as there are not enough pairs\n",
            "[M::mem_pestat] analyzing insert size distribution for orientation FR...\n",
            "[M::mem_pestat] (25, 50, 75) percentile: (261, 349, 472)\n",
            "[M::mem_pestat] low and high boundaries for computing mean and std.dev: (1, 894)\n",
            "[M::mem_pestat] mean and std.dev: (374.51, 159.18)\n",
            "[M::mem_pestat] low and high boundaries for proper pairs: (1, 1105)\n",
            "[M::mem_pestat] skip orientation RF as there are not enough pairs\n",
            "[M::mem_pestat] skip orientation RR as there are not enough pairs\n",
            "[M::mem_process_seqs] Processed 99788 reads in 7.701 CPU sec, 7.356 real sec\n",
            "[M::process] read 99788 sequences (10000073 bp)...\n",
            "[M::mem_pestat] # candidate unique pairs for (FF, FR, RF, RR): (4, 33514, 6, 4)\n",
            "[M::mem_pestat] skip orientation FF as there are not enough pairs\n",
            "[M::mem_pestat] analyzing insert size distribution for orientation FR...\n",
            "[M::mem_pestat] (25, 50, 75) percentile: (261, 346, 468)\n",
            "[M::mem_pestat] low and high boundaries for computing mean and std.dev: (1, 882)\n",
            "[M::mem_pestat] mean and std.dev: (371.03, 155.47)\n",
            "[M::mem_pestat] low and high boundaries for proper pairs: (1, 1089)\n",
            "[M::mem_pestat] skip orientation RF as there are not enough pairs\n",
            "[M::mem_pestat] skip orientation RR as there are not enough pairs\n",
            "[M::mem_process_seqs] Processed 99790 reads in 7.793 CPU sec, 7.497 real sec\n",
            "[M::process] read 99812 sequences (10000095 bp)...\n",
            "[M::mem_pestat] # candidate unique pairs for (FF, FR, RF, RR): (8, 33454, 9, 9)\n",
            "[M::mem_pestat] skip orientation FF as there are not enough pairs\n",
            "[M::mem_pestat] analyzing insert size distribution for orientation FR...\n",
            "[M::mem_pestat] (25, 50, 75) percentile: (261, 349, 472)\n",
            "[M::mem_pestat] low and high boundaries for computing mean and std.dev: (1, 894)\n",
            "[M::mem_pestat] mean and std.dev: (373.26, 159.04)\n",
            "[M::mem_pestat] low and high boundaries for proper pairs: (1, 1105)\n",
            "[M::mem_pestat] skip orientation RF as there are not enough pairs\n",
            "[M::mem_pestat] skip orientation RR as there are not enough pairs\n",
            "[M::mem_process_seqs] Processed 99788 reads in 7.819 CPU sec, 7.543 real sec\n",
            "[M::process] read 99746 sequences (10000108 bp)...\n",
            "[M::mem_pestat] # candidate unique pairs for (FF, FR, RF, RR): (2, 33653, 8, 8)\n",
            "[M::mem_pestat] skip orientation FF as there are not enough pairs\n",
            "[M::mem_pestat] analyzing insert size distribution for orientation FR...\n",
            "[M::mem_pestat] (25, 50, 75) percentile: (260, 346, 467)\n",
            "[M::mem_pestat] low and high boundaries for computing mean and std.dev: (1, 881)\n",
            "[M::mem_pestat] mean and std.dev: (369.46, 154.96)\n",
            "[M::mem_pestat] low and high boundaries for proper pairs: (1, 1088)\n",
            "[M::mem_pestat] skip orientation RF as there are not enough pairs\n",
            "[M::mem_pestat] skip orientation RR as there are not enough pairs\n",
            "[M::mem_process_seqs] Processed 99812 reads in 7.295 CPU sec, 7.045 real sec\n",
            "[M::process] read 99774 sequences (10000186 bp)...\n",
            "[M::mem_pestat] # candidate unique pairs for (FF, FR, RF, RR): (16, 33809, 9, 8)\n",
            "[M::mem_pestat] analyzing insert size distribution for orientation FF...\n",
            "[M::mem_pestat] (25, 50, 75) percentile: (343, 433, 598)\n",
            "[M::mem_pestat] low and high boundaries for computing mean and std.dev: (1, 1108)\n",
            "[M::mem_pestat] mean and std.dev: (470.93, 244.15)\n",
            "[M::mem_pestat] low and high boundaries for proper pairs: (1, 1448)\n",
            "[M::mem_pestat] analyzing insert size distribution for orientation FR...\n",
            "[M::mem_pestat] (25, 50, 75) percentile: (270, 362, 497)\n",
            "[M::mem_pestat] low and high boundaries for computing mean and std.dev: (1, 951)\n",
            "[M::mem_pestat] mean and std.dev: (391.27, 170.54)\n",
            "[M::mem_pestat] low and high boundaries for proper pairs: (1, 1178)\n",
            "[M::mem_pestat] skip orientation RF as there are not enough pairs\n",
            "[M::mem_pestat] skip orientation RR as there are not enough pairs\n",
            "[M::mem_pestat] skip orientation FF\n",
            "[M::mem_process_seqs] Processed 99746 reads in 7.358 CPU sec, 7.086 real sec\n",
            "[M::process] read 99742 sequences (10000123 bp)...\n",
            "[M::mem_pestat] # candidate unique pairs for (FF, FR, RF, RR): (5, 33564, 9, 4)\n",
            "[M::mem_pestat] skip orientation FF as there are not enough pairs\n",
            "[M::mem_pestat] analyzing insert size distribution for orientation FR...\n",
            "[M::mem_pestat] (25, 50, 75) percentile: (274, 368, 506)\n",
            "[M::mem_pestat] low and high boundaries for computing mean and std.dev: (1, 970)\n",
            "[M::mem_pestat] mean and std.dev: (397.37, 172.73)\n",
            "[M::mem_pestat] low and high boundaries for proper pairs: (1, 1202)\n",
            "[M::mem_pestat] skip orientation RF as there are not enough pairs\n",
            "[M::mem_pestat] skip orientation RR as there are not enough pairs\n",
            "[M::mem_process_seqs] Processed 99774 reads in 7.234 CPU sec, 6.920 real sec\n",
            "[M::process] read 99772 sequences (10000068 bp)...\n",
            "[M::mem_pestat] # candidate unique pairs for (FF, FR, RF, RR): (12, 33793, 6, 5)\n",
            "[M::mem_pestat] analyzing insert size distribution for orientation FF...\n",
            "[M::mem_pestat] (25, 50, 75) percentile: (225, 331, 534)\n",
            "[M::mem_pestat] low and high boundaries for computing mean and std.dev: (1, 1152)\n",
            "[M::mem_pestat] mean and std.dev: (332.00, 164.80)\n",
            "[M::mem_pestat] low and high boundaries for proper pairs: (1, 1461)\n",
            "[M::mem_pestat] analyzing insert size distribution for orientation FR...\n",
            "[M::mem_pestat] (25, 50, 75) percentile: (273, 367, 506)\n",
            "[M::mem_pestat] low and high boundaries for computing mean and std.dev: (1, 972)\n",
            "[M::mem_pestat] mean and std.dev: (397.93, 174.39)\n",
            "[M::mem_pestat] low and high boundaries for proper pairs: (1, 1205)\n",
            "[M::mem_pestat] skip orientation RF as there are not enough pairs\n",
            "[M::mem_pestat] skip orientation RR as there are not enough pairs\n",
            "[M::mem_pestat] skip orientation FF\n",
            "[M::mem_process_seqs] Processed 99742 reads in 7.505 CPU sec, 7.131 real sec\n",
            "[M::process] read 99782 sequences (10000025 bp)...\n",
            "[M::mem_pestat] # candidate unique pairs for (FF, FR, RF, RR): (4, 33632, 8, 6)\n",
            "[M::mem_pestat] skip orientation FF as there are not enough pairs\n",
            "[M::mem_pestat] analyzing insert size distribution for orientation FR...\n",
            "[M::mem_pestat] (25, 50, 75) percentile: (269, 365, 501)\n",
            "[M::mem_pestat] low and high boundaries for computing mean and std.dev: (1, 965)\n",
            "[M::mem_pestat] mean and std.dev: (394.09, 172.95)\n",
            "[M::mem_pestat] low and high boundaries for proper pairs: (1, 1197)\n",
            "[M::mem_pestat] skip orientation RF as there are not enough pairs\n",
            "[M::mem_pestat] skip orientation RR as there are not enough pairs\n",
            "[M::mem_process_seqs] Processed 99772 reads in 7.480 CPU sec, 7.105 real sec\n",
            "[M::process] read 99786 sequences (10000162 bp)...\n",
            "[M::mem_pestat] # candidate unique pairs for (FF, FR, RF, RR): (8, 33538, 9, 4)\n",
            "[M::mem_pestat] skip orientation FF as there are not enough pairs\n",
            "[M::mem_pestat] analyzing insert size distribution for orientation FR...\n",
            "[M::mem_pestat] (25, 50, 75) percentile: (268, 361, 495)\n",
            "[M::mem_pestat] low and high boundaries for computing mean and std.dev: (1, 949)\n",
            "[M::mem_pestat] mean and std.dev: (389.56, 170.45)\n",
            "[M::mem_pestat] low and high boundaries for proper pairs: (1, 1176)\n",
            "[M::mem_pestat] skip orientation RF as there are not enough pairs\n",
            "[M::mem_pestat] skip orientation RR as there are not enough pairs\n",
            "[M::mem_process_seqs] Processed 99782 reads in 7.146 CPU sec, 6.874 real sec\n",
            "[M::process] read 99788 sequences (10000142 bp)...\n",
            "[M::mem_pestat] # candidate unique pairs for (FF, FR, RF, RR): (10, 33729, 9, 5)\n",
            "[M::mem_pestat] analyzing insert size distribution for orientation FF...\n",
            "[M::mem_pestat] (25, 50, 75) percentile: (239, 351, 454)\n",
            "[M::mem_pestat] low and high boundaries for computing mean and std.dev: (1, 884)\n",
            "[M::mem_pestat] mean and std.dev: (318.22, 102.09)\n",
            "[M::mem_pestat] low and high boundaries for proper pairs: (1, 1099)\n",
            "[M::mem_pestat] analyzing insert size distribution for orientation FR...\n",
            "[M::mem_pestat] (25, 50, 75) percentile: (264, 355, 485)\n",
            "[M::mem_pestat] low and high boundaries for computing mean and std.dev: (1, 927)\n",
            "[M::mem_pestat] mean and std.dev: (382.45, 165.03)\n",
            "[M::mem_pestat] low and high boundaries for proper pairs: (1, 1148)\n",
            "[M::mem_pestat] skip orientation RF as there are not enough pairs\n",
            "[M::mem_pestat] skip orientation RR as there are not enough pairs\n",
            "[M::mem_pestat] skip orientation FF\n",
            "[M::mem_process_seqs] Processed 99786 reads in 7.112 CPU sec, 6.849 real sec\n",
            "[M::process] read 99742 sequences (10000091 bp)...\n",
            "[M::mem_pestat] # candidate unique pairs for (FF, FR, RF, RR): (7, 33633, 8, 8)\n",
            "[M::mem_pestat] skip orientation FF as there are not enough pairs\n",
            "[M::mem_pestat] analyzing insert size distribution for orientation FR...\n",
            "[M::mem_pestat] (25, 50, 75) percentile: (264, 355, 480)\n",
            "[M::mem_pestat] low and high boundaries for computing mean and std.dev: (1, 912)\n",
            "[M::mem_pestat] mean and std.dev: (380.21, 162.70)\n",
            "[M::mem_pestat] low and high boundaries for proper pairs: (1, 1128)\n",
            "[M::mem_pestat] skip orientation RF as there are not enough pairs\n",
            "[M::mem_pestat] skip orientation RR as there are not enough pairs\n",
            "[M::mem_process_seqs] Processed 99788 reads in 7.211 CPU sec, 6.907 real sec\n",
            "[M::process] read 56842 sequences (5696387 bp)...\n",
            "[M::mem_pestat] # candidate unique pairs for (FF, FR, RF, RR): (3, 33500, 6, 8)\n",
            "[M::mem_pestat] skip orientation FF as there are not enough pairs\n",
            "[M::mem_pestat] analyzing insert size distribution for orientation FR...\n",
            "[M::mem_pestat] (25, 50, 75) percentile: (265, 355, 486)\n",
            "[M::mem_pestat] low and high boundaries for computing mean and std.dev: (1, 928)\n",
            "[M::mem_pestat] mean and std.dev: (383.31, 165.08)\n",
            "[M::mem_pestat] low and high boundaries for proper pairs: (1, 1149)\n",
            "[M::mem_pestat] skip orientation RF as there are not enough pairs\n",
            "[M::mem_pestat] skip orientation RR as there are not enough pairs\n",
            "[M::mem_process_seqs] Processed 99742 reads in 7.352 CPU sec, 7.154 real sec\n",
            "[M::mem_pestat] # candidate unique pairs for (FF, FR, RF, RR): (4, 19189, 5, 2)\n",
            "[M::mem_pestat] skip orientation FF as there are not enough pairs\n",
            "[M::mem_pestat] analyzing insert size distribution for orientation FR...\n",
            "[M::mem_pestat] (25, 50, 75) percentile: (263, 353, 480)\n",
            "[M::mem_pestat] low and high boundaries for computing mean and std.dev: (1, 914)\n",
            "[M::mem_pestat] mean and std.dev: (379.23, 163.08)\n",
            "[M::mem_pestat] low and high boundaries for proper pairs: (1, 1131)\n",
            "[M::mem_pestat] skip orientation RF as there are not enough pairs\n",
            "[M::mem_pestat] skip orientation RR as there are not enough pairs\n",
            "[M::mem_process_seqs] Processed 56842 reads in 4.121 CPU sec, 4.001 real sec\n",
            "[main] Version: 0.7.17-r1188\n",
            "[main] CMD: bwa mem -o ./test_sra/SRR8704599.sam ./test_references/GCA_004358985.1_ASM435898v1_genomic.fna ./sra/SRR8704599_1.fastq.gz ./sra/SRR8704599_2.fastq.gz\n",
            "[main] Real time: 239.648 sec; CPU: 247.861 sec\n"
          ],
          "name": "stdout"
        }
      ]
    },
    {
      "metadata": {
        "id": "JtLFb0XpMCXx",
        "colab_type": "code",
        "outputId": "10a63c8b-8f31-4ae0-c7b3-0017a74f954b",
        "colab": {
          "base_uri": "https://localhost:8080/",
          "height": 52
        }
      },
      "cell_type": "code",
      "source": [
        "ll test_sra"
      ],
      "execution_count": 0,
      "outputs": [
        {
          "output_type": "stream",
          "text": [
            "total 927202\n",
            "-rw------- 1 root 949453870 Mar 28 02:49 SRR8704599.sam\n"
          ],
          "name": "stdout"
        }
      ]
    },
    {
      "metadata": {
        "id": "2n4KcrH3OtbI",
        "colab_type": "code",
        "outputId": "8442c876-7972-46be-8d63-5d763e6d9a4d",
        "colab": {
          "base_uri": "https://localhost:8080/",
          "height": 210
        }
      },
      "cell_type": "code",
      "source": [
        "ll sra"
      ],
      "execution_count": 0,
      "outputs": [
        {
          "output_type": "stream",
          "text": [
            "total 2542137\n",
            "-rw------- 1 root 276775626 Mar 12 14:30 SRR8700955.sra\n",
            "-rw------- 1 root 205232212 Mar 12 14:30 SRR8700956.sra\n",
            "-rw------- 1 root 263671194 Mar 12 14:29 SRR8700959.sra\n",
            "-rw------- 1 root  98145470 Mar 12 14:33 SRR8704599_1.fastq.gz\n",
            "-rw------- 1 root 101567003 Mar 12 14:33 SRR8704599_2.fastq.gz\n",
            "-rw------- 1 root 262943196 Mar 20 02:01 SRR8704599.bam\n",
            "-rw------- 1 root 120545722 Mar 20 02:07 SRR8704599.g.vcf\n",
            "-rw------- 1 root 948338438 Mar 20 01:24 SRR8704599.sam\n",
            "-rw------- 1 root 176258326 Mar 20 02:06 SRR8704599.sorted.bam\n",
            "-rw------- 1 root 149668594 Mar 12 09:15 SRR8704599.sra\n"
          ],
          "name": "stdout"
        }
      ]
    },
    {
      "metadata": {
        "id": "IEuhE31qhRig",
        "colab_type": "text"
      },
      "cell_type": "markdown",
      "source": [
        "bwa mem이 잘 수행되었음을 볼 수 있다. <br />\n",
        "Reference file을 indexing해주어야 bwa를 진행할 수 있다는 것을 확인할 수 있었다."
      ]
    }
  ]
}